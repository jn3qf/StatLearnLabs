{
  "nbformat": 4,
  "nbformat_minor": 0,
  "metadata": {
    "colab": {
      "name": "Lab1_ML_Bayes_yourID.ipynb",
      "provenance": [],
      "private_outputs": true,
      "collapsed_sections": [],
      "include_colab_link": true
    },
    "kernelspec": {
      "name": "python3",
      "display_name": "Python 3"
    }
  },
  "cells": [
    {
      "cell_type": "markdown",
      "metadata": {
        "id": "view-in-github",
        "colab_type": "text"
      },
      "source": [
        "<a href=\"https://colab.research.google.com/github/jn3qf/StatLearnLabs/blob/master/Lab1_ML_Bayes_jn3qf.ipynb\" target=\"_parent\"><img src=\"https://colab.research.google.com/assets/colab-badge.svg\" alt=\"Open In Colab\"/></a>"
      ]
    },
    {
      "cell_type": "code",
      "metadata": {
        "id": "wBlHTcv2-UMA",
        "colab_type": "code",
        "colab": {}
      },
      "source": [
        ""
      ],
      "execution_count": 0,
      "outputs": []
    },
    {
      "cell_type": "code",
      "metadata": {
        "colab_type": "code",
        "id": "lLBGA_h1x97N",
        "colab": {}
      },
      "source": [
        "%matplotlib inline\n",
        "import matplotlib.pyplot as plt\n",
        "from io import StringIO\n",
        "import numpy as np\n",
        "import scipy as sp\n",
        "import scipy.stats as st\n",
        "from IPython.display import Latex,display,Math\n",
        "import pandas as pd\n",
        "print(\"Modules Imported!\")"
      ],
      "execution_count": 0,
      "outputs": []
    },
    {
      "cell_type": "markdown",
      "metadata": {
        "colab_type": "text",
        "id": "MRwB7lLRx97T"
      },
      "source": [
        "# Maximum Likelihood Estimation\n",
        "## Properties of MLE"
      ]
    },
    {
      "cell_type": "markdown",
      "metadata": {
        "colab_type": "text",
        "id": "XfwDVdBJx97U"
      },
      "source": [
        "__Task:__ Write a function that, given samples drawn from $\\mathcal{N}(\\mu,\\sigma^2)$, returns the maximum likelihood estimates of $\\mu$ and $\\sigma^2$."
      ]
    },
    {
      "cell_type": "code",
      "metadata": {
        "colab_type": "code",
        "id": "LMjzw8Nmx97W",
        "colab": {}
      },
      "source": [
        "def NormML(y): # y is a one dimensional array containing the samples\n",
        "    #...\n",
        "    return [mu_hat, sigma_hat]"
      ],
      "execution_count": 0,
      "outputs": []
    },
    {
      "cell_type": "markdown",
      "metadata": {
        "colab_type": "text",
        "id": "ixiW2iIDx97Z"
      },
      "source": [
        "### Bias\n",
        "The tendency of an estimator to over- or under-estimate can be measured by its bias. We now want to see the effect of bias via simulation. \n",
        "\n",
        "__Task:__ Generate 10000 batches of $\\mathcal{N}(3,4)$ samples, each containing 10 samples. Using the function NormML above, compute the ML estimates for $\\mu$ and  $\\sigma$ for each batch (so you will have 10,000 estimates of the same $\\mu$ and $\\sigma$). Find the empirical bias (based on simulation) and compare these with the theoretical bias for the ML estimates of $\\mu$ and $\\sigma$. Is there a difference between the behaviors for the mean and the variance?\n",
        "\n"
      ]
    },
    {
      "cell_type": "code",
      "metadata": {
        "colab_type": "code",
        "id": "W8qXwN8gx97a",
        "colab": {}
      },
      "source": [
        "theta0 = [3,4] #[mean,variance]\n",
        "mynorm = st.norm(theta0[0],np.sqrt(theta0[1]))\n",
        "N = 10000 # number of batches\n",
        "n = 10 # samples per batch\n",
        "y = mynorm.rvs([N,n])\n",
        "\n",
        "#..."
      ],
      "execution_count": 0,
      "outputs": []
    },
    {
      "cell_type": "markdown",
      "metadata": {
        "colab_type": "text",
        "id": "0NLj-bKIx97e"
      },
      "source": [
        "### Consistentcy\n",
        "Intuitively, _an estimator is consistent if it gives us the correct solution when we have lots of data_. To see this formally, consider a data set of iid samples $\\{y_1,\\dotsc,y_N\\}$ where the distribution of the $y_i$ depends on some parameter $\\theta$. Let $\\hat\\theta_N$ be the estimator for $\\theta$ based on this data set. We'd like to see how the accuracy of this estimator changes as $N\\to\\infty$. In particular, _the estimator is said to be consistent if $\\hat\\theta_N$ gets closer and closer to the true value $\\theta_0$_. That is, for all $\\epsilon>0$,\n",
        "$$ \\lim_{N\\to\\infty} \\Pr(|\\hat\\theta_N-\\theta|>\\epsilon)=0.$$\n",
        "\n",
        "___\n",
        "__Task:__ Generate a vector $y$ consisting of $N$ normal samples drawn from $\\mathcal{N}(\\mu_0,\\sigma_0^2)$ for $\\mu_0=3$, $\\sigma_0^2=4$ and a large value of $N$, say $N=500$. Then compute the estimates for $\\mu_0$ and $\\sigma^2_0$ using the first $n$ sample (that is `y[0:n]`) as $n$ ranges from 10 to $N$, choosing an appropriate step size. Plot the result and discuss it in the context of consistency. Does ML appear to be consistent?"
      ]
    },
    {
      "cell_type": "code",
      "metadata": {
        "colab_type": "code",
        "id": "Uv2j0uqqx97f",
        "colab": {}
      },
      "source": [
        "theta0 = [3,4] #[mean,variance]\n",
        "#...."
      ],
      "execution_count": 0,
      "outputs": []
    },
    {
      "cell_type": "markdown",
      "metadata": {
        "colab_type": "text",
        "id": "mpdObzuAx97j"
      },
      "source": [
        "## Multivariate Normal Estimation"
      ]
    },
    {
      "cell_type": "markdown",
      "metadata": {
        "colab_type": "text",
        "id": "Aou5slfYx97k"
      },
      "source": [
        "Consider the dataset $\\{x_1,\\dotsc,x_N\\}$, where each $x_i$ is a vector of size $m$. Assuming this data is multivariate normal, i.e., $x_i\\sim \\mathcal N(\\mu,K)$, we would like to find estimate $\\mu$ and $K$ using maximum likelihood.\n",
        "___\n",
        "__Task:__ Write a module for estimating $\\mu$ and $K$. Assume that the input is a $N\\times m$ array $X$, where each row $x_i$ of $X$ is an $m$-dimensional data sample, with distribution $x_i\\sim \\mathcal N(\\mu,K)$."
      ]
    },
    {
      "cell_type": "code",
      "metadata": {
        "colab_type": "code",
        "id": "T90DuQW3x97l",
        "colab": {}
      },
      "source": [
        "def MultiVarNormML(X): # Each row of X is one sample x_i and each column corresponds to a dimension/feauter\n",
        "    # ...\n",
        "    return muhat,Khat"
      ],
      "execution_count": 0,
      "outputs": []
    },
    {
      "cell_type": "markdown",
      "metadata": {
        "colab_type": "text",
        "id": "u3r5P00hx97s"
      },
      "source": [
        "We will use this estimator to explore relationships from a [dataset](http://archive.ics.uci.edu/ml/datasets/student+performance) about math performance for a group of students. The data is at the end of the notebook and needs to be loaded. **Make sure you run the last cell of this notebook before continueing.** After reading the data, we normalize the columns that we care about to have variance equal to 1. These columns/features are:\n",
        "0. studytime - weekly study time (numeric: 1 - <2 hours, 2 - 2 to 5 hours, 3 - 5 to 10 hours, or 4 - >10 hours)\n",
        "1. goout - going out with friends (numeric: from 1 - very low to 5 - very high)\n",
        "2. failures - number of past class failures (numeric: n if 1<=n<3, else 4)\n",
        "3. Medu - mother's education (numeric: 0 - none,  1 - primary education (4th grade), 2 – 5th to 9th grade, 3 – secondary education or 4 – higher education)\n",
        "4. Fedu - father's education (numeric: 0 - none,  1 - primary education (4th grade), 2 – 5th to 9th grade, 3 – secondary education or 4 – higher education)\n",
        "5. G3 - final grade (numeric: from 0 to 20, output target)"
      ]
    },
    {
      "cell_type": "code",
      "metadata": {
        "colab_type": "code",
        "id": "RPnfnFOhx97t",
        "colab": {}
      },
      "source": [
        "# Execute the last cell of the notebook before this cell!\n",
        "T=pd.read_csv(data_csv,delimiter=';') #make sure to run the very last cell in this colab notebook to generate the csv before running this cell\n",
        "dims = ['studytime','goout','failures','Medu','Fedu','G3']\n",
        "for s in dims:\n",
        "    T[s] = T[s]/np.std(T[s])\n",
        "X = T[dims].values"
      ],
      "execution_count": 0,
      "outputs": []
    },
    {
      "cell_type": "markdown",
      "metadata": {
        "colab_type": "text",
        "id": "pbS_8scdx97w"
      },
      "source": [
        "__Task:__ Find the ML estimate of $K$ for this data and discuss a couple of relationships that you observe. In particular, what appears to be more strongly correlated with final grade: mother's or father's education? [Hint: Use the module you created in prior task to attain the estimates and print out $\\hat K$ and also plot it using the matshow function from matplotlib]"
      ]
    },
    {
      "cell_type": "code",
      "metadata": {
        "colab_type": "code",
        "id": "MrOGOPZ0x97x",
        "colab": {}
      },
      "source": [
        "# ..."
      ],
      "execution_count": 0,
      "outputs": []
    },
    {
      "cell_type": "markdown",
      "metadata": {
        "colab_type": "text",
        "id": "LM8DqJBCx971"
      },
      "source": [
        "_____\n",
        "_____\n",
        "### One more estimator property: Asymptotic Normality\n",
        "From the asymptotic normality of the ML estimator we have\n",
        "$$\\sqrt{n}(\\hat\\mu_{ML}-\\mu)\\to N(0,I^{-1}(\\mu))$$\n",
        "where $I$ is the Fisher information and in this case equals $I(\\mu)=\\frac{1}{\\sigma^2}$.\n",
        "\n",
        "And for $\\sigma^2$,\n",
        "$$\\sqrt{n}({\\hat\\sigma^2}_{ML}-\\sigma^2)\\to N(0,I^{-1}(\\sigma^2)),$$\n",
        "where $I(\\sigma^2)=1/(2\\sigma^4)$. \n",
        "\n",
        "__Task:__ Using the batches and estimates from [the Bias section](#Bias), plot the histograms for the estimates (multiplied by $\\sqrt{n}$ as above) and compare them with the limit distribution given on the right side of the above expressions. Are the approximations by the limit distributions accurate to the same degree for both mean and the variance? If not, why do you think that is the case? (You can try with batches with more samples and verify that for large batches, they become increasingly better approximations)."
      ]
    },
    {
      "cell_type": "code",
      "metadata": {
        "colab_type": "code",
        "id": "mi5mYkJ_x972",
        "colab": {}
      },
      "source": [
        "# histogram for the distribution of estimate of the mean\n",
        "plt.hist([(m-theta0[0])*np.sqrt(n) for m in mu_hats],50,normed=True);\n",
        "r = np.linspace(-3*np.sqrt(theta0[1]),3*np.sqrt(theta0[1]),100);\n",
        "plt.plot(r,st.norm.pdf(r,0,np.sqrt(theta0[1])),'r',linewidth=2); # we use sqrt since python requires std rather than var\n",
        "plt.figure()\n",
        "\n",
        "# histogram for the distribution of estimate of the variance\n",
        "# ..."
      ],
      "execution_count": 0,
      "outputs": []
    },
    {
      "cell_type": "markdown",
      "metadata": {
        "colab_type": "text",
        "id": "EXiUvcTkx975"
      },
      "source": [
        "# Bayesian Estimation"
      ]
    },
    {
      "cell_type": "markdown",
      "metadata": {
        "colab_type": "text",
        "id": "124r0hKzx976"
      },
      "source": [
        "## Bernoulli data and Beta prior\n",
        "Suppose you are given a sample of $n$ iid Bernoulli random variables with probability of success equal to $\\theta$. \n",
        "\n",
        "__Task:__ Write a function that produces the frozen posterior of $\\theta$ given a Beta prior with pramaters $\\alpha$ and $\\beta$. Recall that a frozen RV is an object representing an RV with fixed parameters, e.g., \n",
        "```\n",
        "rv = st.beta(a, b)\n",
        "```\n",
        "and can be called for example to compute the pdf at a certain point as \n",
        "```\n",
        "rv.pdf(0.3)\n",
        "```"
      ]
    },
    {
      "cell_type": "code",
      "metadata": {
        "colab_type": "code",
        "id": "oKwhx8slx976",
        "colab": {}
      },
      "source": [
        "def bayesBernBeta(data,prior):\n",
        "    \"\"\" \n",
        "    input:\n",
        "    - data is an iid sample of Bernoulli RVs\n",
        "    - prior=[alpha,beta], prior Beta parameters\n",
        "    \"\"\"\n",
        "    #..."
      ],
      "execution_count": 0,
      "outputs": []
    },
    {
      "cell_type": "markdown",
      "metadata": {
        "colab_type": "text",
        "id": "vVwMz1uHx97-"
      },
      "source": [
        "___\n",
        "The data is given below, in three different sizes. "
      ]
    },
    {
      "cell_type": "code",
      "metadata": {
        "colab_type": "code",
        "id": "kFjfRb7Gx97-",
        "colab": {}
      },
      "source": [
        "# the data is a sample of 1000 iid bernoulli rvs\n",
        "sample = np.array([0, 1, 0, 0, 0, 1, 1, 1, 1, 1, 0, 0, 1, 0, 0, 0, 1, 0, 1, 0, 0, 0, 0, 1, 0, 1, 1, 0, 0, 0, 0, 0, 1, 1, 1, 0, 1, 0, 0, 0, 1, 0, 1, 1, 0, 0, 1, 1, 1, 1, 0, 0, 0, 1, 0, 1, 1, 0, 0, 0, 1, 1, 1, 0, 1, 1, 0, 0, 0, 0, 0, 0, 0, 1, 1, 1, 0, 0, 1, 1, 0, 0, 0, 1, 0, 0, 0, 0, 1, 0, 1, 1, 1, 0, 0, 1, 0, 0, 0, 1, 0, 0, 1, 0, 1, 0, 0, 0, 0, 0, 1, 1, 1, 1, 1, 1, 0, 1, 1, 0, 0, 1, 1, 1, 1, 0, 0, 1, 1, 0, 1, 0, 1, 0, 0, 0, 0, 0, 0, 0, 1, 1, 0, 0, 1, 0, 1, 0, 0, 0, 1, 0, 1, 0, 0, 0, 0, 1, 0, 0, 0, 0, 0, 0, 0, 0, 1, 0, 0, 0, 0, 1, 1, 0, 1, 1, 1, 1, 0, 0, 1, 0, 1, 0, 0, 0, 1, 1, 1, 0, 1, 1, 0, 1, 0, 1, 1, 0, 1, 0, 1, 1, 0, 1, 0, 1, 0, 0, 0, 0, 0, 0, 0, 1, 0, 1, 1, 0, 1, 0, 0, 0, 1, 1, 0, 0, 1, 1, 0, 0, 0, 0, 0, 1, 1, 1, 1, 0, 1, 0, 0, 1, 0, 1, 0, 0, 1, 1, 0, 0, 1, 1, 1, 1, 0, 1, 1, 1, 1, 0, 1, 1, 1, 0, 1, 0, 1, 0, 1, 0, 1, 1, 0, 0, 0, 1, 1, 0, 1, 0, 1, 0, 0, 1, 1, 1, 1, 1, 1, 1, 1, 1, 1, 1, 1, 1, 0, 1, 1, 0, 1, 0, 1, 0, 1, 1, 0, 0, 1, 1, 0, 1, 1, 0, 0, 1, 0, 0, 0, 1, 1, 0, 0, 1, 1, 1, 0, 0, 1, 0, 1, 0, 1, 1, 0, 0, 1, 0, 0, 0, 1, 1, 0, 1, 1, 1, 0, 0, 0, 1, 0, 1, 0, 0, 0, 0, 0, 0, 1, 1, 0, 1, 1, 0, 1, 0, 0, 1, 1, 1, 0, 1, 0, 0, 1, 0, 0, 0, 1, 0, 1, 1, 1, 1, 1, 1, 0, 1, 1, 0, 0, 1, 1, 0, 0, 0, 0, 0, 1, 1, 0, 0, 0, 1, 0, 1, 1, 1, 0, 1, 1, 0, 1, 1, 1, 0, 1, 0, 1, 0, 1, 1, 0, 0, 1, 1, 1, 0, 0, 1, 0, 1, 1, 1, 1, 0, 1, 0, 0, 1, 1, 1, 1, 1, 1, 1, 1, 1, 0, 1, 0, 1, 0, 1, 1, 0, 0, 0, 1, 1, 0, 0, 0, 0, 1, 1, 1, 1, 0, 1, 0, 0, 0, 0, 1, 1, 0, 1, 0, 0, 0, 1, 0, 0, 1, 1, 1, 1, 1, 1, 0, 1, 0, 0, 0, 1, 0, 1, 0, 1, 0, 0, 1, 1, 0, 0, 1, 0, 1, 1, 1, 1, 0, 1, 0, 0, 0, 0, 1, 0, 0, 0, 0, 1, 0, 0, 1, 1, 0, 1, 0, 0, 0, 0, 0, 0, 0, 1, 1, 0, 0, 0, 0, 0, 1, 1, 1, 0, 0, 0, 0, 1, 0, 1, 0, 0, 0, 1, 1, 0, 0, 1, 0, 1, 0, 0, 1, 1, 1, 0, 1, 0, 0, 1, 1, 1, 0, 0, 1, 1, 0, 1, 0, 0, 1, 0, 0, 1, 1, 1, 0, 1, 1, 0, 0, 1, 0, 0, 0, 0, 0, 1, 0, 1, 0, 0, 0, 1, 0, 1, 1, 1, 1, 0, 1, 1, 0, 1, 1, 0, 1, 0, 0, 0, 0, 0, 1, 0, 0, 1, 0, 1, 1, 0, 0, 1, 0, 0, 0, 1, 0, 0, 0, 0, 0, 1, 1, 1, 0, 1, 0, 0, 0, 0, 0, 1, 1, 1, 1, 0, 0, 1, 0, 1, 1, 0, 0, 0, 1, 0, 0, 1, 0, 0, 0, 1, 0, 0, 1, 1, 1, 1, 0, 1, 0, 1, 0, 0, 1, 1, 1, 1, 1, 0, 0, 0, 0, 1, 1, 0, 0, 0, 1, 0, 1, 0, 1, 0, 0, 1, 0, 0, 0, 1, 0, 0, 0, 1, 1, 0, 0, 0, 1, 0, 1, 0, 0, 0, 0, 1, 0, 0, 0, 1, 0, 1, 1, 0, 0, 1, 0, 0, 0, 0, 0, 1, 0, 0, 1, 0, 1, 1, 0, 0, 0, 0, 1, 0, 0, 0, 1, 0, 1, 0, 0, 1, 0, 1, 1, 0, 1, 0, 0, 0, 1, 0, 1, 0, 0, 1, 0, 0, 0, 0, 1, 0, 0, 1, 0, 1, 0, 1, 0, 0, 0, 1, 0, 1, 0, 1, 0, 1, 0, 1, 1, 0, 0, 0, 0, 0, 0, 0, 1, 0, 0, 1, 1, 1, 0, 0, 0, 0, 0, 0, 0, 0, 0, 0, 0, 0, 0, 1, 0, 0, 0, 1, 1, 0, 0, 0, 0, 0, 0, 0, 1, 0, 0, 0, 1, 0, 0, 1, 0, 1, 0, 1, 0, 0, 1, 0, 1, 0, 0, 0, 0, 0, 0, 0, 1, 0, 0, 1, 1, 0, 1, 1, 1, 1, 1, 0, 0, 1, 0, 0, 0, 0, 0, 1, 0, 0, 1, 1, 1, 1, 0, 0, 0, 0, 0, 1, 1, 0, 1, 0, 1, 1, 0, 1, 1, 1, 1, 0, 1, 0, 1, 0, 0, 0, 1, 0, 0, 0, 0, 0, 0, 1, 0, 0, 0, 1, 0, 0, 0, 1, 1, 1, 1, 1, 1, 0, 0, 0, 0, 1, 1, 0, 0, 1, 0, 1, 0, 1, 1, 0, 0, 0, 0, 0, 0, 0, 1, 0, 0, 0, 0, 1, 0, 1, 0, 0, 1, 1, 0, 0, 1, 0, 1, 1, 0, 1, 0, 0, 1, 0, 1, 0, 0, 1, 0, 0, 1, 0, 0, 0, 0, 0, 0, 1, 0, 1])\n",
        "small_sample = sample[:3]\n",
        "med_sample = sample[:50]\n",
        "large_sample = sample"
      ],
      "execution_count": 0,
      "outputs": []
    },
    {
      "cell_type": "markdown",
      "metadata": {
        "colab_type": "text",
        "id": "qi02BzVfx98C"
      },
      "source": [
        "We will use three different beta priors:\n",
        "- non-informative: uniform: $Beta(1,1)$.\n",
        "- non-informative: Jeffery's: $Beta(1/2,1/2)$.\n",
        "- informative: we believe that the prior peaks at $\\theta = 1/3$ and furthermore, we believe that the probability that $\\theta<0.5$ is $60\\%$.\n",
        "\n",
        "__Task:__ For the last case, we must find the $\\alpha$ and $\\beta$ parameters for a Beta prior that satisfies the condition. Generate 9 posterior plots, for different data and prior combinations and discuss their differences."
      ]
    },
    {
      "cell_type": "code",
      "metadata": {
        "colab_type": "code",
        "id": "RVDdT3YRx98D",
        "scrolled": false,
        "colab": {}
      },
      "source": [
        "# The priors\n",
        "r = np.linspace(0,1,1000)\n",
        "prior_unif = [1,1]\n",
        "prior_jeff = [1/2,1/2]\n",
        "# Finding the informative prior (last prior):\n",
        "# we want the mode be at 1/3, so alpha = (beta+1)/2\n",
        "# we numerically find the value of alpha using the cdf\n",
        "alpha = np.linspace(0.51,10,1000) # we start from .51 since we need beta=2*alpha-1 > 0\n",
        "cdf = np.array([st.beta.cdf(0.5,a,(2*a-1)) for a in alpha])\n",
        "alpha_inf = alpha[sum(cdf<0.60)];\n",
        "beta_inf = (2*alpha_inf-1)\n",
        "# Producing the plots\n",
        "#..."
      ],
      "execution_count": 0,
      "outputs": []
    },
    {
      "cell_type": "code",
      "metadata": {
        "colab_type": "code",
        "id": "zi8Wn-INx98G",
        "colab": {}
      },
      "source": [
        "# data for multivariate normal\n",
        "data_csv = StringIO('''school;sex;age;address;famsize;Pstatus;Medu;Fedu;Mjob;Fjob;reason;guardian;traveltime;studytime;failures;schoolsup;famsup;paid;activities;nursery;higher;internet;romantic;famrel;freetime;goout;Dalc;Walc;health;absences;G1;G2;G3\n",
        "\"GP\";\"F\";18;\"U\";\"GT3\";\"A\";4;4;\"at_home\";\"teacher\";\"course\";\"mother\";2;2;0;\"yes\";\"no\";\"no\";\"no\";\"yes\";\"yes\";\"no\";\"no\";4;3;4;1;1;3;6;\"5\";\"6\";6\n",
        "\"GP\";\"F\";17;\"U\";\"GT3\";\"T\";1;1;\"at_home\";\"other\";\"course\";\"father\";1;2;0;\"no\";\"yes\";\"no\";\"no\";\"no\";\"yes\";\"yes\";\"no\";5;3;3;1;1;3;4;\"5\";\"5\";6\n",
        "\"GP\";\"F\";15;\"U\";\"LE3\";\"T\";1;1;\"at_home\";\"other\";\"other\";\"mother\";1;2;3;\"yes\";\"no\";\"yes\";\"no\";\"yes\";\"yes\";\"yes\";\"no\";4;3;2;2;3;3;10;\"7\";\"8\";10\n",
        "\"GP\";\"F\";15;\"U\";\"GT3\";\"T\";4;2;\"health\";\"services\";\"home\";\"mother\";1;3;0;\"no\";\"yes\";\"yes\";\"yes\";\"yes\";\"yes\";\"yes\";\"yes\";3;2;2;1;1;5;2;\"15\";\"14\";15\n",
        "\"GP\";\"F\";16;\"U\";\"GT3\";\"T\";3;3;\"other\";\"other\";\"home\";\"father\";1;2;0;\"no\";\"yes\";\"yes\";\"no\";\"yes\";\"yes\";\"no\";\"no\";4;3;2;1;2;5;4;\"6\";\"10\";10\n",
        "\"GP\";\"M\";16;\"U\";\"LE3\";\"T\";4;3;\"services\";\"other\";\"reputation\";\"mother\";1;2;0;\"no\";\"yes\";\"yes\";\"yes\";\"yes\";\"yes\";\"yes\";\"no\";5;4;2;1;2;5;10;\"15\";\"15\";15\n",
        "\"GP\";\"M\";16;\"U\";\"LE3\";\"T\";2;2;\"other\";\"other\";\"home\";\"mother\";1;2;0;\"no\";\"no\";\"no\";\"no\";\"yes\";\"yes\";\"yes\";\"no\";4;4;4;1;1;3;0;\"12\";\"12\";11\n",
        "\"GP\";\"F\";17;\"U\";\"GT3\";\"A\";4;4;\"other\";\"teacher\";\"home\";\"mother\";2;2;0;\"yes\";\"yes\";\"no\";\"no\";\"yes\";\"yes\";\"no\";\"no\";4;1;4;1;1;1;6;\"6\";\"5\";6\n",
        "\"GP\";\"M\";15;\"U\";\"LE3\";\"A\";3;2;\"services\";\"other\";\"home\";\"mother\";1;2;0;\"no\";\"yes\";\"yes\";\"no\";\"yes\";\"yes\";\"yes\";\"no\";4;2;2;1;1;1;0;\"16\";\"18\";19\n",
        "\"GP\";\"M\";15;\"U\";\"GT3\";\"T\";3;4;\"other\";\"other\";\"home\";\"mother\";1;2;0;\"no\";\"yes\";\"yes\";\"yes\";\"yes\";\"yes\";\"yes\";\"no\";5;5;1;1;1;5;0;\"14\";\"15\";15\n",
        "\"GP\";\"F\";15;\"U\";\"GT3\";\"T\";4;4;\"teacher\";\"health\";\"reputation\";\"mother\";1;2;0;\"no\";\"yes\";\"yes\";\"no\";\"yes\";\"yes\";\"yes\";\"no\";3;3;3;1;2;2;0;\"10\";\"8\";9\n",
        "\"GP\";\"F\";15;\"U\";\"GT3\";\"T\";2;1;\"services\";\"other\";\"reputation\";\"father\";3;3;0;\"no\";\"yes\";\"no\";\"yes\";\"yes\";\"yes\";\"yes\";\"no\";5;2;2;1;1;4;4;\"10\";\"12\";12\n",
        "\"GP\";\"M\";15;\"U\";\"LE3\";\"T\";4;4;\"health\";\"services\";\"course\";\"father\";1;1;0;\"no\";\"yes\";\"yes\";\"yes\";\"yes\";\"yes\";\"yes\";\"no\";4;3;3;1;3;5;2;\"14\";\"14\";14\n",
        "\"GP\";\"M\";15;\"U\";\"GT3\";\"T\";4;3;\"teacher\";\"other\";\"course\";\"mother\";2;2;0;\"no\";\"yes\";\"yes\";\"no\";\"yes\";\"yes\";\"yes\";\"no\";5;4;3;1;2;3;2;\"10\";\"10\";11\n",
        "\"GP\";\"M\";15;\"U\";\"GT3\";\"A\";2;2;\"other\";\"other\";\"home\";\"other\";1;3;0;\"no\";\"yes\";\"no\";\"no\";\"yes\";\"yes\";\"yes\";\"yes\";4;5;2;1;1;3;0;\"14\";\"16\";16\n",
        "\"GP\";\"F\";16;\"U\";\"GT3\";\"T\";4;4;\"health\";\"other\";\"home\";\"mother\";1;1;0;\"no\";\"yes\";\"no\";\"no\";\"yes\";\"yes\";\"yes\";\"no\";4;4;4;1;2;2;4;\"14\";\"14\";14\n",
        "\"GP\";\"F\";16;\"U\";\"GT3\";\"T\";4;4;\"services\";\"services\";\"reputation\";\"mother\";1;3;0;\"no\";\"yes\";\"yes\";\"yes\";\"yes\";\"yes\";\"yes\";\"no\";3;2;3;1;2;2;6;\"13\";\"14\";14\n",
        "\"GP\";\"F\";16;\"U\";\"GT3\";\"T\";3;3;\"other\";\"other\";\"reputation\";\"mother\";3;2;0;\"yes\";\"yes\";\"no\";\"yes\";\"yes\";\"yes\";\"no\";\"no\";5;3;2;1;1;4;4;\"8\";\"10\";10\n",
        "\"GP\";\"M\";17;\"U\";\"GT3\";\"T\";3;2;\"services\";\"services\";\"course\";\"mother\";1;1;3;\"no\";\"yes\";\"no\";\"yes\";\"yes\";\"yes\";\"yes\";\"no\";5;5;5;2;4;5;16;\"6\";\"5\";5\n",
        "\"GP\";\"M\";16;\"U\";\"LE3\";\"T\";4;3;\"health\";\"other\";\"home\";\"father\";1;1;0;\"no\";\"no\";\"yes\";\"yes\";\"yes\";\"yes\";\"yes\";\"no\";3;1;3;1;3;5;4;\"8\";\"10\";10\n",
        "\"GP\";\"M\";15;\"U\";\"GT3\";\"T\";4;3;\"teacher\";\"other\";\"reputation\";\"mother\";1;2;0;\"no\";\"no\";\"no\";\"no\";\"yes\";\"yes\";\"yes\";\"no\";4;4;1;1;1;1;0;\"13\";\"14\";15\n",
        "\"GP\";\"M\";15;\"U\";\"GT3\";\"T\";4;4;\"health\";\"health\";\"other\";\"father\";1;1;0;\"no\";\"yes\";\"yes\";\"no\";\"yes\";\"yes\";\"yes\";\"no\";5;4;2;1;1;5;0;\"12\";\"15\";15\n",
        "\"GP\";\"M\";16;\"U\";\"LE3\";\"T\";4;2;\"teacher\";\"other\";\"course\";\"mother\";1;2;0;\"no\";\"no\";\"no\";\"yes\";\"yes\";\"yes\";\"yes\";\"no\";4;5;1;1;3;5;2;\"15\";\"15\";16\n",
        "\"GP\";\"M\";16;\"U\";\"LE3\";\"T\";2;2;\"other\";\"other\";\"reputation\";\"mother\";2;2;0;\"no\";\"yes\";\"no\";\"yes\";\"yes\";\"yes\";\"yes\";\"no\";5;4;4;2;4;5;0;\"13\";\"13\";12\n",
        "\"GP\";\"F\";15;\"R\";\"GT3\";\"T\";2;4;\"services\";\"health\";\"course\";\"mother\";1;3;0;\"yes\";\"yes\";\"yes\";\"yes\";\"yes\";\"yes\";\"yes\";\"no\";4;3;2;1;1;5;2;\"10\";\"9\";8\n",
        "\"GP\";\"F\";16;\"U\";\"GT3\";\"T\";2;2;\"services\";\"services\";\"home\";\"mother\";1;1;2;\"no\";\"yes\";\"yes\";\"no\";\"no\";\"yes\";\"yes\";\"no\";1;2;2;1;3;5;14;\"6\";\"9\";8\n",
        "\"GP\";\"M\";15;\"U\";\"GT3\";\"T\";2;2;\"other\";\"other\";\"home\";\"mother\";1;1;0;\"no\";\"yes\";\"yes\";\"no\";\"yes\";\"yes\";\"yes\";\"no\";4;2;2;1;2;5;2;\"12\";\"12\";11\n",
        "\"GP\";\"M\";15;\"U\";\"GT3\";\"T\";4;2;\"health\";\"services\";\"other\";\"mother\";1;1;0;\"no\";\"no\";\"yes\";\"no\";\"yes\";\"yes\";\"yes\";\"no\";2;2;4;2;4;1;4;\"15\";\"16\";15\n",
        "\"GP\";\"M\";16;\"U\";\"LE3\";\"A\";3;4;\"services\";\"other\";\"home\";\"mother\";1;2;0;\"yes\";\"yes\";\"no\";\"yes\";\"yes\";\"yes\";\"yes\";\"no\";5;3;3;1;1;5;4;\"11\";\"11\";11\n",
        "\"GP\";\"M\";16;\"U\";\"GT3\";\"T\";4;4;\"teacher\";\"teacher\";\"home\";\"mother\";1;2;0;\"no\";\"yes\";\"yes\";\"yes\";\"yes\";\"yes\";\"yes\";\"yes\";4;4;5;5;5;5;16;\"10\";\"12\";11\n",
        "\"GP\";\"M\";15;\"U\";\"GT3\";\"T\";4;4;\"health\";\"services\";\"home\";\"mother\";1;2;0;\"no\";\"yes\";\"yes\";\"no\";\"no\";\"yes\";\"yes\";\"no\";5;4;2;3;4;5;0;\"9\";\"11\";12\n",
        "\"GP\";\"M\";15;\"U\";\"GT3\";\"T\";4;4;\"services\";\"services\";\"reputation\";\"mother\";2;2;0;\"no\";\"yes\";\"no\";\"yes\";\"yes\";\"yes\";\"yes\";\"no\";4;3;1;1;1;5;0;\"17\";\"16\";17\n",
        "\"GP\";\"M\";15;\"R\";\"GT3\";\"T\";4;3;\"teacher\";\"at_home\";\"course\";\"mother\";1;2;0;\"no\";\"yes\";\"no\";\"yes\";\"yes\";\"yes\";\"yes\";\"yes\";4;5;2;1;1;5;0;\"17\";\"16\";16\n",
        "\"GP\";\"M\";15;\"U\";\"LE3\";\"T\";3;3;\"other\";\"other\";\"course\";\"mother\";1;2;0;\"no\";\"no\";\"no\";\"yes\";\"no\";\"yes\";\"yes\";\"no\";5;3;2;1;1;2;0;\"8\";\"10\";12\n",
        "\"GP\";\"M\";16;\"U\";\"GT3\";\"T\";3;2;\"other\";\"other\";\"home\";\"mother\";1;1;0;\"no\";\"yes\";\"yes\";\"no\";\"no\";\"yes\";\"yes\";\"no\";5;4;3;1;1;5;0;\"12\";\"14\";15\n",
        "\"GP\";\"F\";15;\"U\";\"GT3\";\"T\";2;3;\"other\";\"other\";\"other\";\"father\";2;1;0;\"no\";\"yes\";\"no\";\"yes\";\"yes\";\"yes\";\"no\";\"no\";3;5;1;1;1;5;0;\"8\";\"7\";6\n",
        "\"GP\";\"M\";15;\"U\";\"LE3\";\"T\";4;3;\"teacher\";\"services\";\"home\";\"mother\";1;3;0;\"no\";\"yes\";\"no\";\"yes\";\"yes\";\"yes\";\"yes\";\"no\";5;4;3;1;1;4;2;\"15\";\"16\";18\n",
        "\"GP\";\"M\";16;\"R\";\"GT3\";\"A\";4;4;\"other\";\"teacher\";\"reputation\";\"mother\";2;3;0;\"no\";\"yes\";\"no\";\"yes\";\"yes\";\"yes\";\"yes\";\"yes\";2;4;3;1;1;5;7;\"15\";\"16\";15\n",
        "\"GP\";\"F\";15;\"R\";\"GT3\";\"T\";3;4;\"services\";\"health\";\"course\";\"mother\";1;3;0;\"yes\";\"yes\";\"yes\";\"yes\";\"yes\";\"yes\";\"yes\";\"no\";4;3;2;1;1;5;2;\"12\";\"12\";11\n",
        "\"GP\";\"F\";15;\"R\";\"GT3\";\"T\";2;2;\"at_home\";\"other\";\"reputation\";\"mother\";1;1;0;\"yes\";\"yes\";\"yes\";\"yes\";\"yes\";\"yes\";\"no\";\"no\";4;3;1;1;1;2;8;\"14\";\"13\";13\n",
        "\"GP\";\"F\";16;\"U\";\"LE3\";\"T\";2;2;\"other\";\"other\";\"home\";\"mother\";2;2;1;\"no\";\"yes\";\"no\";\"yes\";\"no\";\"yes\";\"yes\";\"yes\";3;3;3;1;2;3;25;\"7\";\"10\";11\n",
        "\"GP\";\"M\";15;\"U\";\"LE3\";\"T\";4;4;\"teacher\";\"other\";\"home\";\"other\";1;1;0;\"no\";\"yes\";\"no\";\"no\";\"no\";\"yes\";\"yes\";\"yes\";5;4;3;2;4;5;8;\"12\";\"12\";12\n",
        "\"GP\";\"M\";15;\"U\";\"GT3\";\"T\";4;4;\"services\";\"teacher\";\"course\";\"father\";1;2;0;\"no\";\"yes\";\"no\";\"yes\";\"yes\";\"yes\";\"yes\";\"no\";4;3;3;1;1;5;2;\"19\";\"18\";18\n",
        "\"GP\";\"M\";15;\"U\";\"GT3\";\"T\";2;2;\"services\";\"services\";\"course\";\"father\";1;1;0;\"yes\";\"yes\";\"no\";\"no\";\"yes\";\"yes\";\"yes\";\"no\";5;4;1;1;1;1;0;\"8\";\"8\";11\n",
        "\"GP\";\"F\";16;\"U\";\"LE3\";\"T\";2;2;\"other\";\"at_home\";\"course\";\"father\";2;2;1;\"yes\";\"no\";\"no\";\"yes\";\"yes\";\"yes\";\"yes\";\"no\";4;3;3;2;2;5;14;\"10\";\"10\";9\n",
        "\"GP\";\"F\";15;\"U\";\"LE3\";\"A\";4;3;\"other\";\"other\";\"course\";\"mother\";1;2;0;\"yes\";\"yes\";\"yes\";\"yes\";\"yes\";\"yes\";\"yes\";\"yes\";5;2;2;1;1;5;8;\"8\";\"8\";6\n",
        "\"GP\";\"F\";16;\"U\";\"LE3\";\"A\";3;3;\"other\";\"services\";\"home\";\"mother\";1;2;0;\"no\";\"yes\";\"no\";\"no\";\"yes\";\"yes\";\"yes\";\"no\";2;3;5;1;4;3;12;\"11\";\"12\";11\n",
        "\"GP\";\"M\";16;\"U\";\"GT3\";\"T\";4;3;\"health\";\"services\";\"reputation\";\"mother\";1;4;0;\"no\";\"no\";\"no\";\"yes\";\"yes\";\"yes\";\"yes\";\"no\";4;2;2;1;1;2;4;\"19\";\"19\";20\n",
        "\"GP\";\"M\";15;\"U\";\"GT3\";\"T\";4;2;\"teacher\";\"other\";\"home\";\"mother\";1;2;0;\"no\";\"yes\";\"yes\";\"no\";\"yes\";\"yes\";\"no\";\"no\";4;3;3;2;2;5;2;\"15\";\"15\";14\n",
        "\"GP\";\"F\";15;\"U\";\"GT3\";\"T\";4;4;\"services\";\"teacher\";\"other\";\"father\";1;2;1;\"yes\";\"yes\";\"no\";\"yes\";\"no\";\"yes\";\"yes\";\"no\";4;4;4;1;1;3;2;\"7\";\"7\";7\n",
        "\"GP\";\"F\";16;\"U\";\"LE3\";\"T\";2;2;\"services\";\"services\";\"course\";\"mother\";3;2;0;\"no\";\"yes\";\"yes\";\"no\";\"yes\";\"yes\";\"yes\";\"no\";4;3;3;2;3;4;2;\"12\";\"13\";13\n",
        "\"GP\";\"F\";15;\"U\";\"LE3\";\"T\";4;2;\"health\";\"other\";\"other\";\"mother\";1;2;0;\"no\";\"yes\";\"yes\";\"no\";\"yes\";\"yes\";\"yes\";\"no\";4;3;3;1;1;5;2;\"11\";\"13\";13\n",
        "\"GP\";\"M\";15;\"U\";\"LE3\";\"A\";4;2;\"health\";\"health\";\"other\";\"father\";2;1;1;\"no\";\"no\";\"no\";\"no\";\"yes\";\"yes\";\"no\";\"no\";5;5;5;3;4;5;6;\"11\";\"11\";10\n",
        "\"GP\";\"F\";15;\"U\";\"GT3\";\"T\";4;4;\"services\";\"services\";\"course\";\"mother\";1;1;0;\"yes\";\"yes\";\"yes\";\"no\";\"yes\";\"yes\";\"yes\";\"no\";3;3;4;2;3;5;0;\"8\";\"10\";11\n",
        "\"GP\";\"F\";15;\"U\";\"LE3\";\"A\";3;3;\"other\";\"other\";\"other\";\"mother\";1;1;0;\"no\";\"no\";\"yes\";\"no\";\"yes\";\"yes\";\"yes\";\"no\";5;3;4;4;4;1;6;\"10\";\"13\";13\n",
        "\"GP\";\"F\";16;\"U\";\"GT3\";\"A\";2;1;\"other\";\"other\";\"other\";\"mother\";1;2;0;\"no\";\"no\";\"yes\";\"yes\";\"yes\";\"yes\";\"yes\";\"yes\";5;3;4;1;1;2;8;\"8\";\"9\";10\n",
        "\"GP\";\"F\";15;\"U\";\"GT3\";\"A\";4;3;\"services\";\"services\";\"reputation\";\"mother\";1;2;0;\"no\";\"yes\";\"yes\";\"yes\";\"yes\";\"yes\";\"yes\";\"no\";4;3;2;1;1;1;0;\"14\";\"15\";15\n",
        "\"GP\";\"M\";15;\"U\";\"GT3\";\"T\";4;4;\"teacher\";\"health\";\"reputation\";\"mother\";1;2;0;\"no\";\"yes\";\"no\";\"yes\";\"yes\";\"yes\";\"no\";\"no\";3;2;2;1;1;5;4;\"14\";\"15\";15\n",
        "\"GP\";\"M\";15;\"U\";\"LE3\";\"T\";1;2;\"other\";\"at_home\";\"home\";\"father\";1;2;0;\"yes\";\"yes\";\"no\";\"yes\";\"yes\";\"yes\";\"yes\";\"no\";4;3;2;1;1;5;2;\"9\";\"10\";9\n",
        "\"GP\";\"F\";16;\"U\";\"GT3\";\"T\";4;2;\"services\";\"other\";\"course\";\"mother\";1;2;0;\"no\";\"yes\";\"no\";\"no\";\"yes\";\"yes\";\"yes\";\"no\";4;2;3;1;1;5;2;\"15\";\"16\";16\n",
        "\"GP\";\"F\";16;\"R\";\"GT3\";\"T\";4;4;\"health\";\"teacher\";\"other\";\"mother\";1;2;0;\"no\";\"yes\";\"no\";\"yes\";\"yes\";\"yes\";\"no\";\"no\";2;4;4;2;3;4;6;\"10\";\"11\";11\n",
        "\"GP\";\"F\";16;\"U\";\"GT3\";\"T\";1;1;\"services\";\"services\";\"course\";\"father\";4;1;0;\"yes\";\"yes\";\"no\";\"yes\";\"no\";\"yes\";\"yes\";\"yes\";5;5;5;5;5;5;6;\"10\";\"8\";11\n",
        "\"GP\";\"F\";16;\"U\";\"LE3\";\"T\";1;2;\"other\";\"services\";\"reputation\";\"father\";1;2;0;\"yes\";\"no\";\"no\";\"yes\";\"yes\";\"yes\";\"yes\";\"no\";4;4;3;1;1;1;4;\"8\";\"10\";9\n",
        "\"GP\";\"F\";16;\"U\";\"GT3\";\"T\";4;3;\"teacher\";\"health\";\"home\";\"mother\";1;3;0;\"yes\";\"yes\";\"yes\";\"yes\";\"yes\";\"yes\";\"yes\";\"no\";3;4;4;2;4;4;2;\"10\";\"9\";9\n",
        "\"GP\";\"F\";15;\"U\";\"LE3\";\"T\";4;3;\"services\";\"services\";\"reputation\";\"father\";1;2;0;\"yes\";\"no\";\"no\";\"yes\";\"yes\";\"yes\";\"yes\";\"yes\";4;4;4;2;4;2;0;\"10\";\"10\";10\n",
        "\"GP\";\"F\";16;\"U\";\"LE3\";\"T\";4;3;\"teacher\";\"services\";\"course\";\"mother\";3;2;0;\"no\";\"yes\";\"no\";\"yes\";\"yes\";\"yes\";\"yes\";\"no\";5;4;3;1;2;1;2;\"16\";\"15\";15\n",
        "\"GP\";\"M\";15;\"U\";\"GT3\";\"A\";4;4;\"other\";\"services\";\"reputation\";\"mother\";1;4;0;\"no\";\"yes\";\"no\";\"yes\";\"no\";\"yes\";\"yes\";\"yes\";1;3;3;5;5;3;4;\"13\";\"13\";12\n",
        "\"GP\";\"F\";16;\"U\";\"GT3\";\"T\";3;1;\"services\";\"other\";\"course\";\"mother\";1;4;0;\"yes\";\"yes\";\"yes\";\"no\";\"yes\";\"yes\";\"yes\";\"no\";4;3;3;1;2;5;4;\"7\";\"7\";6\n",
        "\"GP\";\"F\";15;\"R\";\"LE3\";\"T\";2;2;\"health\";\"services\";\"reputation\";\"mother\";2;2;0;\"yes\";\"yes\";\"yes\";\"no\";\"yes\";\"yes\";\"yes\";\"no\";4;1;3;1;3;4;2;\"8\";\"9\";8\n",
        "\"GP\";\"F\";15;\"R\";\"LE3\";\"T\";3;1;\"other\";\"other\";\"reputation\";\"father\";2;4;0;\"no\";\"yes\";\"no\";\"no\";\"no\";\"yes\";\"yes\";\"no\";4;4;2;2;3;3;12;\"16\";\"16\";16\n",
        "\"GP\";\"M\";16;\"U\";\"GT3\";\"T\";3;1;\"other\";\"other\";\"reputation\";\"father\";2;4;0;\"no\";\"yes\";\"yes\";\"no\";\"yes\";\"yes\";\"yes\";\"no\";4;3;2;1;1;5;0;\"13\";\"15\";15\n",
        "\"GP\";\"M\";15;\"U\";\"GT3\";\"T\";4;2;\"other\";\"other\";\"course\";\"mother\";1;4;0;\"no\";\"no\";\"no\";\"no\";\"yes\";\"yes\";\"yes\";\"no\";3;3;3;1;1;3;0;\"10\";\"10\";10\n",
        "\"GP\";\"F\";15;\"R\";\"GT3\";\"T\";1;1;\"other\";\"other\";\"reputation\";\"mother\";1;2;2;\"yes\";\"yes\";\"no\";\"no\";\"no\";\"yes\";\"yes\";\"yes\";3;3;4;2;4;5;2;\"8\";\"6\";5\n",
        "\"GP\";\"M\";16;\"U\";\"GT3\";\"T\";3;1;\"other\";\"other\";\"reputation\";\"mother\";1;1;0;\"no\";\"no\";\"no\";\"yes\";\"yes\";\"yes\";\"no\";\"no\";5;3;2;2;2;5;2;\"12\";\"12\";14\n",
        "\"GP\";\"F\";16;\"U\";\"GT3\";\"T\";3;3;\"other\";\"services\";\"home\";\"mother\";1;2;0;\"yes\";\"yes\";\"yes\";\"yes\";\"yes\";\"yes\";\"yes\";\"no\";4;3;3;2;4;5;54;\"11\";\"12\";11\n",
        "\"GP\";\"M\";15;\"U\";\"GT3\";\"T\";4;3;\"teacher\";\"other\";\"home\";\"mother\";1;2;0;\"no\";\"yes\";\"yes\";\"yes\";\"yes\";\"yes\";\"yes\";\"no\";4;3;3;2;3;5;6;\"9\";\"9\";10\n",
        "\"GP\";\"M\";15;\"U\";\"GT3\";\"T\";4;0;\"teacher\";\"other\";\"course\";\"mother\";2;4;0;\"no\";\"no\";\"no\";\"yes\";\"yes\";\"yes\";\"yes\";\"no\";3;4;3;1;1;1;8;\"11\";\"11\";10\n",
        "\"GP\";\"F\";16;\"U\";\"GT3\";\"T\";2;2;\"other\";\"other\";\"reputation\";\"mother\";1;4;0;\"no\";\"no\";\"yes\";\"no\";\"yes\";\"yes\";\"yes\";\"yes\";5;2;3;1;3;3;0;\"11\";\"11\";11\n",
        "\"GP\";\"M\";17;\"U\";\"GT3\";\"T\";2;1;\"other\";\"other\";\"home\";\"mother\";2;1;3;\"yes\";\"yes\";\"no\";\"yes\";\"yes\";\"no\";\"yes\";\"no\";4;5;1;1;1;3;2;\"8\";\"8\";10\n",
        "\"GP\";\"F\";16;\"U\";\"GT3\";\"T\";3;4;\"at_home\";\"other\";\"course\";\"mother\";1;2;0;\"no\";\"yes\";\"no\";\"no\";\"yes\";\"yes\";\"yes\";\"no\";2;4;3;1;2;3;12;\"5\";\"5\";5\n",
        "\"GP\";\"M\";15;\"U\";\"GT3\";\"T\";2;3;\"other\";\"services\";\"course\";\"father\";1;1;0;\"yes\";\"yes\";\"yes\";\"yes\";\"no\";\"yes\";\"yes\";\"yes\";3;2;2;1;3;3;2;\"10\";\"12\";12\n",
        "\"GP\";\"M\";15;\"U\";\"GT3\";\"T\";2;3;\"other\";\"other\";\"home\";\"mother\";1;3;0;\"yes\";\"no\";\"yes\";\"no\";\"no\";\"yes\";\"yes\";\"no\";5;3;2;1;2;5;4;\"11\";\"10\";11\n",
        "\"GP\";\"F\";15;\"U\";\"LE3\";\"T\";3;2;\"services\";\"other\";\"reputation\";\"mother\";1;2;0;\"no\";\"yes\";\"yes\";\"no\";\"yes\";\"yes\";\"yes\";\"no\";4;4;4;1;1;5;10;\"7\";\"6\";6\n",
        "\"GP\";\"M\";15;\"U\";\"LE3\";\"T\";2;2;\"services\";\"services\";\"home\";\"mother\";2;2;0;\"no\";\"no\";\"yes\";\"yes\";\"yes\";\"yes\";\"yes\";\"no\";5;3;3;1;3;4;4;\"15\";\"15\";15\n",
        "\"GP\";\"F\";15;\"U\";\"GT3\";\"T\";1;1;\"other\";\"other\";\"home\";\"father\";1;2;0;\"no\";\"yes\";\"no\";\"yes\";\"no\";\"yes\";\"yes\";\"no\";4;3;2;2;3;4;2;\"9\";\"10\";10\n",
        "\"GP\";\"F\";15;\"U\";\"GT3\";\"T\";4;4;\"services\";\"services\";\"reputation\";\"father\";2;2;2;\"no\";\"no\";\"yes\";\"no\";\"yes\";\"yes\";\"yes\";\"yes\";4;4;4;2;3;5;6;\"7\";\"9\";8\n",
        "\"GP\";\"F\";16;\"U\";\"LE3\";\"T\";2;2;\"at_home\";\"other\";\"course\";\"mother\";1;2;0;\"no\";\"yes\";\"no\";\"no\";\"yes\";\"yes\";\"no\";\"no\";4;3;4;1;2;2;4;\"8\";\"7\";6\n",
        "\"GP\";\"F\";15;\"U\";\"GT3\";\"T\";4;2;\"other\";\"other\";\"reputation\";\"mother\";1;3;0;\"no\";\"yes\";\"no\";\"yes\";\"yes\";\"yes\";\"yes\";\"no\";5;3;3;1;3;1;4;\"13\";\"14\";14\n",
        "\"GP\";\"M\";16;\"U\";\"GT3\";\"T\";2;2;\"services\";\"other\";\"reputation\";\"father\";2;2;1;\"no\";\"no\";\"yes\";\"yes\";\"no\";\"yes\";\"yes\";\"no\";4;4;2;1;1;3;12;\"11\";\"10\";10\n",
        "\"GP\";\"M\";16;\"U\";\"LE3\";\"A\";4;4;\"teacher\";\"health\";\"reputation\";\"mother\";1;2;0;\"no\";\"yes\";\"no\";\"no\";\"yes\";\"yes\";\"no\";\"no\";4;1;3;3;5;5;18;\"8\";\"6\";7\n",
        "\"GP\";\"F\";16;\"U\";\"GT3\";\"T\";3;3;\"other\";\"other\";\"home\";\"mother\";1;3;0;\"no\";\"yes\";\"yes\";\"no\";\"yes\";\"yes\";\"yes\";\"yes\";4;3;3;1;3;4;0;\"7\";\"7\";8\n",
        "\"GP\";\"F\";15;\"U\";\"GT3\";\"T\";4;3;\"services\";\"other\";\"reputation\";\"mother\";1;1;0;\"no\";\"no\";\"yes\";\"yes\";\"yes\";\"yes\";\"yes\";\"no\";4;5;5;1;3;1;4;\"16\";\"17\";18\n",
        "\"GP\";\"F\";16;\"U\";\"LE3\";\"T\";3;1;\"other\";\"other\";\"home\";\"father\";1;2;0;\"yes\";\"yes\";\"no\";\"no\";\"yes\";\"yes\";\"no\";\"no\";3;3;3;2;3;2;4;\"7\";\"6\";6\n",
        "\"GP\";\"F\";16;\"U\";\"GT3\";\"T\";4;2;\"teacher\";\"services\";\"home\";\"mother\";2;2;0;\"no\";\"yes\";\"yes\";\"yes\";\"yes\";\"yes\";\"yes\";\"no\";5;3;3;1;1;1;0;\"11\";\"10\";10\n",
        "\"GP\";\"M\";15;\"U\";\"LE3\";\"T\";2;2;\"services\";\"health\";\"reputation\";\"mother\";1;4;0;\"no\";\"yes\";\"no\";\"yes\";\"yes\";\"yes\";\"yes\";\"no\";4;3;4;1;1;4;6;\"11\";\"13\";14\n",
        "\"GP\";\"F\";15;\"R\";\"GT3\";\"T\";1;1;\"at_home\";\"other\";\"home\";\"mother\";2;4;1;\"yes\";\"yes\";\"yes\";\"yes\";\"yes\";\"yes\";\"yes\";\"no\";3;1;2;1;1;1;2;\"7\";\"10\";10\n",
        "\"GP\";\"M\";16;\"R\";\"GT3\";\"T\";4;3;\"services\";\"other\";\"reputation\";\"mother\";2;1;0;\"yes\";\"yes\";\"no\";\"yes\";\"no\";\"yes\";\"yes\";\"no\";3;3;3;1;1;4;2;\"11\";\"15\";15\n",
        "\"GP\";\"F\";16;\"U\";\"GT3\";\"T\";2;1;\"other\";\"other\";\"course\";\"mother\";1;2;0;\"no\";\"yes\";\"yes\";\"no\";\"yes\";\"yes\";\"no\";\"yes\";4;3;5;1;1;5;2;\"8\";\"9\";10\n",
        "\"GP\";\"F\";16;\"U\";\"GT3\";\"T\";4;4;\"other\";\"other\";\"reputation\";\"mother\";1;1;0;\"no\";\"no\";\"no\";\"yes\";\"no\";\"yes\";\"yes\";\"no\";5;3;4;1;2;1;6;\"11\";\"14\";14\n",
        "\"GP\";\"F\";16;\"U\";\"GT3\";\"T\";4;3;\"other\";\"at_home\";\"course\";\"mother\";1;3;0;\"yes\";\"yes\";\"yes\";\"no\";\"yes\";\"yes\";\"yes\";\"no\";5;3;5;1;1;3;0;\"7\";\"9\";8\n",
        "\"GP\";\"M\";16;\"U\";\"GT3\";\"T\";4;4;\"services\";\"services\";\"other\";\"mother\";1;1;0;\"yes\";\"yes\";\"yes\";\"yes\";\"yes\";\"yes\";\"yes\";\"no\";4;5;5;5;5;4;14;\"7\";\"7\";5\n",
        "\"GP\";\"M\";16;\"U\";\"GT3\";\"T\";4;4;\"services\";\"teacher\";\"other\";\"father\";1;3;0;\"no\";\"yes\";\"no\";\"yes\";\"yes\";\"yes\";\"yes\";\"yes\";4;4;3;1;1;4;0;\"16\";\"17\";17\n",
        "\"GP\";\"M\";15;\"U\";\"GT3\";\"T\";4;4;\"services\";\"other\";\"course\";\"mother\";1;1;0;\"no\";\"yes\";\"no\";\"yes\";\"no\";\"yes\";\"yes\";\"no\";5;3;3;1;1;5;4;\"10\";\"13\";14\n",
        "\"GP\";\"F\";15;\"U\";\"GT3\";\"T\";3;2;\"services\";\"other\";\"home\";\"mother\";2;2;0;\"yes\";\"yes\";\"yes\";\"no\";\"yes\";\"yes\";\"yes\";\"no\";4;3;5;1;1;2;26;\"7\";\"6\";6\n",
        "\"GP\";\"M\";15;\"U\";\"GT3\";\"A\";3;4;\"services\";\"other\";\"course\";\"mother\";1;2;0;\"no\";\"yes\";\"yes\";\"yes\";\"yes\";\"yes\";\"yes\";\"no\";5;4;4;1;1;1;0;\"16\";\"18\";18\n",
        "\"GP\";\"F\";15;\"U\";\"GT3\";\"A\";3;3;\"other\";\"health\";\"reputation\";\"father\";1;4;0;\"yes\";\"no\";\"no\";\"no\";\"yes\";\"yes\";\"no\";\"no\";4;3;3;1;1;4;10;\"10\";\"11\";11\n",
        "\"GP\";\"F\";15;\"U\";\"GT3\";\"T\";2;2;\"other\";\"other\";\"course\";\"mother\";1;4;0;\"yes\";\"yes\";\"yes\";\"no\";\"yes\";\"yes\";\"yes\";\"no\";5;1;2;1;1;3;8;\"7\";\"8\";8\n",
        "\"GP\";\"M\";16;\"U\";\"GT3\";\"T\";3;3;\"services\";\"other\";\"home\";\"father\";1;3;0;\"no\";\"yes\";\"no\";\"yes\";\"yes\";\"yes\";\"yes\";\"no\";5;3;3;1;1;5;2;\"16\";\"18\";18\n",
        "\"GP\";\"M\";15;\"R\";\"GT3\";\"T\";4;4;\"other\";\"other\";\"home\";\"father\";4;4;0;\"no\";\"yes\";\"yes\";\"yes\";\"yes\";\"yes\";\"yes\";\"yes\";1;3;5;3;5;1;6;\"10\";\"13\";13\n",
        "\"GP\";\"F\";16;\"U\";\"LE3\";\"T\";4;4;\"health\";\"health\";\"other\";\"mother\";1;3;0;\"no\";\"yes\";\"yes\";\"yes\";\"yes\";\"yes\";\"yes\";\"yes\";5;4;5;1;1;4;4;\"14\";\"15\";16\n",
        "\"GP\";\"M\";15;\"U\";\"LE3\";\"A\";4;4;\"teacher\";\"teacher\";\"course\";\"mother\";1;1;0;\"no\";\"no\";\"no\";\"yes\";\"yes\";\"yes\";\"yes\";\"no\";5;5;3;1;1;4;6;\"18\";\"19\";19\n",
        "\"GP\";\"F\";16;\"R\";\"GT3\";\"T\";3;3;\"services\";\"other\";\"reputation\";\"father\";1;3;1;\"yes\";\"yes\";\"no\";\"yes\";\"yes\";\"yes\";\"yes\";\"no\";4;1;2;1;1;2;0;\"7\";\"10\";10\n",
        "\"GP\";\"F\";16;\"U\";\"GT3\";\"T\";2;2;\"at_home\";\"other\";\"home\";\"mother\";1;2;1;\"yes\";\"no\";\"no\";\"yes\";\"yes\";\"yes\";\"yes\";\"no\";3;1;2;1;1;5;6;\"10\";\"13\";13\n",
        "\"GP\";\"M\";15;\"U\";\"LE3\";\"T\";4;2;\"teacher\";\"other\";\"course\";\"mother\";1;1;0;\"no\";\"no\";\"no\";\"no\";\"yes\";\"yes\";\"yes\";\"no\";3;5;2;1;1;3;10;\"18\";\"19\";19\n",
        "\"GP\";\"M\";15;\"R\";\"GT3\";\"T\";2;1;\"health\";\"services\";\"reputation\";\"mother\";1;2;0;\"no\";\"no\";\"no\";\"yes\";\"yes\";\"yes\";\"yes\";\"yes\";5;4;2;1;1;5;8;\"9\";\"9\";9\n",
        "\"GP\";\"M\";16;\"U\";\"GT3\";\"T\";4;4;\"teacher\";\"teacher\";\"course\";\"father\";1;2;0;\"no\";\"yes\";\"no\";\"yes\";\"yes\";\"yes\";\"yes\";\"no\";5;4;4;1;2;5;2;\"15\";\"15\";16\n",
        "\"GP\";\"M\";15;\"U\";\"GT3\";\"T\";4;4;\"other\";\"teacher\";\"reputation\";\"father\";2;2;0;\"no\";\"yes\";\"no\";\"yes\";\"yes\";\"yes\";\"no\";\"no\";4;4;3;1;1;2;2;\"11\";\"13\";14\n",
        "\"GP\";\"M\";16;\"U\";\"GT3\";\"T\";3;3;\"other\";\"services\";\"home\";\"father\";2;1;0;\"no\";\"no\";\"no\";\"yes\";\"yes\";\"yes\";\"yes\";\"no\";5;4;2;1;1;5;0;\"13\";\"14\";13\n",
        "\"GP\";\"M\";17;\"R\";\"GT3\";\"T\";1;3;\"other\";\"other\";\"course\";\"father\";3;2;1;\"no\";\"yes\";\"no\";\"yes\";\"yes\";\"yes\";\"yes\";\"no\";5;2;4;1;4;5;20;\"9\";\"7\";8\n",
        "\"GP\";\"M\";15;\"U\";\"GT3\";\"T\";3;4;\"other\";\"other\";\"reputation\";\"father\";1;1;0;\"no\";\"no\";\"no\";\"no\";\"yes\";\"yes\";\"yes\";\"no\";3;4;3;1;2;4;6;\"14\";\"13\";13\n",
        "\"GP\";\"F\";15;\"U\";\"GT3\";\"T\";1;2;\"at_home\";\"services\";\"course\";\"mother\";1;2;0;\"no\";\"no\";\"no\";\"no\";\"no\";\"yes\";\"yes\";\"no\";3;2;3;1;2;1;2;\"16\";\"15\";15\n",
        "\"GP\";\"M\";15;\"U\";\"GT3\";\"T\";2;2;\"services\";\"services\";\"home\";\"father\";1;4;0;\"no\";\"yes\";\"yes\";\"yes\";\"yes\";\"yes\";\"yes\";\"no\";5;5;4;1;2;5;6;\"16\";\"14\";15\n",
        "\"GP\";\"F\";16;\"U\";\"LE3\";\"T\";2;4;\"other\";\"health\";\"course\";\"father\";2;2;0;\"no\";\"yes\";\"yes\";\"yes\";\"yes\";\"yes\";\"yes\";\"yes\";4;2;2;1;2;5;2;\"13\";\"13\";13\n",
        "\"GP\";\"M\";16;\"U\";\"GT3\";\"T\";4;4;\"health\";\"other\";\"course\";\"mother\";1;1;0;\"no\";\"yes\";\"no\";\"yes\";\"yes\";\"yes\";\"yes\";\"no\";3;4;4;1;4;5;18;\"14\";\"11\";13\n",
        "\"GP\";\"F\";16;\"U\";\"GT3\";\"T\";2;2;\"other\";\"other\";\"home\";\"mother\";1;2;0;\"no\";\"no\";\"yes\";\"no\";\"yes\";\"yes\";\"yes\";\"yes\";5;4;4;1;1;5;0;\"8\";\"7\";8\n",
        "\"GP\";\"M\";15;\"U\";\"GT3\";\"T\";3;4;\"services\";\"services\";\"home\";\"father\";1;1;0;\"yes\";\"no\";\"no\";\"no\";\"yes\";\"yes\";\"yes\";\"no\";5;5;5;3;2;5;0;\"13\";\"13\";12\n",
        "\"GP\";\"F\";15;\"U\";\"LE3\";\"A\";3;4;\"other\";\"other\";\"home\";\"mother\";1;2;0;\"yes\";\"no\";\"no\";\"yes\";\"yes\";\"yes\";\"yes\";\"yes\";5;3;2;1;1;1;0;\"7\";\"10\";11\n",
        "\"GP\";\"F\";19;\"U\";\"GT3\";\"T\";0;1;\"at_home\";\"other\";\"course\";\"other\";1;2;3;\"no\";\"yes\";\"no\";\"no\";\"no\";\"no\";\"no\";\"no\";3;4;2;1;1;5;2;\"7\";\"8\";9\n",
        "\"GP\";\"M\";18;\"R\";\"GT3\";\"T\";2;2;\"services\";\"other\";\"reputation\";\"mother\";1;1;2;\"no\";\"yes\";\"no\";\"yes\";\"yes\";\"yes\";\"yes\";\"no\";3;3;3;1;2;4;0;\"7\";\"4\";0\n",
        "\"GP\";\"M\";16;\"R\";\"GT3\";\"T\";4;4;\"teacher\";\"teacher\";\"course\";\"mother\";1;1;0;\"no\";\"no\";\"yes\";\"yes\";\"yes\";\"yes\";\"yes\";\"no\";3;5;5;2;5;4;8;\"18\";\"18\";18\n",
        "\"GP\";\"F\";15;\"R\";\"GT3\";\"T\";3;4;\"services\";\"teacher\";\"course\";\"father\";2;3;2;\"no\";\"yes\";\"no\";\"no\";\"yes\";\"yes\";\"yes\";\"yes\";4;2;2;2;2;5;0;\"12\";\"0\";0\n",
        "\"GP\";\"F\";15;\"U\";\"GT3\";\"T\";1;1;\"at_home\";\"other\";\"course\";\"mother\";3;1;0;\"no\";\"yes\";\"no\";\"yes\";\"no\";\"yes\";\"yes\";\"yes\";4;3;3;1;2;4;0;\"8\";\"0\";0\n",
        "\"GP\";\"F\";17;\"U\";\"LE3\";\"T\";2;2;\"other\";\"other\";\"course\";\"father\";1;1;0;\"no\";\"yes\";\"no\";\"no\";\"yes\";\"yes\";\"yes\";\"yes\";3;4;4;1;3;5;12;\"10\";\"13\";12\n",
        "\"GP\";\"F\";16;\"U\";\"GT3\";\"A\";3;4;\"services\";\"other\";\"course\";\"father\";1;1;0;\"no\";\"no\";\"no\";\"no\";\"yes\";\"yes\";\"yes\";\"no\";3;2;1;1;4;5;16;\"12\";\"11\";11\n",
        "\"GP\";\"M\";15;\"R\";\"GT3\";\"T\";3;4;\"at_home\";\"teacher\";\"course\";\"mother\";4;2;0;\"no\";\"yes\";\"no\";\"no\";\"yes\";\"yes\";\"no\";\"yes\";5;3;3;1;1;5;0;\"9\";\"0\";0\n",
        "\"GP\";\"F\";15;\"U\";\"GT3\";\"T\";4;4;\"services\";\"at_home\";\"course\";\"mother\";1;3;0;\"no\";\"yes\";\"no\";\"yes\";\"yes\";\"yes\";\"yes\";\"yes\";4;3;3;1;1;5;0;\"11\";\"0\";0\n",
        "\"GP\";\"M\";17;\"R\";\"GT3\";\"T\";3;4;\"at_home\";\"other\";\"course\";\"mother\";3;2;0;\"no\";\"no\";\"no\";\"no\";\"yes\";\"yes\";\"no\";\"no\";5;4;5;2;4;5;0;\"10\";\"0\";0\n",
        "\"GP\";\"F\";16;\"U\";\"GT3\";\"A\";3;3;\"other\";\"other\";\"course\";\"other\";2;1;2;\"no\";\"yes\";\"no\";\"yes\";\"no\";\"yes\";\"yes\";\"yes\";4;3;2;1;1;5;0;\"4\";\"0\";0\n",
        "\"GP\";\"M\";16;\"U\";\"LE3\";\"T\";1;1;\"services\";\"other\";\"course\";\"mother\";1;2;1;\"no\";\"no\";\"no\";\"no\";\"yes\";\"yes\";\"no\";\"yes\";4;4;4;1;3;5;0;\"14\";\"12\";12\n",
        "\"GP\";\"F\";15;\"U\";\"GT3\";\"T\";4;4;\"teacher\";\"teacher\";\"course\";\"mother\";2;1;0;\"no\";\"no\";\"no\";\"yes\";\"yes\";\"yes\";\"yes\";\"no\";4;3;2;1;1;5;0;\"16\";\"16\";15\n",
        "\"GP\";\"M\";15;\"U\";\"GT3\";\"T\";4;3;\"teacher\";\"services\";\"course\";\"father\";2;4;0;\"yes\";\"yes\";\"no\";\"no\";\"yes\";\"yes\";\"yes\";\"no\";2;2;2;1;1;3;0;\"7\";\"9\";0\n",
        "\"GP\";\"M\";16;\"U\";\"LE3\";\"T\";2;2;\"services\";\"services\";\"reputation\";\"father\";2;1;2;\"no\";\"yes\";\"no\";\"yes\";\"yes\";\"yes\";\"yes\";\"no\";2;3;3;2;2;2;8;\"9\";\"9\";9\n",
        "\"GP\";\"F\";15;\"U\";\"GT3\";\"T\";4;4;\"teacher\";\"services\";\"course\";\"mother\";1;3;0;\"no\";\"yes\";\"yes\";\"yes\";\"yes\";\"yes\";\"yes\";\"no\";4;2;2;1;1;5;2;\"9\";\"11\";11\n",
        "\"GP\";\"F\";16;\"U\";\"LE3\";\"T\";1;1;\"at_home\";\"at_home\";\"course\";\"mother\";1;1;0;\"no\";\"no\";\"no\";\"no\";\"yes\";\"yes\";\"yes\";\"no\";3;4;4;3;3;1;2;\"14\";\"14\";13\n",
        "\"GP\";\"M\";17;\"U\";\"GT3\";\"T\";2;1;\"other\";\"other\";\"home\";\"mother\";1;1;3;\"no\";\"yes\";\"no\";\"no\";\"yes\";\"yes\";\"yes\";\"no\";5;4;5;1;2;5;0;\"5\";\"0\";0\n",
        "\"GP\";\"F\";15;\"U\";\"GT3\";\"T\";1;1;\"other\";\"services\";\"course\";\"father\";1;2;0;\"no\";\"yes\";\"yes\";\"no\";\"yes\";\"yes\";\"yes\";\"no\";4;4;2;1;2;5;0;\"8\";\"11\";11\n",
        "\"GP\";\"F\";15;\"U\";\"GT3\";\"T\";3;2;\"health\";\"services\";\"home\";\"father\";1;2;3;\"no\";\"yes\";\"no\";\"no\";\"yes\";\"yes\";\"yes\";\"no\";3;3;2;1;1;3;0;\"6\";\"7\";0\n",
        "\"GP\";\"F\";15;\"U\";\"GT3\";\"T\";1;2;\"at_home\";\"other\";\"course\";\"mother\";1;2;0;\"no\";\"yes\";\"yes\";\"no\";\"no\";\"yes\";\"yes\";\"no\";4;3;2;1;1;5;2;\"10\";\"11\";11\n",
        "\"GP\";\"M\";16;\"U\";\"GT3\";\"T\";4;4;\"teacher\";\"teacher\";\"course\";\"mother\";1;1;0;\"no\";\"yes\";\"no\";\"no\";\"yes\";\"no\";\"yes\";\"yes\";3;3;2;2;1;5;0;\"7\";\"6\";0\n",
        "\"GP\";\"M\";15;\"U\";\"LE3\";\"A\";2;1;\"services\";\"other\";\"course\";\"mother\";4;1;3;\"no\";\"no\";\"no\";\"no\";\"yes\";\"yes\";\"yes\";\"no\";4;5;5;2;5;5;0;\"8\";\"9\";10\n",
        "\"GP\";\"M\";18;\"U\";\"LE3\";\"T\";1;1;\"other\";\"other\";\"course\";\"mother\";1;1;3;\"no\";\"no\";\"no\";\"no\";\"yes\";\"no\";\"yes\";\"yes\";2;3;5;2;5;4;0;\"6\";\"5\";0\n",
        "\"GP\";\"M\";16;\"U\";\"LE3\";\"T\";2;1;\"at_home\";\"other\";\"course\";\"mother\";1;1;1;\"no\";\"no\";\"no\";\"yes\";\"yes\";\"yes\";\"no\";\"yes\";4;4;4;3;5;5;6;\"12\";\"13\";14\n",
        "\"GP\";\"F\";15;\"R\";\"GT3\";\"T\";3;3;\"services\";\"services\";\"reputation\";\"other\";2;3;2;\"no\";\"yes\";\"yes\";\"yes\";\"yes\";\"yes\";\"yes\";\"yes\";4;2;1;2;3;3;8;\"10\";\"10\";10\n",
        "\"GP\";\"M\";19;\"U\";\"GT3\";\"T\";3;2;\"services\";\"at_home\";\"home\";\"mother\";1;1;3;\"no\";\"yes\";\"no\";\"no\";\"yes\";\"no\";\"yes\";\"yes\";4;5;4;1;1;4;0;\"5\";\"0\";0\n",
        "\"GP\";\"F\";17;\"U\";\"GT3\";\"T\";4;4;\"other\";\"teacher\";\"course\";\"mother\";1;1;0;\"yes\";\"yes\";\"no\";\"no\";\"yes\";\"yes\";\"no\";\"yes\";4;2;1;1;1;4;0;\"11\";\"11\";12\n",
        "\"GP\";\"M\";15;\"R\";\"GT3\";\"T\";2;3;\"at_home\";\"services\";\"course\";\"mother\";1;2;0;\"yes\";\"no\";\"yes\";\"yes\";\"yes\";\"yes\";\"no\";\"no\";4;4;4;1;1;1;2;\"11\";\"8\";8\n",
        "\"GP\";\"M\";17;\"R\";\"LE3\";\"T\";1;2;\"other\";\"other\";\"reputation\";\"mother\";1;1;0;\"no\";\"no\";\"no\";\"no\";\"yes\";\"yes\";\"no\";\"no\";2;2;2;3;3;5;8;\"16\";\"12\";13\n",
        "\"GP\";\"F\";18;\"R\";\"GT3\";\"T\";1;1;\"at_home\";\"other\";\"course\";\"mother\";3;1;3;\"no\";\"yes\";\"no\";\"yes\";\"no\";\"yes\";\"no\";\"no\";5;2;5;1;5;4;6;\"9\";\"8\";10\n",
        "\"GP\";\"M\";16;\"R\";\"GT3\";\"T\";2;2;\"at_home\";\"other\";\"course\";\"mother\";3;1;0;\"no\";\"no\";\"no\";\"no\";\"no\";\"yes\";\"no\";\"no\";4;2;2;1;2;3;2;\"17\";\"15\";15\n",
        "\"GP\";\"M\";16;\"U\";\"GT3\";\"T\";3;3;\"other\";\"services\";\"course\";\"father\";1;2;1;\"no\";\"yes\";\"yes\";\"no\";\"yes\";\"yes\";\"yes\";\"yes\";4;5;5;4;4;5;4;\"10\";\"12\";12\n",
        "\"GP\";\"M\";17;\"R\";\"LE3\";\"T\";2;1;\"at_home\";\"other\";\"course\";\"mother\";2;1;2;\"no\";\"no\";\"no\";\"yes\";\"yes\";\"no\";\"yes\";\"yes\";3;3;2;2;2;5;0;\"7\";\"6\";0\n",
        "\"GP\";\"M\";15;\"R\";\"GT3\";\"T\";3;2;\"other\";\"other\";\"course\";\"mother\";2;2;2;\"yes\";\"yes\";\"no\";\"no\";\"yes\";\"yes\";\"yes\";\"yes\";4;4;4;1;4;3;6;\"5\";\"9\";7\n",
        "\"GP\";\"M\";16;\"U\";\"LE3\";\"T\";1;2;\"other\";\"other\";\"course\";\"mother\";2;1;1;\"no\";\"no\";\"no\";\"yes\";\"yes\";\"yes\";\"no\";\"no\";4;4;4;2;4;5;0;\"7\";\"0\";0\n",
        "\"GP\";\"M\";17;\"U\";\"GT3\";\"T\";1;3;\"at_home\";\"services\";\"course\";\"father\";1;1;0;\"no\";\"no\";\"no\";\"no\";\"yes\";\"no\";\"yes\";\"no\";5;3;3;1;4;2;2;\"10\";\"10\";10\n",
        "\"GP\";\"M\";17;\"R\";\"LE3\";\"T\";1;1;\"other\";\"services\";\"course\";\"mother\";4;2;3;\"no\";\"no\";\"no\";\"yes\";\"yes\";\"no\";\"no\";\"yes\";5;3;5;1;5;5;0;\"5\";\"8\";7\n",
        "\"GP\";\"M\";16;\"U\";\"GT3\";\"T\";3;2;\"services\";\"services\";\"course\";\"mother\";2;1;1;\"no\";\"yes\";\"no\";\"yes\";\"no\";\"no\";\"no\";\"no\";4;5;2;1;1;2;16;\"12\";\"11\";12\n",
        "\"GP\";\"M\";16;\"U\";\"GT3\";\"T\";2;2;\"other\";\"other\";\"course\";\"father\";1;2;0;\"no\";\"no\";\"no\";\"no\";\"yes\";\"no\";\"yes\";\"no\";4;3;5;2;4;4;4;\"10\";\"10\";10\n",
        "\"GP\";\"F\";16;\"U\";\"GT3\";\"T\";4;2;\"health\";\"services\";\"home\";\"father\";1;2;0;\"no\";\"no\";\"yes\";\"no\";\"yes\";\"yes\";\"yes\";\"yes\";4;2;3;1;1;3;0;\"14\";\"15\";16\n",
        "\"GP\";\"F\";16;\"U\";\"GT3\";\"T\";2;2;\"other\";\"other\";\"home\";\"mother\";1;2;0;\"no\";\"yes\";\"yes\";\"no\";\"no\";\"yes\";\"yes\";\"no\";5;1;5;1;1;4;0;\"6\";\"7\";0\n",
        "\"GP\";\"F\";16;\"U\";\"GT3\";\"T\";4;4;\"health\";\"health\";\"reputation\";\"mother\";1;2;0;\"no\";\"yes\";\"yes\";\"no\";\"yes\";\"yes\";\"yes\";\"yes\";4;4;2;1;1;3;0;\"14\";\"14\";14\n",
        "\"GP\";\"M\";16;\"U\";\"GT3\";\"T\";3;4;\"other\";\"other\";\"course\";\"father\";3;1;2;\"no\";\"yes\";\"no\";\"yes\";\"no\";\"yes\";\"yes\";\"no\";3;4;5;2;4;2;0;\"6\";\"5\";0\n",
        "\"GP\";\"M\";16;\"U\";\"GT3\";\"T\";1;0;\"other\";\"other\";\"reputation\";\"mother\";2;2;0;\"no\";\"yes\";\"yes\";\"yes\";\"yes\";\"yes\";\"yes\";\"yes\";4;3;2;1;1;3;2;\"13\";\"15\";16\n",
        "\"GP\";\"M\";17;\"U\";\"LE3\";\"T\";4;4;\"teacher\";\"other\";\"reputation\";\"mother\";1;2;0;\"no\";\"yes\";\"yes\";\"yes\";\"yes\";\"yes\";\"yes\";\"no\";4;4;4;1;3;5;0;\"13\";\"11\";10\n",
        "\"GP\";\"F\";16;\"U\";\"GT3\";\"T\";1;3;\"at_home\";\"services\";\"home\";\"mother\";1;2;3;\"no\";\"no\";\"no\";\"yes\";\"no\";\"yes\";\"yes\";\"yes\";4;3;5;1;1;3;0;\"8\";\"7\";0\n",
        "\"GP\";\"F\";16;\"U\";\"LE3\";\"T\";3;3;\"other\";\"other\";\"reputation\";\"mother\";2;2;0;\"no\";\"yes\";\"yes\";\"yes\";\"yes\";\"yes\";\"yes\";\"no\";4;4;5;1;1;4;4;\"10\";\"11\";9\n",
        "\"GP\";\"M\";17;\"U\";\"LE3\";\"T\";4;3;\"teacher\";\"other\";\"course\";\"mother\";2;2;0;\"no\";\"no\";\"yes\";\"yes\";\"yes\";\"yes\";\"yes\";\"no\";4;4;4;4;4;4;4;\"10\";\"9\";9\n",
        "\"GP\";\"F\";16;\"U\";\"GT3\";\"T\";2;2;\"services\";\"other\";\"reputation\";\"mother\";2;2;0;\"no\";\"no\";\"yes\";\"yes\";\"no\";\"yes\";\"yes\";\"no\";3;4;4;1;4;5;2;\"13\";\"13\";11\n",
        "\"GP\";\"M\";17;\"U\";\"GT3\";\"T\";3;3;\"other\";\"other\";\"reputation\";\"father\";1;2;0;\"no\";\"no\";\"no\";\"yes\";\"no\";\"yes\";\"yes\";\"no\";4;3;4;1;4;4;4;\"6\";\"5\";6\n",
        "\"GP\";\"M\";16;\"R\";\"GT3\";\"T\";4;2;\"teacher\";\"services\";\"other\";\"mother\";1;1;0;\"no\";\"yes\";\"no\";\"yes\";\"yes\";\"yes\";\"yes\";\"yes\";4;3;3;3;4;3;10;\"10\";\"8\";9\n",
        "\"GP\";\"M\";17;\"U\";\"GT3\";\"T\";4;3;\"other\";\"other\";\"course\";\"mother\";1;2;0;\"no\";\"yes\";\"no\";\"yes\";\"yes\";\"yes\";\"yes\";\"yes\";5;2;3;1;1;2;4;\"10\";\"10\";11\n",
        "\"GP\";\"M\";16;\"U\";\"GT3\";\"T\";4;3;\"teacher\";\"other\";\"home\";\"mother\";1;2;0;\"no\";\"yes\";\"yes\";\"yes\";\"yes\";\"yes\";\"yes\";\"no\";3;4;3;2;3;3;10;\"9\";\"8\";8\n",
        "\"GP\";\"M\";16;\"U\";\"GT3\";\"T\";3;3;\"services\";\"other\";\"home\";\"mother\";1;2;0;\"no\";\"no\";\"yes\";\"yes\";\"yes\";\"yes\";\"yes\";\"yes\";4;2;3;1;2;3;2;\"12\";\"13\";12\n",
        "\"GP\";\"F\";17;\"U\";\"GT3\";\"T\";2;4;\"services\";\"services\";\"reputation\";\"father\";1;2;0;\"no\";\"yes\";\"no\";\"yes\";\"yes\";\"yes\";\"no\";\"no\";5;4;2;2;3;5;0;\"16\";\"17\";17\n",
        "\"GP\";\"F\";17;\"U\";\"LE3\";\"T\";3;3;\"other\";\"other\";\"reputation\";\"mother\";1;2;0;\"no\";\"yes\";\"no\";\"yes\";\"yes\";\"yes\";\"yes\";\"yes\";5;3;3;2;3;1;56;\"9\";\"9\";8\n",
        "\"GP\";\"F\";16;\"U\";\"GT3\";\"T\";3;2;\"other\";\"other\";\"reputation\";\"mother\";1;2;0;\"no\";\"yes\";\"yes\";\"no\";\"yes\";\"yes\";\"yes\";\"no\";1;2;2;1;2;1;14;\"12\";\"13\";12\n",
        "\"GP\";\"M\";17;\"U\";\"GT3\";\"T\";3;3;\"services\";\"services\";\"other\";\"mother\";1;2;0;\"no\";\"yes\";\"no\";\"yes\";\"yes\";\"yes\";\"yes\";\"yes\";4;3;4;2;3;4;12;\"12\";\"12\";11\n",
        "\"GP\";\"M\";16;\"U\";\"GT3\";\"T\";1;2;\"services\";\"services\";\"other\";\"mother\";1;1;0;\"no\";\"yes\";\"yes\";\"yes\";\"yes\";\"yes\";\"yes\";\"yes\";3;3;3;1;2;3;2;\"11\";\"12\";11\n",
        "\"GP\";\"M\";16;\"U\";\"LE3\";\"T\";2;1;\"other\";\"other\";\"course\";\"mother\";1;2;0;\"no\";\"no\";\"yes\";\"yes\";\"yes\";\"yes\";\"yes\";\"yes\";4;2;3;1;2;5;0;\"15\";\"15\";15\n",
        "\"GP\";\"F\";17;\"U\";\"GT3\";\"A\";3;3;\"health\";\"other\";\"reputation\";\"mother\";1;2;0;\"no\";\"yes\";\"no\";\"no\";\"no\";\"yes\";\"yes\";\"yes\";3;3;3;1;3;3;6;\"8\";\"7\";9\n",
        "\"GP\";\"M\";17;\"R\";\"GT3\";\"T\";1;2;\"at_home\";\"other\";\"home\";\"mother\";1;2;0;\"no\";\"no\";\"no\";\"no\";\"yes\";\"yes\";\"no\";\"no\";3;1;3;1;5;3;4;\"8\";\"9\";10\n",
        "\"GP\";\"F\";16;\"U\";\"GT3\";\"T\";2;3;\"services\";\"services\";\"course\";\"mother\";1;2;0;\"no\";\"no\";\"no\";\"no\";\"yes\";\"yes\";\"yes\";\"no\";4;3;3;1;1;2;10;\"11\";\"12\";13\n",
        "\"GP\";\"F\";17;\"U\";\"GT3\";\"T\";1;1;\"at_home\";\"services\";\"course\";\"mother\";1;2;0;\"no\";\"no\";\"no\";\"yes\";\"yes\";\"yes\";\"yes\";\"no\";5;3;3;1;1;3;0;\"8\";\"8\";9\n",
        "\"GP\";\"M\";17;\"U\";\"GT3\";\"T\";1;2;\"at_home\";\"services\";\"other\";\"other\";2;2;0;\"no\";\"no\";\"yes\";\"yes\";\"no\";\"yes\";\"yes\";\"no\";4;4;4;4;5;5;12;\"7\";\"8\";8\n",
        "\"GP\";\"M\";16;\"R\";\"GT3\";\"T\";3;3;\"services\";\"services\";\"reputation\";\"mother\";1;1;0;\"no\";\"yes\";\"no\";\"yes\";\"yes\";\"yes\";\"yes\";\"no\";4;3;2;3;4;5;8;\"8\";\"9\";10\n",
        "\"GP\";\"M\";16;\"U\";\"GT3\";\"T\";2;3;\"other\";\"other\";\"home\";\"father\";2;1;0;\"no\";\"no\";\"no\";\"no\";\"yes\";\"yes\";\"yes\";\"no\";5;3;3;1;1;3;0;\"13\";\"14\";14\n",
        "\"GP\";\"F\";17;\"U\";\"LE3\";\"T\";2;4;\"services\";\"services\";\"course\";\"father\";1;2;0;\"no\";\"no\";\"no\";\"yes\";\"yes\";\"yes\";\"yes\";\"yes\";4;3;2;1;1;5;0;\"14\";\"15\";15\n",
        "\"GP\";\"M\";17;\"U\";\"GT3\";\"T\";4;4;\"services\";\"teacher\";\"home\";\"mother\";1;1;0;\"no\";\"no\";\"no\";\"no\";\"yes\";\"yes\";\"yes\";\"no\";5;2;3;1;2;5;4;\"17\";\"15\";16\n",
        "\"GP\";\"M\";16;\"R\";\"LE3\";\"T\";3;3;\"teacher\";\"other\";\"home\";\"father\";3;1;0;\"no\";\"yes\";\"yes\";\"yes\";\"yes\";\"yes\";\"yes\";\"no\";3;3;4;3;5;3;8;\"9\";\"9\";10\n",
        "\"GP\";\"F\";17;\"U\";\"GT3\";\"T\";4;4;\"services\";\"teacher\";\"home\";\"mother\";2;1;1;\"no\";\"yes\";\"no\";\"no\";\"yes\";\"yes\";\"yes\";\"no\";4;2;4;2;3;2;24;\"18\";\"18\";18\n",
        "\"GP\";\"F\";16;\"U\";\"LE3\";\"T\";4;4;\"teacher\";\"teacher\";\"reputation\";\"mother\";1;2;0;\"no\";\"yes\";\"yes\";\"no\";\"yes\";\"yes\";\"yes\";\"no\";4;5;2;1;2;3;0;\"9\";\"9\";10\n",
        "\"GP\";\"F\";16;\"U\";\"GT3\";\"T\";4;3;\"health\";\"other\";\"home\";\"mother\";1;2;0;\"no\";\"yes\";\"no\";\"yes\";\"yes\";\"yes\";\"yes\";\"no\";4;3;5;1;5;2;2;\"16\";\"16\";16\n",
        "\"GP\";\"F\";16;\"U\";\"GT3\";\"T\";2;3;\"other\";\"other\";\"reputation\";\"mother\";1;2;0;\"yes\";\"yes\";\"yes\";\"yes\";\"yes\";\"yes\";\"no\";\"no\";4;4;3;1;3;4;6;\"8\";\"10\";10\n",
        "\"GP\";\"F\";17;\"U\";\"GT3\";\"T\";1;1;\"other\";\"other\";\"course\";\"mother\";1;2;0;\"no\";\"yes\";\"yes\";\"no\";\"no\";\"yes\";\"no\";\"no\";4;4;4;1;3;1;4;\"9\";\"9\";10\n",
        "\"GP\";\"F\";17;\"R\";\"GT3\";\"T\";2;2;\"other\";\"other\";\"reputation\";\"mother\";1;1;0;\"no\";\"yes\";\"no\";\"no\";\"yes\";\"yes\";\"yes\";\"no\";5;3;2;1;2;3;18;\"7\";\"6\";6\n",
        "\"GP\";\"F\";16;\"R\";\"GT3\";\"T\";2;2;\"services\";\"services\";\"reputation\";\"mother\";2;4;0;\"no\";\"yes\";\"yes\";\"yes\";\"no\";\"yes\";\"yes\";\"no\";5;3;5;1;1;5;6;\"10\";\"10\";11\n",
        "\"GP\";\"F\";17;\"U\";\"GT3\";\"T\";3;4;\"at_home\";\"services\";\"home\";\"mother\";1;3;1;\"no\";\"yes\";\"yes\";\"no\";\"yes\";\"yes\";\"yes\";\"yes\";4;4;3;3;4;5;28;\"10\";\"9\";9\n",
        "\"GP\";\"F\";16;\"U\";\"GT3\";\"A\";3;1;\"services\";\"other\";\"course\";\"mother\";1;2;3;\"no\";\"yes\";\"yes\";\"no\";\"yes\";\"yes\";\"yes\";\"no\";2;3;3;2;2;4;5;\"7\";\"7\";7\n",
        "\"GP\";\"F\";16;\"U\";\"GT3\";\"T\";4;3;\"teacher\";\"other\";\"other\";\"mother\";1;2;0;\"no\";\"no\";\"yes\";\"yes\";\"yes\";\"yes\";\"yes\";\"yes\";1;3;2;1;1;1;10;\"11\";\"12\";13\n",
        "\"GP\";\"F\";16;\"U\";\"GT3\";\"T\";1;1;\"at_home\";\"other\";\"home\";\"mother\";2;1;0;\"no\";\"yes\";\"yes\";\"no\";\"yes\";\"yes\";\"no\";\"no\";4;3;2;1;4;5;6;\"9\";\"9\";10\n",
        "\"GP\";\"F\";17;\"R\";\"GT3\";\"T\";4;3;\"teacher\";\"other\";\"reputation\";\"mother\";2;3;0;\"no\";\"yes\";\"yes\";\"yes\";\"yes\";\"yes\";\"yes\";\"yes\";4;4;2;1;1;4;6;\"7\";\"7\";7\n",
        "\"GP\";\"F\";19;\"U\";\"GT3\";\"T\";3;3;\"other\";\"other\";\"reputation\";\"other\";1;4;0;\"no\";\"yes\";\"yes\";\"yes\";\"yes\";\"yes\";\"yes\";\"no\";4;3;3;1;2;3;10;\"8\";\"8\";8\n",
        "\"GP\";\"M\";17;\"U\";\"LE3\";\"T\";4;4;\"services\";\"other\";\"home\";\"mother\";1;2;0;\"no\";\"yes\";\"yes\";\"no\";\"yes\";\"yes\";\"yes\";\"yes\";5;3;5;4;5;3;13;\"12\";\"12\";13\n",
        "\"GP\";\"F\";16;\"U\";\"GT3\";\"A\";2;2;\"other\";\"other\";\"reputation\";\"mother\";1;2;0;\"yes\";\"yes\";\"yes\";\"no\";\"yes\";\"yes\";\"yes\";\"no\";3;3;4;1;1;4;0;\"12\";\"13\";14\n",
        "\"GP\";\"M\";18;\"U\";\"GT3\";\"T\";2;2;\"services\";\"other\";\"home\";\"mother\";1;2;1;\"no\";\"yes\";\"yes\";\"yes\";\"yes\";\"yes\";\"yes\";\"no\";4;4;4;2;4;5;15;\"6\";\"7\";8\n",
        "\"GP\";\"F\";17;\"R\";\"LE3\";\"T\";4;4;\"services\";\"other\";\"other\";\"mother\";1;1;0;\"no\";\"yes\";\"yes\";\"no\";\"yes\";\"yes\";\"no\";\"no\";5;2;1;1;2;3;12;\"8\";\"10\";10\n",
        "\"GP\";\"F\";17;\"U\";\"LE3\";\"T\";3;2;\"other\";\"other\";\"reputation\";\"mother\";2;2;0;\"no\";\"no\";\"yes\";\"no\";\"yes\";\"yes\";\"yes\";\"no\";4;4;4;1;3;1;2;\"14\";\"15\";15\n",
        "\"GP\";\"F\";17;\"U\";\"GT3\";\"T\";4;3;\"other\";\"other\";\"reputation\";\"mother\";1;2;2;\"no\";\"no\";\"yes\";\"no\";\"yes\";\"yes\";\"yes\";\"yes\";3;4;5;2;4;1;22;\"6\";\"6\";4\n",
        "\"GP\";\"M\";18;\"U\";\"LE3\";\"T\";3;3;\"services\";\"health\";\"home\";\"father\";1;2;1;\"no\";\"yes\";\"yes\";\"no\";\"yes\";\"yes\";\"yes\";\"no\";3;2;4;2;4;4;13;\"6\";\"6\";8\n",
        "\"GP\";\"F\";17;\"U\";\"GT3\";\"T\";2;3;\"at_home\";\"other\";\"home\";\"father\";2;1;0;\"no\";\"yes\";\"yes\";\"no\";\"yes\";\"yes\";\"no\";\"no\";3;3;3;1;4;3;3;\"7\";\"7\";8\n",
        "\"GP\";\"F\";17;\"U\";\"GT3\";\"T\";2;2;\"at_home\";\"at_home\";\"course\";\"mother\";1;3;0;\"no\";\"yes\";\"yes\";\"yes\";\"yes\";\"yes\";\"yes\";\"no\";4;3;3;1;1;4;4;\"9\";\"10\";10\n",
        "\"GP\";\"F\";17;\"R\";\"GT3\";\"T\";2;1;\"at_home\";\"services\";\"reputation\";\"mother\";2;2;0;\"no\";\"yes\";\"no\";\"yes\";\"yes\";\"yes\";\"yes\";\"no\";4;2;5;1;2;5;2;\"6\";\"6\";6\n",
        "\"GP\";\"F\";17;\"U\";\"GT3\";\"T\";1;1;\"at_home\";\"other\";\"reputation\";\"mother\";1;3;1;\"no\";\"yes\";\"no\";\"yes\";\"yes\";\"yes\";\"no\";\"yes\";4;3;4;1;1;5;0;\"6\";\"5\";0\n",
        "\"GP\";\"F\";16;\"U\";\"GT3\";\"T\";2;3;\"services\";\"teacher\";\"other\";\"mother\";1;2;0;\"yes\";\"no\";\"no\";\"no\";\"yes\";\"yes\";\"yes\";\"no\";2;3;1;1;1;3;2;\"16\";\"16\";17\n",
        "\"GP\";\"M\";18;\"U\";\"GT3\";\"T\";2;2;\"other\";\"other\";\"home\";\"mother\";2;2;0;\"no\";\"yes\";\"yes\";\"no\";\"yes\";\"yes\";\"yes\";\"no\";3;3;3;5;5;4;0;\"12\";\"13\";13\n",
        "\"GP\";\"F\";16;\"U\";\"GT3\";\"T\";4;4;\"teacher\";\"services\";\"home\";\"mother\";1;3;0;\"no\";\"yes\";\"no\";\"yes\";\"no\";\"yes\";\"yes\";\"no\";5;3;2;1;1;5;0;\"13\";\"13\";14\n",
        "\"GP\";\"F\";18;\"R\";\"GT3\";\"T\";3;1;\"other\";\"other\";\"reputation\";\"mother\";1;2;1;\"no\";\"no\";\"no\";\"yes\";\"yes\";\"yes\";\"yes\";\"yes\";5;3;3;1;1;4;16;\"9\";\"8\";7\n",
        "\"GP\";\"F\";17;\"U\";\"GT3\";\"T\";3;2;\"other\";\"other\";\"course\";\"mother\";1;2;0;\"no\";\"no\";\"no\";\"yes\";\"no\";\"yes\";\"yes\";\"no\";5;3;4;1;3;3;10;\"16\";\"15\";15\n",
        "\"GP\";\"M\";17;\"U\";\"LE3\";\"T\";2;3;\"services\";\"services\";\"reputation\";\"father\";1;2;0;\"no\";\"yes\";\"yes\";\"no\";\"no\";\"yes\";\"yes\";\"no\";5;3;3;1;3;3;2;\"12\";\"11\";12\n",
        "\"GP\";\"M\";18;\"U\";\"LE3\";\"T\";2;1;\"at_home\";\"other\";\"course\";\"mother\";4;2;0;\"yes\";\"yes\";\"yes\";\"yes\";\"yes\";\"yes\";\"yes\";\"yes\";4;3;2;4;5;3;14;\"10\";\"8\";9\n",
        "\"GP\";\"F\";17;\"U\";\"GT3\";\"A\";2;1;\"other\";\"other\";\"course\";\"mother\";2;3;0;\"no\";\"no\";\"no\";\"yes\";\"yes\";\"yes\";\"yes\";\"yes\";3;2;3;1;2;3;10;\"12\";\"10\";12\n",
        "\"GP\";\"F\";17;\"U\";\"LE3\";\"T\";4;3;\"health\";\"other\";\"reputation\";\"father\";1;2;0;\"no\";\"no\";\"no\";\"yes\";\"yes\";\"yes\";\"yes\";\"yes\";3;2;3;1;2;3;14;\"13\";\"13\";14\n",
        "\"GP\";\"M\";17;\"R\";\"GT3\";\"T\";2;2;\"other\";\"other\";\"course\";\"father\";2;2;0;\"no\";\"yes\";\"yes\";\"yes\";\"yes\";\"yes\";\"yes\";\"no\";4;5;2;1;1;1;4;\"11\";\"11\";11\n",
        "\"GP\";\"M\";17;\"U\";\"GT3\";\"T\";4;4;\"teacher\";\"teacher\";\"reputation\";\"mother\";1;2;0;\"yes\";\"yes\";\"no\";\"yes\";\"yes\";\"yes\";\"yes\";\"yes\";4;5;5;1;3;2;14;\"11\";\"9\";9\n",
        "\"GP\";\"M\";16;\"U\";\"GT3\";\"T\";4;4;\"health\";\"other\";\"reputation\";\"father\";1;2;0;\"no\";\"yes\";\"yes\";\"yes\";\"yes\";\"yes\";\"yes\";\"no\";4;2;4;2;4;1;2;\"14\";\"13\";13\n",
        "\"GP\";\"M\";16;\"U\";\"LE3\";\"T\";1;1;\"other\";\"other\";\"home\";\"mother\";2;2;0;\"no\";\"yes\";\"yes\";\"no\";\"yes\";\"yes\";\"yes\";\"no\";3;4;2;1;1;5;18;\"9\";\"7\";6\n",
        "\"GP\";\"M\";16;\"U\";\"GT3\";\"T\";3;2;\"at_home\";\"other\";\"reputation\";\"mother\";2;3;0;\"no\";\"no\";\"no\";\"yes\";\"yes\";\"yes\";\"yes\";\"yes\";5;3;3;1;3;2;10;\"11\";\"9\";10\n",
        "\"GP\";\"M\";17;\"U\";\"LE3\";\"T\";2;2;\"other\";\"other\";\"home\";\"father\";1;2;0;\"no\";\"no\";\"yes\";\"yes\";\"no\";\"yes\";\"yes\";\"yes\";4;4;2;5;5;4;4;\"14\";\"13\";13\n",
        "\"GP\";\"F\";16;\"U\";\"GT3\";\"T\";2;1;\"other\";\"other\";\"home\";\"mother\";1;1;0;\"no\";\"no\";\"no\";\"no\";\"yes\";\"yes\";\"yes\";\"yes\";4;5;2;1;1;5;20;\"13\";\"12\";12\n",
        "\"GP\";\"F\";17;\"R\";\"GT3\";\"T\";2;1;\"at_home\";\"services\";\"course\";\"mother\";3;2;0;\"no\";\"no\";\"no\";\"yes\";\"yes\";\"yes\";\"no\";\"no\";2;1;1;1;1;3;2;\"13\";\"11\";11\n",
        "\"GP\";\"M\";18;\"U\";\"GT3\";\"T\";2;2;\"other\";\"services\";\"reputation\";\"father\";1;2;1;\"no\";\"no\";\"no\";\"no\";\"yes\";\"no\";\"yes\";\"no\";5;5;4;3;5;2;0;\"7\";\"7\";0\n",
        "\"GP\";\"M\";17;\"U\";\"LE3\";\"T\";4;3;\"health\";\"other\";\"course\";\"mother\";2;2;0;\"no\";\"no\";\"no\";\"yes\";\"yes\";\"yes\";\"yes\";\"yes\";2;5;5;1;4;5;14;\"12\";\"12\";12\n",
        "\"GP\";\"M\";17;\"R\";\"LE3\";\"A\";4;4;\"teacher\";\"other\";\"course\";\"mother\";2;2;0;\"no\";\"yes\";\"yes\";\"no\";\"yes\";\"yes\";\"yes\";\"no\";3;3;3;2;3;4;2;\"10\";\"11\";12\n",
        "\"GP\";\"M\";16;\"U\";\"LE3\";\"T\";4;3;\"teacher\";\"other\";\"course\";\"mother\";1;1;0;\"no\";\"no\";\"no\";\"yes\";\"no\";\"yes\";\"yes\";\"no\";5;4;5;1;1;3;0;\"6\";\"0\";0\n",
        "\"GP\";\"M\";16;\"U\";\"GT3\";\"T\";4;4;\"services\";\"services\";\"course\";\"mother\";1;1;0;\"no\";\"no\";\"no\";\"yes\";\"yes\";\"yes\";\"yes\";\"no\";5;3;2;1;2;5;0;\"13\";\"12\";12\n",
        "\"GP\";\"F\";18;\"U\";\"GT3\";\"T\";2;1;\"other\";\"other\";\"course\";\"other\";2;3;0;\"no\";\"yes\";\"yes\";\"no\";\"no\";\"yes\";\"yes\";\"yes\";4;4;4;1;1;3;0;\"7\";\"0\";0\n",
        "\"GP\";\"M\";16;\"U\";\"GT3\";\"T\";2;1;\"other\";\"other\";\"course\";\"mother\";3;1;0;\"no\";\"no\";\"no\";\"no\";\"yes\";\"yes\";\"yes\";\"no\";4;3;3;1;1;4;6;\"18\";\"18\";18\n",
        "\"GP\";\"M\";17;\"U\";\"GT3\";\"T\";2;3;\"other\";\"other\";\"course\";\"father\";2;1;0;\"no\";\"no\";\"no\";\"no\";\"yes\";\"yes\";\"yes\";\"no\";5;2;2;1;1;2;4;\"12\";\"12\";13\n",
        "\"GP\";\"M\";22;\"U\";\"GT3\";\"T\";3;1;\"services\";\"services\";\"other\";\"mother\";1;1;3;\"no\";\"no\";\"no\";\"no\";\"no\";\"no\";\"yes\";\"yes\";5;4;5;5;5;1;16;\"6\";\"8\";8\n",
        "\"GP\";\"M\";18;\"R\";\"LE3\";\"T\";3;3;\"other\";\"services\";\"course\";\"mother\";1;2;1;\"no\";\"yes\";\"no\";\"no\";\"yes\";\"yes\";\"yes\";\"yes\";4;3;3;1;3;5;8;\"3\";\"5\";5\n",
        "\"GP\";\"M\";16;\"U\";\"GT3\";\"T\";0;2;\"other\";\"other\";\"other\";\"mother\";1;1;0;\"no\";\"no\";\"yes\";\"no\";\"no\";\"yes\";\"yes\";\"no\";4;3;2;2;4;5;0;\"13\";\"15\";15\n",
        "\"GP\";\"M\";18;\"U\";\"GT3\";\"T\";3;2;\"services\";\"other\";\"course\";\"mother\";2;1;1;\"no\";\"no\";\"no\";\"no\";\"yes\";\"no\";\"yes\";\"no\";4;4;5;2;4;5;0;\"6\";\"8\";8\n",
        "\"GP\";\"M\";16;\"U\";\"GT3\";\"T\";3;3;\"at_home\";\"other\";\"reputation\";\"other\";3;2;0;\"yes\";\"yes\";\"no\";\"no\";\"no\";\"yes\";\"yes\";\"no\";5;3;3;1;3;2;6;\"7\";\"10\";10\n",
        "\"GP\";\"M\";18;\"U\";\"GT3\";\"T\";2;1;\"services\";\"services\";\"other\";\"mother\";1;1;1;\"no\";\"no\";\"no\";\"no\";\"no\";\"no\";\"yes\";\"no\";3;2;5;2;5;5;4;\"6\";\"9\";8\n",
        "\"GP\";\"M\";16;\"R\";\"GT3\";\"T\";2;1;\"other\";\"other\";\"course\";\"mother\";2;1;0;\"no\";\"no\";\"no\";\"yes\";\"no\";\"yes\";\"no\";\"no\";3;3;2;1;3;3;0;\"8\";\"9\";8\n",
        "\"GP\";\"M\";17;\"R\";\"GT3\";\"T\";2;1;\"other\";\"other\";\"course\";\"mother\";1;1;0;\"no\";\"no\";\"no\";\"no\";\"no\";\"yes\";\"yes\";\"no\";4;4;2;2;4;5;0;\"8\";\"12\";12\n",
        "\"GP\";\"M\";17;\"U\";\"LE3\";\"T\";1;1;\"health\";\"other\";\"course\";\"mother\";2;1;1;\"no\";\"yes\";\"no\";\"yes\";\"yes\";\"yes\";\"yes\";\"no\";4;4;4;1;2;5;2;\"7\";\"9\";8\n",
        "\"GP\";\"F\";17;\"U\";\"LE3\";\"T\";4;2;\"teacher\";\"services\";\"reputation\";\"mother\";1;4;0;\"no\";\"yes\";\"yes\";\"yes\";\"yes\";\"yes\";\"yes\";\"no\";4;2;3;1;1;4;6;\"14\";\"12\";13\n",
        "\"GP\";\"M\";19;\"U\";\"LE3\";\"A\";4;3;\"services\";\"at_home\";\"reputation\";\"mother\";1;2;0;\"no\";\"yes\";\"no\";\"no\";\"yes\";\"yes\";\"yes\";\"no\";4;3;1;1;1;1;12;\"11\";\"11\";11\n",
        "\"GP\";\"M\";18;\"U\";\"GT3\";\"T\";2;1;\"other\";\"other\";\"home\";\"mother\";1;2;0;\"no\";\"no\";\"no\";\"yes\";\"yes\";\"yes\";\"yes\";\"no\";5;2;4;1;2;4;8;\"15\";\"14\";14\n",
        "\"GP\";\"F\";17;\"U\";\"LE3\";\"T\";2;2;\"services\";\"services\";\"course\";\"father\";1;4;0;\"no\";\"no\";\"yes\";\"yes\";\"yes\";\"yes\";\"yes\";\"yes\";3;4;1;1;1;2;0;\"10\";\"9\";0\n",
        "\"GP\";\"F\";18;\"U\";\"GT3\";\"T\";4;3;\"services\";\"other\";\"home\";\"father\";1;2;0;\"no\";\"yes\";\"yes\";\"no\";\"yes\";\"yes\";\"yes\";\"yes\";3;1;2;1;3;2;21;\"17\";\"18\";18\n",
        "\"GP\";\"M\";18;\"U\";\"GT3\";\"T\";4;3;\"teacher\";\"other\";\"course\";\"mother\";1;2;0;\"no\";\"yes\";\"yes\";\"no\";\"no\";\"yes\";\"yes\";\"no\";4;3;2;1;1;3;2;\"8\";\"8\";8\n",
        "\"GP\";\"M\";18;\"R\";\"GT3\";\"T\";3;2;\"other\";\"other\";\"course\";\"mother\";1;3;0;\"no\";\"no\";\"no\";\"yes\";\"no\";\"yes\";\"no\";\"no\";5;3;2;1;1;3;1;\"13\";\"12\";12\n",
        "\"GP\";\"F\";17;\"U\";\"GT3\";\"T\";3;3;\"other\";\"other\";\"home\";\"mother\";1;3;0;\"no\";\"no\";\"no\";\"yes\";\"no\";\"yes\";\"no\";\"no\";3;2;3;1;1;4;4;\"10\";\"9\";9\n",
        "\"GP\";\"F\";18;\"U\";\"GT3\";\"T\";2;2;\"at_home\";\"services\";\"home\";\"mother\";1;3;0;\"no\";\"yes\";\"yes\";\"yes\";\"yes\";\"yes\";\"yes\";\"yes\";4;3;3;1;1;3;0;\"9\";\"10\";0\n",
        "\"GP\";\"M\";18;\"R\";\"LE3\";\"A\";3;4;\"other\";\"other\";\"reputation\";\"mother\";2;2;0;\"no\";\"yes\";\"yes\";\"yes\";\"yes\";\"yes\";\"yes\";\"no\";4;2;5;3;4;1;13;\"17\";\"17\";17\n",
        "\"GP\";\"M\";17;\"U\";\"GT3\";\"T\";3;1;\"services\";\"other\";\"other\";\"mother\";1;2;0;\"no\";\"no\";\"yes\";\"yes\";\"yes\";\"yes\";\"yes\";\"yes\";5;4;4;3;4;5;2;\"9\";\"9\";10\n",
        "\"GP\";\"F\";18;\"R\";\"GT3\";\"T\";4;4;\"teacher\";\"other\";\"reputation\";\"mother\";2;2;0;\"no\";\"no\";\"yes\";\"yes\";\"yes\";\"yes\";\"yes\";\"no\";4;3;4;2;2;4;8;\"12\";\"10\";11\n",
        "\"GP\";\"M\";18;\"U\";\"GT3\";\"T\";4;2;\"health\";\"other\";\"reputation\";\"father\";1;2;0;\"no\";\"yes\";\"yes\";\"yes\";\"yes\";\"yes\";\"yes\";\"yes\";5;4;5;1;3;5;10;\"10\";\"9\";10\n",
        "\"GP\";\"F\";18;\"R\";\"GT3\";\"T\";2;1;\"other\";\"other\";\"reputation\";\"mother\";2;2;0;\"no\";\"yes\";\"no\";\"no\";\"yes\";\"no\";\"yes\";\"yes\";4;3;5;1;2;3;0;\"6\";\"0\";0\n",
        "\"GP\";\"F\";19;\"U\";\"GT3\";\"T\";3;3;\"other\";\"services\";\"home\";\"other\";1;2;2;\"no\";\"yes\";\"yes\";\"yes\";\"yes\";\"yes\";\"yes\";\"no\";4;3;5;3;3;5;15;\"9\";\"9\";9\n",
        "\"GP\";\"F\";18;\"U\";\"GT3\";\"T\";2;3;\"other\";\"services\";\"reputation\";\"father\";1;4;0;\"no\";\"yes\";\"yes\";\"yes\";\"yes\";\"yes\";\"yes\";\"yes\";4;5;5;1;3;2;4;\"15\";\"14\";14\n",
        "\"GP\";\"F\";18;\"U\";\"LE3\";\"T\";1;1;\"other\";\"other\";\"home\";\"mother\";2;2;0;\"no\";\"yes\";\"yes\";\"no\";\"no\";\"yes\";\"no\";\"no\";4;4;3;1;1;3;2;\"11\";\"11\";11\n",
        "\"GP\";\"M\";17;\"R\";\"GT3\";\"T\";1;2;\"at_home\";\"at_home\";\"home\";\"mother\";1;2;0;\"no\";\"yes\";\"yes\";\"yes\";\"no\";\"yes\";\"no\";\"yes\";3;5;2;2;2;1;2;\"15\";\"14\";14\n",
        "\"GP\";\"F\";17;\"U\";\"GT3\";\"T\";2;4;\"at_home\";\"health\";\"reputation\";\"mother\";2;2;0;\"no\";\"yes\";\"yes\";\"no\";\"yes\";\"yes\";\"yes\";\"yes\";4;3;3;1;1;1;2;\"10\";\"10\";10\n",
        "\"GP\";\"F\";17;\"U\";\"LE3\";\"T\";2;2;\"services\";\"other\";\"course\";\"mother\";2;2;0;\"yes\";\"yes\";\"yes\";\"no\";\"yes\";\"yes\";\"yes\";\"yes\";4;4;4;2;3;5;6;\"12\";\"12\";12\n",
        "\"GP\";\"F\";18;\"R\";\"GT3\";\"A\";3;2;\"other\";\"services\";\"home\";\"mother\";2;2;0;\"no\";\"no\";\"no\";\"no\";\"no\";\"no\";\"yes\";\"yes\";4;1;1;1;1;5;75;\"10\";\"9\";9\n",
        "\"GP\";\"M\";18;\"U\";\"GT3\";\"T\";4;4;\"teacher\";\"services\";\"home\";\"mother\";2;1;0;\"no\";\"no\";\"yes\";\"yes\";\"yes\";\"yes\";\"yes\";\"no\";3;2;4;1;4;3;22;\"9\";\"9\";9\n",
        "\"GP\";\"F\";18;\"U\";\"GT3\";\"T\";4;4;\"health\";\"health\";\"reputation\";\"father\";1;2;1;\"yes\";\"yes\";\"no\";\"yes\";\"yes\";\"yes\";\"yes\";\"yes\";2;4;4;1;1;4;15;\"9\";\"8\";8\n",
        "\"GP\";\"M\";18;\"U\";\"LE3\";\"T\";4;3;\"teacher\";\"services\";\"course\";\"mother\";2;1;0;\"no\";\"no\";\"yes\";\"yes\";\"yes\";\"yes\";\"yes\";\"no\";4;2;3;1;2;1;8;\"10\";\"11\";10\n",
        "\"GP\";\"M\";17;\"U\";\"LE3\";\"A\";4;1;\"services\";\"other\";\"home\";\"mother\";2;1;0;\"no\";\"no\";\"yes\";\"yes\";\"yes\";\"yes\";\"yes\";\"yes\";4;5;4;2;4;5;30;\"8\";\"8\";8\n",
        "\"GP\";\"M\";17;\"U\";\"LE3\";\"A\";3;2;\"teacher\";\"services\";\"home\";\"mother\";1;1;1;\"no\";\"no\";\"no\";\"no\";\"yes\";\"yes\";\"yes\";\"no\";4;4;4;3;4;3;19;\"11\";\"9\";10\n",
        "\"GP\";\"F\";18;\"R\";\"LE3\";\"T\";1;1;\"at_home\";\"other\";\"reputation\";\"mother\";2;4;0;\"no\";\"yes\";\"yes\";\"yes\";\"yes\";\"yes\";\"no\";\"no\";5;2;2;1;1;3;1;\"12\";\"12\";12\n",
        "\"GP\";\"F\";18;\"U\";\"GT3\";\"T\";1;1;\"other\";\"other\";\"home\";\"mother\";2;2;0;\"yes\";\"no\";\"no\";\"yes\";\"yes\";\"yes\";\"yes\";\"no\";5;4;4;1;1;4;4;\"8\";\"9\";10\n",
        "\"GP\";\"F\";17;\"U\";\"GT3\";\"T\";2;2;\"other\";\"other\";\"course\";\"mother\";1;2;0;\"no\";\"yes\";\"no\";\"no\";\"no\";\"yes\";\"yes\";\"no\";5;4;5;1;2;5;4;\"10\";\"9\";11\n",
        "\"GP\";\"M\";17;\"U\";\"GT3\";\"T\";1;1;\"other\";\"other\";\"reputation\";\"father\";1;2;0;\"no\";\"no\";\"yes\";\"no\";\"no\";\"yes\";\"yes\";\"no\";4;3;3;1;2;4;2;\"12\";\"10\";11\n",
        "\"GP\";\"F\";18;\"U\";\"GT3\";\"T\";2;2;\"at_home\";\"at_home\";\"other\";\"mother\";1;3;0;\"no\";\"yes\";\"yes\";\"no\";\"yes\";\"yes\";\"yes\";\"no\";4;3;3;1;2;2;5;\"18\";\"18\";19\n",
        "\"GP\";\"F\";17;\"U\";\"GT3\";\"T\";1;1;\"services\";\"teacher\";\"reputation\";\"mother\";1;3;0;\"no\";\"yes\";\"yes\";\"no\";\"yes\";\"yes\";\"yes\";\"no\";4;3;3;1;1;3;6;\"13\";\"12\";12\n",
        "\"GP\";\"M\";18;\"U\";\"GT3\";\"T\";2;1;\"services\";\"services\";\"reputation\";\"mother\";1;3;0;\"no\";\"no\";\"yes\";\"yes\";\"yes\";\"yes\";\"yes\";\"no\";4;2;4;1;3;2;6;\"15\";\"14\";14\n",
        "\"GP\";\"M\";18;\"U\";\"LE3\";\"A\";4;4;\"teacher\";\"teacher\";\"reputation\";\"mother\";1;2;0;\"no\";\"yes\";\"yes\";\"yes\";\"yes\";\"yes\";\"yes\";\"no\";5;4;3;1;1;2;9;\"15\";\"13\";15\n",
        "\"GP\";\"M\";18;\"U\";\"GT3\";\"T\";4;2;\"teacher\";\"other\";\"home\";\"mother\";1;2;0;\"no\";\"yes\";\"yes\";\"yes\";\"yes\";\"yes\";\"yes\";\"yes\";4;3;2;1;4;5;11;\"12\";\"11\";11\n",
        "\"GP\";\"F\";17;\"U\";\"GT3\";\"T\";4;3;\"health\";\"services\";\"reputation\";\"mother\";1;3;0;\"no\";\"yes\";\"yes\";\"no\";\"yes\";\"yes\";\"yes\";\"no\";4;2;2;1;2;3;0;\"15\";\"15\";15\n",
        "\"GP\";\"F\";18;\"U\";\"LE3\";\"T\";2;1;\"services\";\"at_home\";\"reputation\";\"mother\";1;2;1;\"no\";\"no\";\"no\";\"no\";\"yes\";\"yes\";\"yes\";\"yes\";5;4;3;1;1;5;12;\"12\";\"12\";13\n",
        "\"GP\";\"F\";17;\"R\";\"LE3\";\"T\";3;1;\"services\";\"other\";\"reputation\";\"mother\";2;4;0;\"no\";\"yes\";\"yes\";\"no\";\"yes\";\"yes\";\"no\";\"no\";3;1;2;1;1;3;6;\"18\";\"18\";18\n",
        "\"GP\";\"M\";18;\"R\";\"LE3\";\"T\";3;2;\"services\";\"other\";\"reputation\";\"mother\";2;3;0;\"no\";\"yes\";\"yes\";\"yes\";\"yes\";\"yes\";\"yes\";\"no\";5;4;2;1;1;4;8;\"14\";\"13\";14\n",
        "\"GP\";\"M\";17;\"U\";\"GT3\";\"T\";3;3;\"health\";\"other\";\"home\";\"mother\";1;1;0;\"no\";\"yes\";\"yes\";\"no\";\"yes\";\"yes\";\"yes\";\"no\";4;4;3;1;3;5;4;\"14\";\"12\";11\n",
        "\"GP\";\"F\";19;\"U\";\"GT3\";\"T\";4;4;\"health\";\"other\";\"reputation\";\"other\";2;2;0;\"no\";\"yes\";\"yes\";\"yes\";\"yes\";\"yes\";\"yes\";\"no\";2;3;4;2;3;2;0;\"10\";\"9\";0\n",
        "\"GP\";\"F\";18;\"U\";\"LE3\";\"T\";4;3;\"other\";\"other\";\"home\";\"other\";2;2;0;\"no\";\"yes\";\"yes\";\"no\";\"yes\";\"yes\";\"yes\";\"yes\";4;4;5;1;2;2;10;\"10\";\"8\";8\n",
        "\"GP\";\"F\";18;\"U\";\"GT3\";\"T\";4;3;\"other\";\"other\";\"reputation\";\"father\";1;4;0;\"no\";\"yes\";\"yes\";\"no\";\"yes\";\"yes\";\"yes\";\"no\";4;3;3;1;1;3;0;\"14\";\"13\";14\n",
        "\"GP\";\"M\";18;\"U\";\"LE3\";\"T\";4;4;\"teacher\";\"teacher\";\"home\";\"mother\";1;1;0;\"no\";\"yes\";\"yes\";\"no\";\"yes\";\"yes\";\"yes\";\"yes\";1;4;2;2;2;1;5;\"16\";\"15\";16\n",
        "\"GP\";\"F\";18;\"U\";\"LE3\";\"A\";4;4;\"health\";\"other\";\"home\";\"mother\";1;2;0;\"no\";\"yes\";\"no\";\"no\";\"yes\";\"yes\";\"yes\";\"yes\";4;2;4;1;1;4;14;\"12\";\"10\";11\n",
        "\"GP\";\"M\";17;\"U\";\"LE3\";\"T\";4;4;\"other\";\"teacher\";\"home\";\"father\";2;1;0;\"no\";\"no\";\"yes\";\"no\";\"yes\";\"yes\";\"yes\";\"no\";4;1;1;2;2;5;0;\"11\";\"11\";10\n",
        "\"GP\";\"F\";17;\"U\";\"GT3\";\"T\";4;2;\"other\";\"other\";\"reputation\";\"mother\";2;3;0;\"no\";\"yes\";\"yes\";\"no\";\"yes\";\"yes\";\"yes\";\"no\";4;3;3;1;1;3;0;\"15\";\"12\";14\n",
        "\"GP\";\"F\";17;\"U\";\"GT3\";\"T\";3;2;\"health\";\"health\";\"reputation\";\"father\";1;4;0;\"no\";\"yes\";\"yes\";\"yes\";\"no\";\"yes\";\"yes\";\"no\";5;2;2;1;2;5;0;\"17\";\"17\";18\n",
        "\"GP\";\"M\";19;\"U\";\"GT3\";\"T\";3;3;\"other\";\"other\";\"home\";\"other\";1;2;1;\"no\";\"yes\";\"no\";\"yes\";\"yes\";\"yes\";\"yes\";\"yes\";4;4;4;1;1;3;20;\"15\";\"14\";13\n",
        "\"GP\";\"F\";18;\"U\";\"GT3\";\"T\";2;4;\"services\";\"at_home\";\"reputation\";\"other\";1;2;1;\"no\";\"yes\";\"yes\";\"yes\";\"yes\";\"yes\";\"yes\";\"no\";4;4;3;1;1;3;8;\"14\";\"12\";12\n",
        "\"GP\";\"M\";20;\"U\";\"GT3\";\"A\";3;2;\"services\";\"other\";\"course\";\"other\";1;1;0;\"no\";\"no\";\"no\";\"yes\";\"yes\";\"yes\";\"no\";\"no\";5;5;3;1;1;5;0;\"17\";\"18\";18\n",
        "\"GP\";\"M\";19;\"U\";\"GT3\";\"T\";4;4;\"teacher\";\"services\";\"reputation\";\"other\";2;1;1;\"no\";\"yes\";\"yes\";\"no\";\"yes\";\"yes\";\"yes\";\"yes\";4;3;4;1;1;4;38;\"8\";\"9\";8\n",
        "\"GP\";\"M\";19;\"R\";\"GT3\";\"T\";3;3;\"other\";\"services\";\"reputation\";\"father\";1;2;1;\"no\";\"no\";\"no\";\"yes\";\"yes\";\"yes\";\"no\";\"yes\";4;5;3;1;2;5;0;\"15\";\"12\";12\n",
        "\"GP\";\"F\";19;\"U\";\"LE3\";\"T\";1;1;\"at_home\";\"other\";\"reputation\";\"other\";1;2;1;\"yes\";\"yes\";\"no\";\"yes\";\"no\";\"yes\";\"yes\";\"no\";4;4;3;1;3;3;18;\"12\";\"10\";10\n",
        "\"GP\";\"F\";19;\"U\";\"LE3\";\"T\";1;2;\"services\";\"services\";\"home\";\"other\";1;2;1;\"no\";\"no\";\"no\";\"yes\";\"no\";\"yes\";\"no\";\"yes\";4;2;4;2;2;3;0;\"9\";\"9\";0\n",
        "\"GP\";\"F\";19;\"U\";\"GT3\";\"T\";2;1;\"at_home\";\"other\";\"other\";\"other\";3;2;0;\"no\";\"yes\";\"no\";\"no\";\"yes\";\"no\";\"yes\";\"yes\";3;4;1;1;1;2;20;\"14\";\"12\";13\n",
        "\"GP\";\"M\";19;\"U\";\"GT3\";\"T\";1;2;\"other\";\"services\";\"course\";\"other\";1;2;1;\"no\";\"no\";\"no\";\"no\";\"no\";\"yes\";\"yes\";\"no\";4;5;2;2;2;4;3;\"13\";\"11\";11\n",
        "\"GP\";\"F\";19;\"U\";\"LE3\";\"T\";3;2;\"services\";\"other\";\"reputation\";\"other\";2;2;1;\"no\";\"yes\";\"yes\";\"no\";\"no\";\"yes\";\"yes\";\"yes\";4;2;2;1;2;1;22;\"13\";\"10\";11\n",
        "\"GP\";\"F\";19;\"U\";\"GT3\";\"T\";1;1;\"at_home\";\"health\";\"home\";\"other\";1;3;2;\"no\";\"no\";\"no\";\"no\";\"no\";\"yes\";\"yes\";\"yes\";4;1;2;1;1;3;14;\"15\";\"13\";13\n",
        "\"GP\";\"F\";19;\"R\";\"GT3\";\"T\";2;3;\"other\";\"other\";\"reputation\";\"other\";1;3;1;\"no\";\"no\";\"no\";\"no\";\"yes\";\"yes\";\"yes\";\"yes\";4;1;2;1;1;3;40;\"13\";\"11\";11\n",
        "\"GP\";\"F\";18;\"U\";\"GT3\";\"T\";2;1;\"services\";\"other\";\"course\";\"mother\";2;2;0;\"no\";\"yes\";\"yes\";\"yes\";\"yes\";\"yes\";\"yes\";\"no\";5;3;3;1;2;1;0;\"8\";\"8\";0\n",
        "\"GP\";\"F\";18;\"U\";\"GT3\";\"T\";4;3;\"other\";\"other\";\"course\";\"mother\";1;3;0;\"no\";\"yes\";\"yes\";\"yes\";\"yes\";\"yes\";\"yes\";\"yes\";4;3;4;1;1;5;9;\"9\";\"10\";9\n",
        "\"GP\";\"F\";17;\"R\";\"GT3\";\"T\";3;4;\"at_home\";\"services\";\"course\";\"father\";1;3;0;\"no\";\"yes\";\"yes\";\"yes\";\"no\";\"yes\";\"yes\";\"no\";4;3;4;2;5;5;0;\"11\";\"11\";10\n",
        "\"GP\";\"F\";18;\"U\";\"GT3\";\"T\";4;4;\"teacher\";\"other\";\"course\";\"mother\";1;2;0;\"no\";\"yes\";\"yes\";\"no\";\"yes\";\"yes\";\"yes\";\"no\";4;4;4;3;3;5;2;\"11\";\"11\";11\n",
        "\"GP\";\"F\";17;\"U\";\"GT3\";\"A\";4;3;\"services\";\"services\";\"course\";\"mother\";1;2;0;\"no\";\"yes\";\"yes\";\"no\";\"yes\";\"yes\";\"yes\";\"yes\";5;2;2;1;2;5;23;\"13\";\"13\";13\n",
        "\"GP\";\"F\";17;\"U\";\"GT3\";\"T\";2;2;\"other\";\"other\";\"course\";\"mother\";1;2;0;\"no\";\"yes\";\"no\";\"no\";\"yes\";\"yes\";\"no\";\"yes\";4;2;2;1;1;3;12;\"11\";\"9\";9\n",
        "\"GP\";\"F\";17;\"R\";\"LE3\";\"T\";2;2;\"services\";\"services\";\"course\";\"mother\";1;3;0;\"no\";\"yes\";\"yes\";\"yes\";\"yes\";\"yes\";\"yes\";\"no\";3;3;2;2;2;3;3;\"11\";\"11\";11\n",
        "\"GP\";\"F\";17;\"U\";\"GT3\";\"T\";3;1;\"services\";\"services\";\"course\";\"father\";1;3;0;\"no\";\"yes\";\"no\";\"no\";\"no\";\"yes\";\"yes\";\"no\";3;4;3;2;3;5;1;\"12\";\"14\";15\n",
        "\"GP\";\"F\";17;\"U\";\"LE3\";\"T\";0;2;\"at_home\";\"at_home\";\"home\";\"father\";2;3;0;\"no\";\"no\";\"no\";\"no\";\"yes\";\"yes\";\"yes\";\"no\";3;3;3;2;3;2;0;\"16\";\"15\";15\n",
        "\"GP\";\"M\";18;\"U\";\"GT3\";\"T\";4;4;\"other\";\"other\";\"course\";\"mother\";1;3;0;\"no\";\"no\";\"no\";\"yes\";\"yes\";\"yes\";\"yes\";\"no\";4;3;3;2;2;3;3;\"9\";\"12\";11\n",
        "\"GP\";\"M\";17;\"U\";\"GT3\";\"T\";3;3;\"other\";\"services\";\"reputation\";\"mother\";1;1;0;\"no\";\"no\";\"no\";\"yes\";\"no\";\"yes\";\"yes\";\"no\";4;3;5;3;5;5;3;\"14\";\"15\";16\n",
        "\"GP\";\"M\";17;\"R\";\"GT3\";\"T\";2;2;\"services\";\"other\";\"course\";\"mother\";4;1;0;\"no\";\"yes\";\"no\";\"no\";\"yes\";\"yes\";\"yes\";\"no\";4;4;5;5;5;4;8;\"11\";\"10\";10\n",
        "\"GP\";\"F\";17;\"U\";\"GT3\";\"T\";4;4;\"teacher\";\"services\";\"course\";\"mother\";1;3;0;\"no\";\"yes\";\"yes\";\"yes\";\"yes\";\"yes\";\"yes\";\"no\";5;4;4;1;3;4;7;\"10\";\"9\";9\n",
        "\"GP\";\"F\";17;\"U\";\"GT3\";\"T\";4;4;\"teacher\";\"teacher\";\"course\";\"mother\";2;3;0;\"no\";\"yes\";\"yes\";\"no\";\"no\";\"yes\";\"yes\";\"yes\";4;3;3;1;2;4;4;\"14\";\"14\";14\n",
        "\"GP\";\"M\";18;\"U\";\"LE3\";\"T\";2;2;\"other\";\"other\";\"course\";\"mother\";1;4;0;\"no\";\"yes\";\"no\";\"yes\";\"yes\";\"yes\";\"yes\";\"no\";4;5;5;2;4;5;2;\"9\";\"8\";8\n",
        "\"GP\";\"F\";17;\"R\";\"GT3\";\"T\";2;4;\"at_home\";\"other\";\"course\";\"father\";1;3;0;\"no\";\"yes\";\"no\";\"no\";\"yes\";\"yes\";\"yes\";\"yes\";4;4;3;1;1;5;7;\"12\";\"14\";14\n",
        "\"GP\";\"F\";18;\"U\";\"GT3\";\"T\";3;3;\"services\";\"services\";\"home\";\"mother\";1;2;0;\"no\";\"no\";\"no\";\"yes\";\"yes\";\"yes\";\"yes\";\"no\";5;3;4;1;1;4;0;\"7\";\"0\";0\n",
        "\"GP\";\"F\";18;\"U\";\"LE3\";\"T\";2;2;\"other\";\"other\";\"home\";\"other\";1;2;0;\"no\";\"no\";\"no\";\"yes\";\"no\";\"yes\";\"yes\";\"yes\";4;3;3;1;1;2;0;\"8\";\"8\";0\n",
        "\"GP\";\"F\";18;\"R\";\"GT3\";\"T\";2;2;\"at_home\";\"other\";\"course\";\"mother\";2;4;0;\"no\";\"no\";\"no\";\"yes\";\"yes\";\"yes\";\"no\";\"no\";4;4;4;1;1;4;0;\"10\";\"9\";0\n",
        "\"GP\";\"F\";17;\"U\";\"GT3\";\"T\";3;4;\"services\";\"other\";\"course\";\"mother\";1;3;0;\"no\";\"no\";\"no\";\"no\";\"yes\";\"yes\";\"yes\";\"no\";4;4;5;1;3;5;16;\"16\";\"15\";15\n",
        "\"GP\";\"F\";19;\"R\";\"GT3\";\"A\";3;1;\"services\";\"at_home\";\"home\";\"other\";1;3;1;\"no\";\"no\";\"yes\";\"no\";\"yes\";\"yes\";\"no\";\"no\";5;4;3;1;2;5;12;\"14\";\"13\";13\n",
        "\"GP\";\"F\";17;\"U\";\"GT3\";\"T\";3;2;\"other\";\"other\";\"home\";\"mother\";1;2;0;\"no\";\"yes\";\"yes\";\"no\";\"yes\";\"yes\";\"yes\";\"yes\";4;3;2;2;3;2;0;\"7\";\"8\";0\n",
        "\"GP\";\"F\";18;\"U\";\"LE3\";\"T\";3;3;\"services\";\"services\";\"home\";\"mother\";1;4;0;\"no\";\"yes\";\"no\";\"no\";\"yes\";\"yes\";\"yes\";\"no\";5;3;3;1;1;1;7;\"16\";\"15\";17\n",
        "\"GP\";\"F\";17;\"R\";\"GT3\";\"A\";3;2;\"other\";\"other\";\"home\";\"mother\";1;2;0;\"no\";\"yes\";\"yes\";\"no\";\"yes\";\"yes\";\"yes\";\"no\";4;3;3;2;3;2;4;\"9\";\"10\";10\n",
        "\"GP\";\"F\";19;\"U\";\"GT3\";\"T\";2;1;\"services\";\"services\";\"home\";\"other\";1;3;1;\"no\";\"no\";\"yes\";\"yes\";\"yes\";\"yes\";\"yes\";\"yes\";4;3;4;1;3;3;4;\"11\";\"12\";11\n",
        "\"GP\";\"M\";18;\"U\";\"GT3\";\"T\";4;4;\"teacher\";\"services\";\"home\";\"father\";1;2;1;\"no\";\"yes\";\"no\";\"yes\";\"yes\";\"yes\";\"yes\";\"no\";4;3;3;2;2;2;0;\"10\";\"10\";0\n",
        "\"GP\";\"M\";18;\"U\";\"LE3\";\"T\";3;4;\"services\";\"other\";\"home\";\"mother\";1;2;0;\"no\";\"no\";\"no\";\"yes\";\"yes\";\"yes\";\"yes\";\"yes\";4;3;3;1;3;5;11;\"16\";\"15\";15\n",
        "\"GP\";\"F\";17;\"U\";\"GT3\";\"A\";2;2;\"at_home\";\"at_home\";\"home\";\"father\";1;2;1;\"no\";\"yes\";\"no\";\"no\";\"yes\";\"yes\";\"yes\";\"yes\";3;3;1;1;2;4;0;\"9\";\"8\";0\n",
        "\"GP\";\"F\";18;\"U\";\"GT3\";\"T\";2;3;\"at_home\";\"other\";\"course\";\"mother\";1;3;0;\"no\";\"yes\";\"no\";\"no\";\"yes\";\"yes\";\"yes\";\"no\";4;3;3;1;2;3;4;\"11\";\"10\";10\n",
        "\"GP\";\"F\";18;\"U\";\"GT3\";\"T\";3;2;\"other\";\"services\";\"other\";\"mother\";1;3;0;\"no\";\"no\";\"no\";\"no\";\"yes\";\"yes\";\"yes\";\"yes\";5;4;3;2;3;1;7;\"13\";\"13\";14\n",
        "\"GP\";\"M\";18;\"R\";\"GT3\";\"T\";4;3;\"teacher\";\"services\";\"course\";\"mother\";1;3;0;\"no\";\"no\";\"no\";\"no\";\"yes\";\"yes\";\"yes\";\"yes\";5;3;2;1;2;4;9;\"16\";\"15\";16\n",
        "\"GP\";\"M\";18;\"U\";\"GT3\";\"T\";4;3;\"teacher\";\"other\";\"course\";\"mother\";1;3;0;\"no\";\"yes\";\"yes\";\"no\";\"yes\";\"yes\";\"yes\";\"yes\";5;4;5;2;3;5;0;\"10\";\"10\";9\n",
        "\"GP\";\"F\";17;\"U\";\"GT3\";\"T\";4;3;\"health\";\"other\";\"reputation\";\"mother\";1;3;0;\"no\";\"yes\";\"yes\";\"yes\";\"yes\";\"yes\";\"yes\";\"yes\";4;4;3;1;3;4;0;\"13\";\"15\";15\n",
        "\"MS\";\"M\";18;\"R\";\"GT3\";\"T\";3;2;\"other\";\"other\";\"course\";\"mother\";2;1;1;\"no\";\"yes\";\"no\";\"no\";\"no\";\"yes\";\"yes\";\"no\";2;5;5;5;5;5;10;\"11\";\"13\";13\n",
        "\"MS\";\"M\";19;\"R\";\"GT3\";\"T\";1;1;\"other\";\"services\";\"home\";\"other\";3;2;3;\"no\";\"no\";\"no\";\"no\";\"yes\";\"yes\";\"yes\";\"no\";5;4;4;3;3;2;8;\"8\";\"7\";8\n",
        "\"MS\";\"M\";17;\"U\";\"GT3\";\"T\";3;3;\"health\";\"other\";\"course\";\"mother\";2;2;0;\"no\";\"yes\";\"yes\";\"no\";\"yes\";\"yes\";\"yes\";\"no\";4;5;4;2;3;3;2;\"13\";\"13\";13\n",
        "\"MS\";\"M\";18;\"U\";\"LE3\";\"T\";1;3;\"at_home\";\"services\";\"course\";\"mother\";1;1;1;\"no\";\"no\";\"no\";\"no\";\"yes\";\"no\";\"yes\";\"yes\";4;3;3;2;3;3;7;\"8\";\"7\";8\n",
        "\"MS\";\"M\";19;\"R\";\"GT3\";\"T\";1;1;\"other\";\"other\";\"home\";\"other\";3;1;1;\"no\";\"yes\";\"no\";\"no\";\"yes\";\"yes\";\"yes\";\"no\";4;4;4;3;3;5;4;\"8\";\"8\";8\n",
        "\"MS\";\"M\";17;\"R\";\"GT3\";\"T\";4;3;\"services\";\"other\";\"home\";\"mother\";2;2;0;\"no\";\"yes\";\"yes\";\"yes\";\"no\";\"yes\";\"yes\";\"yes\";4;5;5;1;3;2;4;\"13\";\"11\";11\n",
        "\"MS\";\"F\";18;\"U\";\"GT3\";\"T\";3;3;\"services\";\"services\";\"course\";\"father\";1;2;0;\"no\";\"yes\";\"no\";\"no\";\"yes\";\"yes\";\"no\";\"yes\";5;3;4;1;1;5;0;\"10\";\"9\";9\n",
        "\"MS\";\"F\";17;\"R\";\"GT3\";\"T\";4;4;\"teacher\";\"services\";\"other\";\"father\";2;2;0;\"no\";\"yes\";\"yes\";\"yes\";\"yes\";\"yes\";\"yes\";\"no\";4;3;3;1;2;5;4;\"12\";\"13\";13\n",
        "\"MS\";\"F\";17;\"U\";\"LE3\";\"A\";3;2;\"services\";\"other\";\"reputation\";\"mother\";2;2;0;\"no\";\"no\";\"no\";\"no\";\"yes\";\"yes\";\"no\";\"yes\";1;2;3;1;2;5;2;\"12\";\"12\";11\n",
        "\"MS\";\"M\";18;\"U\";\"LE3\";\"T\";1;1;\"other\";\"services\";\"home\";\"father\";2;1;0;\"no\";\"no\";\"no\";\"no\";\"no\";\"yes\";\"yes\";\"yes\";3;3;2;1;2;3;4;\"10\";\"10\";10\n",
        "\"MS\";\"F\";18;\"U\";\"LE3\";\"T\";1;1;\"at_home\";\"services\";\"course\";\"father\";2;3;0;\"no\";\"no\";\"no\";\"no\";\"yes\";\"yes\";\"yes\";\"no\";5;3;2;1;1;4;0;\"18\";\"16\";16\n",
        "\"MS\";\"F\";18;\"R\";\"LE3\";\"A\";1;4;\"at_home\";\"other\";\"course\";\"mother\";3;2;0;\"no\";\"no\";\"no\";\"no\";\"yes\";\"yes\";\"no\";\"yes\";4;3;4;1;4;5;0;\"13\";\"13\";13\n",
        "\"MS\";\"M\";18;\"R\";\"LE3\";\"T\";1;1;\"at_home\";\"other\";\"other\";\"mother\";2;2;1;\"no\";\"no\";\"no\";\"yes\";\"no\";\"no\";\"no\";\"no\";4;4;3;2;3;5;2;\"13\";\"12\";12\n",
        "\"MS\";\"F\";18;\"U\";\"GT3\";\"T\";3;3;\"services\";\"services\";\"other\";\"mother\";2;2;0;\"no\";\"yes\";\"no\";\"no\";\"yes\";\"yes\";\"yes\";\"yes\";4;3;2;1;3;3;0;\"11\";\"11\";10\n",
        "\"MS\";\"F\";17;\"U\";\"LE3\";\"T\";4;4;\"at_home\";\"at_home\";\"course\";\"mother\";1;2;0;\"no\";\"yes\";\"yes\";\"yes\";\"yes\";\"yes\";\"yes\";\"yes\";2;3;4;1;1;1;0;\"16\";\"15\";15\n",
        "\"MS\";\"F\";17;\"R\";\"GT3\";\"T\";1;2;\"other\";\"services\";\"course\";\"father\";2;2;0;\"no\";\"no\";\"no\";\"no\";\"no\";\"yes\";\"no\";\"no\";3;2;2;1;2;3;0;\"12\";\"11\";12\n",
        "\"MS\";\"M\";18;\"R\";\"GT3\";\"T\";1;3;\"at_home\";\"other\";\"course\";\"mother\";2;2;0;\"no\";\"yes\";\"yes\";\"no\";\"yes\";\"yes\";\"no\";\"no\";3;3;4;2;4;3;4;\"10\";\"10\";10\n",
        "\"MS\";\"M\";18;\"U\";\"LE3\";\"T\";4;4;\"teacher\";\"services\";\"other\";\"mother\";2;3;0;\"no\";\"no\";\"yes\";\"no\";\"yes\";\"yes\";\"yes\";\"yes\";4;2;2;2;2;5;0;\"13\";\"13\";13\n",
        "\"MS\";\"F\";17;\"R\";\"GT3\";\"T\";1;1;\"other\";\"services\";\"reputation\";\"mother\";3;1;1;\"no\";\"yes\";\"yes\";\"no\";\"yes\";\"yes\";\"yes\";\"yes\";5;2;1;1;2;1;0;\"7\";\"6\";0\n",
        "\"MS\";\"F\";18;\"U\";\"GT3\";\"T\";2;3;\"at_home\";\"services\";\"course\";\"father\";2;1;0;\"no\";\"yes\";\"yes\";\"no\";\"yes\";\"yes\";\"yes\";\"yes\";5;2;3;1;2;4;0;\"11\";\"10\";10\n",
        "\"MS\";\"F\";18;\"R\";\"GT3\";\"T\";4;4;\"other\";\"teacher\";\"other\";\"father\";3;2;0;\"no\";\"yes\";\"yes\";\"no\";\"no\";\"yes\";\"yes\";\"yes\";3;2;2;4;2;5;10;\"14\";\"12\";11\n",
        "\"MS\";\"F\";19;\"U\";\"LE3\";\"T\";3;2;\"services\";\"services\";\"home\";\"other\";2;2;2;\"no\";\"no\";\"no\";\"yes\";\"yes\";\"yes\";\"no\";\"yes\";3;2;2;1;1;3;4;\"7\";\"7\";9\n",
        "\"MS\";\"M\";18;\"R\";\"LE3\";\"T\";1;2;\"at_home\";\"services\";\"other\";\"father\";3;1;0;\"no\";\"yes\";\"yes\";\"yes\";\"yes\";\"no\";\"yes\";\"yes\";4;3;3;2;3;3;3;\"14\";\"12\";12\n",
        "\"MS\";\"F\";17;\"U\";\"GT3\";\"T\";2;2;\"other\";\"at_home\";\"home\";\"mother\";1;3;0;\"no\";\"no\";\"no\";\"yes\";\"yes\";\"yes\";\"no\";\"yes\";3;4;3;1;1;3;8;\"13\";\"11\";11\n",
        "\"MS\";\"F\";17;\"R\";\"GT3\";\"T\";1;2;\"other\";\"other\";\"course\";\"mother\";1;1;0;\"no\";\"no\";\"no\";\"yes\";\"yes\";\"yes\";\"yes\";\"no\";3;5;5;1;3;1;14;\"6\";\"5\";5\n",
        "\"MS\";\"F\";18;\"R\";\"LE3\";\"T\";4;4;\"other\";\"other\";\"reputation\";\"mother\";2;3;0;\"no\";\"no\";\"no\";\"no\";\"yes\";\"yes\";\"yes\";\"no\";5;4;4;1;1;1;0;\"19\";\"18\";19\n",
        "\"MS\";\"F\";18;\"R\";\"GT3\";\"T\";1;1;\"other\";\"other\";\"home\";\"mother\";4;3;0;\"no\";\"no\";\"no\";\"no\";\"yes\";\"yes\";\"yes\";\"no\";4;3;2;1;2;4;2;\"8\";\"8\";10\n",
        "\"MS\";\"F\";20;\"U\";\"GT3\";\"T\";4;2;\"health\";\"other\";\"course\";\"other\";2;3;2;\"no\";\"yes\";\"yes\";\"no\";\"no\";\"yes\";\"yes\";\"yes\";5;4;3;1;1;3;4;\"15\";\"14\";15\n",
        "\"MS\";\"F\";18;\"R\";\"LE3\";\"T\";4;4;\"teacher\";\"services\";\"course\";\"mother\";1;2;0;\"no\";\"no\";\"yes\";\"yes\";\"yes\";\"yes\";\"yes\";\"no\";5;4;3;3;4;2;4;\"8\";\"9\";10\n",
        "\"MS\";\"F\";18;\"U\";\"GT3\";\"T\";3;3;\"other\";\"other\";\"home\";\"mother\";1;2;0;\"no\";\"no\";\"yes\";\"no\";\"yes\";\"yes\";\"yes\";\"yes\";4;1;3;1;2;1;0;\"15\";\"15\";15\n",
        "\"MS\";\"F\";17;\"R\";\"GT3\";\"T\";3;1;\"at_home\";\"other\";\"reputation\";\"mother\";1;2;0;\"no\";\"yes\";\"yes\";\"yes\";\"no\";\"yes\";\"yes\";\"no\";4;5;4;2;3;1;17;\"10\";\"10\";10\n",
        "\"MS\";\"M\";18;\"U\";\"GT3\";\"T\";4;4;\"teacher\";\"teacher\";\"home\";\"father\";1;2;0;\"no\";\"no\";\"yes\";\"yes\";\"no\";\"yes\";\"yes\";\"no\";3;2;4;1;4;2;4;\"15\";\"14\";14\n",
        "\"MS\";\"M\";18;\"R\";\"GT3\";\"T\";2;1;\"other\";\"other\";\"other\";\"mother\";2;1;0;\"no\";\"no\";\"no\";\"yes\";\"no\";\"yes\";\"yes\";\"yes\";4;4;3;1;3;5;5;\"7\";\"6\";7\n",
        "\"MS\";\"M\";17;\"U\";\"GT3\";\"T\";2;3;\"other\";\"services\";\"home\";\"father\";2;2;0;\"no\";\"no\";\"no\";\"yes\";\"yes\";\"yes\";\"yes\";\"no\";4;4;3;1;1;3;2;\"11\";\"11\";10\n",
        "\"MS\";\"M\";19;\"R\";\"GT3\";\"T\";1;1;\"other\";\"services\";\"other\";\"mother\";2;1;1;\"no\";\"no\";\"no\";\"no\";\"yes\";\"yes\";\"no\";\"no\";4;3;2;1;3;5;0;\"6\";\"5\";0\n",
        "\"MS\";\"M\";18;\"R\";\"GT3\";\"T\";4;2;\"other\";\"other\";\"home\";\"father\";2;1;1;\"no\";\"no\";\"yes\";\"no\";\"yes\";\"yes\";\"no\";\"no\";5;4;3;4;3;3;14;\"6\";\"5\";5\n",
        "\"MS\";\"F\";18;\"R\";\"GT3\";\"T\";2;2;\"at_home\";\"other\";\"other\";\"mother\";2;3;0;\"no\";\"no\";\"yes\";\"no\";\"yes\";\"yes\";\"no\";\"no\";5;3;3;1;3;4;2;\"10\";\"9\";10\n",
        "\"MS\";\"F\";18;\"R\";\"GT3\";\"T\";4;4;\"teacher\";\"at_home\";\"reputation\";\"mother\";3;1;0;\"no\";\"yes\";\"yes\";\"yes\";\"yes\";\"yes\";\"yes\";\"yes\";4;4;3;2;2;5;7;\"6\";\"5\";6\n",
        "\"MS\";\"F\";19;\"R\";\"GT3\";\"T\";2;3;\"services\";\"other\";\"course\";\"mother\";1;3;1;\"no\";\"no\";\"no\";\"yes\";\"no\";\"yes\";\"yes\";\"no\";5;4;2;1;2;5;0;\"7\";\"5\";0\n",
        "\"MS\";\"F\";18;\"U\";\"LE3\";\"T\";3;1;\"teacher\";\"services\";\"course\";\"mother\";1;2;0;\"no\";\"yes\";\"yes\";\"no\";\"yes\";\"yes\";\"yes\";\"no\";4;3;4;1;1;1;0;\"7\";\"9\";8\n",
        "\"MS\";\"F\";18;\"U\";\"GT3\";\"T\";1;1;\"other\";\"other\";\"course\";\"mother\";2;2;1;\"no\";\"no\";\"no\";\"yes\";\"yes\";\"yes\";\"no\";\"no\";1;1;1;1;1;5;0;\"6\";\"5\";0\n",
        "\"MS\";\"M\";20;\"U\";\"LE3\";\"A\";2;2;\"services\";\"services\";\"course\";\"other\";1;2;2;\"no\";\"yes\";\"yes\";\"no\";\"yes\";\"yes\";\"no\";\"no\";5;5;4;4;5;4;11;\"9\";\"9\";9\n",
        "\"MS\";\"M\";17;\"U\";\"LE3\";\"T\";3;1;\"services\";\"services\";\"course\";\"mother\";2;1;0;\"no\";\"no\";\"no\";\"no\";\"no\";\"yes\";\"yes\";\"no\";2;4;5;3;4;2;3;\"14\";\"16\";16\n",
        "\"MS\";\"M\";21;\"R\";\"GT3\";\"T\";1;1;\"other\";\"other\";\"course\";\"other\";1;1;3;\"no\";\"no\";\"no\";\"no\";\"no\";\"yes\";\"no\";\"no\";5;5;3;3;3;3;3;\"10\";\"8\";7\n",
        "\"MS\";\"M\";18;\"R\";\"LE3\";\"T\";3;2;\"services\";\"other\";\"course\";\"mother\";3;1;0;\"no\";\"no\";\"no\";\"no\";\"no\";\"yes\";\"yes\";\"no\";4;4;1;3;4;5;0;\"11\";\"12\";10\n",
        "\"MS\";\"M\";19;\"U\";\"LE3\";\"T\";1;1;\"other\";\"at_home\";\"course\";\"father\";1;1;0;\"no\";\"no\";\"no\";\"no\";\"yes\";\"yes\";\"yes\";\"no\";3;2;3;3;3;5;5;\"8\";\"9\";9''')\n"
      ],
      "execution_count": 0,
      "outputs": []
    },
    {
      "cell_type": "code",
      "metadata": {
        "id": "BaQtzDySV3VT",
        "colab_type": "code",
        "colab": {}
      },
      "source": [
        ""
      ],
      "execution_count": 0,
      "outputs": []
    }
  ]
}