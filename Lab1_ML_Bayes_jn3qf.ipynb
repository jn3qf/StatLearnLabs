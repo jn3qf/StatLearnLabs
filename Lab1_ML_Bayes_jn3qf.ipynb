{
  "nbformat": 4,
  "nbformat_minor": 0,
  "metadata": {
    "colab": {
      "name": "Lab1_ML_Bayes_yourID.ipynb",
      "provenance": [],
      "private_outputs": true,
      "collapsed_sections": [],
      "include_colab_link": true
    },
    "kernelspec": {
      "name": "python3",
      "display_name": "Python 3"
    }
  },
  "cells": [
    {
      "cell_type": "markdown",
      "metadata": {
        "colab_type": "text",
        "id": "view-in-github"
      },
      "source": [
        "<a href=\"https://colab.research.google.com/github/jn3qf/StatLearnLabs/blob/master/Lab1_ML_Bayes_jn3qf.ipynb\" target=\"_parent\"><img src=\"https://colab.research.google.com/assets/colab-badge.svg\" alt=\"Open In Colab\"/></a>"
      ]
    },
    {
      "cell_type": "code",
      "execution_count": 0,
      "metadata": {
        "colab": {},
        "colab_type": "code",
        "id": "wBlHTcv2-UMA"
      },
      "outputs": [],
      "source": [
        ""
      ]
    },
    {
      "cell_type": "code",
      "execution_count": 2,
      "metadata": {},
      "outputs": [
        {
          "name": "stdout",
          "output_type": "stream",
          "text": "Modules Imported!\n"
        }
      ],
      "source": [
        "%matplotlib inline\n",
        "import matplotlib.pyplot as plt\n",
        "from io import StringIO\n",
        "import numpy as np\n",
        "import scipy as sp\n",
        "import scipy.stats as st\n",
        "from IPython.display import Latex,display,Math\n",
        "import pandas as pd\n",
        "print(\"Modules Imported!\")"
      ]
    },
    {
      "cell_type": "markdown",
      "metadata": {
        "colab_type": "text",
        "id": "MRwB7lLRx97T"
      },
      "source": [
        "# Maximum Likelihood Estimation\n",
        "## Properties of MLE"
      ]
    },
    {
      "cell_type": "markdown",
      "metadata": {
        "colab_type": "text",
        "id": "XfwDVdBJx97U"
      },
      "source": [
        "__Task:__ Write a function that, given samples drawn from $\\mathcal{N}(\\mu,\\sigma^2)$, returns the maximum likelihood estimates of $\\mu$ and $\\sigma^2$."
      ]
    },
    {
      "cell_type": "code",
      "execution_count": 24,
      "metadata": {},
      "outputs": [],
      "source": [
        "def NormML(y): # y is a one dimensional array containing the samples\n",
        "    # the MLE for the mu parameter of the normal distribution is the sample mean.\n",
        "    mu_hat = np.mean(y)\n",
        "    # the MLE for the sigma^2 parameter is the standard deviation.\n",
        "    sigma_hat = np.var(y)\n",
        "    return [mu_hat, sigma_hat]"
      ]
    },
    {
      "cell_type": "markdown",
      "metadata": {
        "colab_type": "text",
        "id": "ixiW2iIDx97Z"
      },
      "source": [
        "### Bias\n",
        "The tendency of an estimator to over- or under-estimate can be measured by its bias. We now want to see the effect of bias via simulation. \n",
        "\n",
        "__Task:__ Generate 10000 batches of $\\mathcal{N}(3,4)$ samples, each containing 10 samples. Using the function NormML above, compute the ML estimates for $\\mu$ and  $\\sigma$ for each batch (so you will have 10,000 estimates of the same $\\mu$ and $\\sigma$). Find the empirical bias (based on simulation) and compare these with the theoretical bias for the ML estimates of $\\mu$ and $\\sigma$. Is there a difference between the behaviors for the mean and the variance?\n",
        "\n"
      ]
    },
    {
      "cell_type": "code",
      "execution_count": 25,
      "metadata": {},
      "outputs": [],
      "source": [
        "theta0 = [3,4] #[mean,variance]\n",
        "mynorm = st.norm(theta0[0],np.sqrt(theta0[1]))\n",
        "N = 10000 # number of batches\n",
        "n = 10 # samples per batch\n",
        "y = mynorm.rvs([N,n])\n",
        "params = [NormML(x) for x in y]\n",
        "#..."
      ]
    },
    {
      "cell_type": "markdown",
      "metadata": {
        "colab_type": "text",
        "id": "0NLj-bKIx97e"
      },
      "source": [
        "### Consistentcy\n",
        "Intuitively, _an estimator is consistent if it gives us the correct solution when we have lots of data_. To see this formally, consider a data set of iid samples $\\{y_1,\\dotsc,y_N\\}$ where the distribution of the $y_i$ depends on some parameter $\\theta$. Let $\\hat\\theta_N$ be the estimator for $\\theta$ based on this data set. We'd like to see how the accuracy of this estimator changes as $N\\to\\infty$. In particular, _the estimator is said to be consistent if $\\hat\\theta_N$ gets closer and closer to the true value $\\theta_0$_. That is, for all $\\epsilon>0$,\n",
        "$$ \\lim_{N\\to\\infty} \\Pr(|\\hat\\theta_N-\\theta|>\\epsilon)=0.$$\n",
        "\n",
        "___\n",
        "__Task:__ Generate a vector $y$ consisting of $N$ normal samples drawn from $\\mathcal{N}(\\mu_0,\\sigma_0^2)$ for $\\mu_0=3$, $\\sigma_0^2=4$ and a large value of $N$, say $N=500$. Then compute the estimates for $\\mu_0$ and $\\sigma^2_0$ using the first $n$ sample (that is `y[0:n]`) as $n$ ranges from 10 to $N$, choosing an appropriate step size. Plot the result and discuss it in the context of consistency. Does ML appear to be consistent?"
      ]
    },
    {
      "cell_type": "code",
      "execution_count": 27,
      "metadata": {},
      "outputs": [
        {
          "data": {
            "image/png": "[encoded data removed]",
            "image/svg+xml": "<?xml version=\"1.0\" encoding=\"utf-8\" standalone=\"no\"?>\n<!DOCTYPE svg PUBLIC \"-//W3C//DTD SVG 1.1//EN\"\n  \"http://www.w3.org/Graphics/SVG/1.1/DTD/svg11.dtd\">\n<!-- Created with matplotlib (https://matplotlib.org/) -->\n<svg height=\"248.518125pt\" version=\"1.1\" viewBox=\"0 0 363.17507 248.518125\" width=\"363.17507pt\" xmlns=\"http://www.w3.org/2000/svg\" xmlns:xlink=\"http://www.w3.org/1999/xlink\">\n <defs>\n  <style type=\"text/css\">\n*{stroke-linecap:butt;stroke-linejoin:round;}\n  </style>\n </defs>\n <g id=\"figure_1\">\n  <g id=\"patch_1\">\n   <path d=\"M 0 248.518125 \nL 363.17507 248.518125 \nL 363.17507 0 \nL 0 0 \nz\n\" style=\"fill:none;\"/>\n  </g>\n  <g id=\"axes_1\">\n   <g id=\"patch_2\">\n    <path d=\"M 20.5625 224.64 \nL 355.3625 224.64 \nL 355.3625 7.2 \nL 20.5625 7.2 \nz\n\" style=\"fill:#ffffff;\"/>\n   </g>\n   <g id=\"matplotlib.axis_1\">\n    <g id=\"xtick_1\">\n     <g id=\"line2d_1\">\n      <defs>\n       <path d=\"M 0 0 \nL 0 3.5 \n\" id=\"mfc67d3bdbb\" style=\"stroke:#000000;stroke-width:0.8;\"/>\n      </defs>\n      <g>\n       <use style=\"stroke:#000000;stroke-width:0.8;\" x=\"32.67493\" xlink:href=\"#mfc67d3bdbb\" y=\"224.64\"/>\n      </g>\n     </g>\n     <g id=\"text_1\">\n      <!-- 0 -->\n      <defs>\n       <path d=\"M 31.78125 66.40625 \nQ 24.171875 66.40625 20.328125 58.90625 \nQ 16.5 51.421875 16.5 36.375 \nQ 16.5 21.390625 20.328125 13.890625 \nQ 24.171875 6.390625 31.78125 6.390625 \nQ 39.453125 6.390625 43.28125 13.890625 \nQ 47.125 21.390625 47.125 36.375 \nQ 47.125 51.421875 43.28125 58.90625 \nQ 39.453125 66.40625 31.78125 66.40625 \nz\nM 31.78125 74.21875 \nQ 44.046875 74.21875 50.515625 64.515625 \nQ 56.984375 54.828125 56.984375 36.375 \nQ 56.984375 17.96875 50.515625 8.265625 \nQ 44.046875 -1.421875 31.78125 -1.421875 \nQ 19.53125 -1.421875 13.0625 8.265625 \nQ 6.59375 17.96875 6.59375 36.375 \nQ 6.59375 54.828125 13.0625 64.515625 \nQ 19.53125 74.21875 31.78125 74.21875 \nz\n\" id=\"DejaVuSans-48\"/>\n      </defs>\n      <g transform=\"translate(29.49368 239.238438)scale(0.1 -0.1)\">\n       <use xlink:href=\"#DejaVuSans-48\"/>\n      </g>\n     </g>\n    </g>\n    <g id=\"xtick_2\">\n     <g id=\"line2d_2\">\n      <g>\n       <use style=\"stroke:#000000;stroke-width:0.8;\" x=\"94.789958\" xlink:href=\"#mfc67d3bdbb\" y=\"224.64\"/>\n      </g>\n     </g>\n     <g id=\"text_2\">\n      <!-- 200 -->\n      <defs>\n       <path d=\"M 19.1875 8.296875 \nL 53.609375 8.296875 \nL 53.609375 0 \nL 7.328125 0 \nL 7.328125 8.296875 \nQ 12.9375 14.109375 22.625 23.890625 \nQ 32.328125 33.6875 34.8125 36.53125 \nQ 39.546875 41.84375 41.421875 45.53125 \nQ 43.3125 49.21875 43.3125 52.78125 \nQ 43.3125 58.59375 39.234375 62.25 \nQ 35.15625 65.921875 28.609375 65.921875 \nQ 23.96875 65.921875 18.8125 64.3125 \nQ 13.671875 62.703125 7.8125 59.421875 \nL 7.8125 69.390625 \nQ 13.765625 71.78125 18.9375 73 \nQ 24.125 74.21875 28.421875 74.21875 \nQ 39.75 74.21875 46.484375 68.546875 \nQ 53.21875 62.890625 53.21875 53.421875 \nQ 53.21875 48.921875 51.53125 44.890625 \nQ 49.859375 40.875 45.40625 35.40625 \nQ 44.1875 33.984375 37.640625 27.21875 \nQ 31.109375 20.453125 19.1875 8.296875 \nz\n\" id=\"DejaVuSans-50\"/>\n      </defs>\n      <g transform=\"translate(85.246208 239.238438)scale(0.1 -0.1)\">\n       <use xlink:href=\"#DejaVuSans-50\"/>\n       <use x=\"63.623047\" xlink:href=\"#DejaVuSans-48\"/>\n       <use x=\"127.246094\" xlink:href=\"#DejaVuSans-48\"/>\n      </g>\n     </g>\n    </g>\n    <g id=\"xtick_3\">\n     <g id=\"line2d_3\">\n      <g>\n       <use style=\"stroke:#000000;stroke-width:0.8;\" x=\"156.904986\" xlink:href=\"#mfc67d3bdbb\" y=\"224.64\"/>\n      </g>\n     </g>\n     <g id=\"text_3\">\n      <!-- 400 -->\n      <defs>\n       <path d=\"M 37.796875 64.3125 \nL 12.890625 25.390625 \nL 37.796875 25.390625 \nz\nM 35.203125 72.90625 \nL 47.609375 72.90625 \nL 47.609375 25.390625 \nL 58.015625 25.390625 \nL 58.015625 17.1875 \nL 47.609375 17.1875 \nL 47.609375 0 \nL 37.796875 0 \nL 37.796875 17.1875 \nL 4.890625 17.1875 \nL 4.890625 26.703125 \nz\n\" id=\"DejaVuSans-52\"/>\n      </defs>\n      <g transform=\"translate(147.361236 239.238438)scale(0.1 -0.1)\">\n       <use xlink:href=\"#DejaVuSans-52\"/>\n       <use x=\"63.623047\" xlink:href=\"#DejaVuSans-48\"/>\n       <use x=\"127.246094\" xlink:href=\"#DejaVuSans-48\"/>\n      </g>\n     </g>\n    </g>\n    <g id=\"xtick_4\">\n     <g id=\"line2d_4\">\n      <g>\n       <use style=\"stroke:#000000;stroke-width:0.8;\" x=\"219.020014\" xlink:href=\"#mfc67d3bdbb\" y=\"224.64\"/>\n      </g>\n     </g>\n     <g id=\"text_4\">\n      <!-- 600 -->\n      <defs>\n       <path d=\"M 33.015625 40.375 \nQ 26.375 40.375 22.484375 35.828125 \nQ 18.609375 31.296875 18.609375 23.390625 \nQ 18.609375 15.53125 22.484375 10.953125 \nQ 26.375 6.390625 33.015625 6.390625 \nQ 39.65625 6.390625 43.53125 10.953125 \nQ 47.40625 15.53125 47.40625 23.390625 \nQ 47.40625 31.296875 43.53125 35.828125 \nQ 39.65625 40.375 33.015625 40.375 \nz\nM 52.59375 71.296875 \nL 52.59375 62.3125 \nQ 48.875 64.0625 45.09375 64.984375 \nQ 41.3125 65.921875 37.59375 65.921875 \nQ 27.828125 65.921875 22.671875 59.328125 \nQ 17.53125 52.734375 16.796875 39.40625 \nQ 19.671875 43.65625 24.015625 45.921875 \nQ 28.375 48.1875 33.59375 48.1875 \nQ 44.578125 48.1875 50.953125 41.515625 \nQ 57.328125 34.859375 57.328125 23.390625 \nQ 57.328125 12.15625 50.6875 5.359375 \nQ 44.046875 -1.421875 33.015625 -1.421875 \nQ 20.359375 -1.421875 13.671875 8.265625 \nQ 6.984375 17.96875 6.984375 36.375 \nQ 6.984375 53.65625 15.1875 63.9375 \nQ 23.390625 74.21875 37.203125 74.21875 \nQ 40.921875 74.21875 44.703125 73.484375 \nQ 48.484375 72.75 52.59375 71.296875 \nz\n\" id=\"DejaVuSans-54\"/>\n      </defs>\n      <g transform=\"translate(209.476264 239.238438)scale(0.1 -0.1)\">\n       <use xlink:href=\"#DejaVuSans-54\"/>\n       <use x=\"63.623047\" xlink:href=\"#DejaVuSans-48\"/>\n       <use x=\"127.246094\" xlink:href=\"#DejaVuSans-48\"/>\n      </g>\n     </g>\n    </g>\n    <g id=\"xtick_5\">\n     <g id=\"line2d_5\">\n      <g>\n       <use style=\"stroke:#000000;stroke-width:0.8;\" x=\"281.135042\" xlink:href=\"#mfc67d3bdbb\" y=\"224.64\"/>\n      </g>\n     </g>\n     <g id=\"text_5\">\n      <!-- 800 -->\n      <defs>\n       <path d=\"M 31.78125 34.625 \nQ 24.75 34.625 20.71875 30.859375 \nQ 16.703125 27.09375 16.703125 20.515625 \nQ 16.703125 13.921875 20.71875 10.15625 \nQ 24.75 6.390625 31.78125 6.390625 \nQ 38.8125 6.390625 42.859375 10.171875 \nQ 46.921875 13.96875 46.921875 20.515625 \nQ 46.921875 27.09375 42.890625 30.859375 \nQ 38.875 34.625 31.78125 34.625 \nz\nM 21.921875 38.8125 \nQ 15.578125 40.375 12.03125 44.71875 \nQ 8.5 49.078125 8.5 55.328125 \nQ 8.5 64.0625 14.71875 69.140625 \nQ 20.953125 74.21875 31.78125 74.21875 \nQ 42.671875 74.21875 48.875 69.140625 \nQ 55.078125 64.0625 55.078125 55.328125 \nQ 55.078125 49.078125 51.53125 44.71875 \nQ 48 40.375 41.703125 38.8125 \nQ 48.828125 37.15625 52.796875 32.3125 \nQ 56.78125 27.484375 56.78125 20.515625 \nQ 56.78125 9.90625 50.3125 4.234375 \nQ 43.84375 -1.421875 31.78125 -1.421875 \nQ 19.734375 -1.421875 13.25 4.234375 \nQ 6.78125 9.90625 6.78125 20.515625 \nQ 6.78125 27.484375 10.78125 32.3125 \nQ 14.796875 37.15625 21.921875 38.8125 \nz\nM 18.3125 54.390625 \nQ 18.3125 48.734375 21.84375 45.5625 \nQ 25.390625 42.390625 31.78125 42.390625 \nQ 38.140625 42.390625 41.71875 45.5625 \nQ 45.3125 48.734375 45.3125 54.390625 \nQ 45.3125 60.0625 41.71875 63.234375 \nQ 38.140625 66.40625 31.78125 66.40625 \nQ 25.390625 66.40625 21.84375 63.234375 \nQ 18.3125 60.0625 18.3125 54.390625 \nz\n\" id=\"DejaVuSans-56\"/>\n      </defs>\n      <g transform=\"translate(271.591292 239.238438)scale(0.1 -0.1)\">\n       <use xlink:href=\"#DejaVuSans-56\"/>\n       <use x=\"63.623047\" xlink:href=\"#DejaVuSans-48\"/>\n       <use x=\"127.246094\" xlink:href=\"#DejaVuSans-48\"/>\n      </g>\n     </g>\n    </g>\n    <g id=\"xtick_6\">\n     <g id=\"line2d_6\">\n      <g>\n       <use style=\"stroke:#000000;stroke-width:0.8;\" x=\"343.25007\" xlink:href=\"#mfc67d3bdbb\" y=\"224.64\"/>\n      </g>\n     </g>\n     <g id=\"text_6\">\n      <!-- 1000 -->\n      <defs>\n       <path d=\"M 12.40625 8.296875 \nL 28.515625 8.296875 \nL 28.515625 63.921875 \nL 10.984375 60.40625 \nL 10.984375 69.390625 \nL 28.421875 72.90625 \nL 38.28125 72.90625 \nL 38.28125 8.296875 \nL 54.390625 8.296875 \nL 54.390625 0 \nL 12.40625 0 \nz\n\" id=\"DejaVuSans-49\"/>\n      </defs>\n      <g transform=\"translate(330.52507 239.238438)scale(0.1 -0.1)\">\n       <use xlink:href=\"#DejaVuSans-49\"/>\n       <use x=\"63.623047\" xlink:href=\"#DejaVuSans-48\"/>\n       <use x=\"127.246094\" xlink:href=\"#DejaVuSans-48\"/>\n       <use x=\"190.869141\" xlink:href=\"#DejaVuSans-48\"/>\n      </g>\n     </g>\n    </g>\n   </g>\n   <g id=\"matplotlib.axis_2\">\n    <g id=\"ytick_1\">\n     <g id=\"line2d_7\">\n      <defs>\n       <path d=\"M 0 0 \nL -3.5 0 \n\" id=\"m927e24aed3\" style=\"stroke:#000000;stroke-width:0.8;\"/>\n      </defs>\n      <g>\n       <use style=\"stroke:#000000;stroke-width:0.8;\" x=\"20.5625\" xlink:href=\"#m927e24aed3\" y=\"204.5626\"/>\n      </g>\n     </g>\n     <g id=\"text_7\">\n      <!-- 2 -->\n      <g transform=\"translate(7.2 208.361819)scale(0.1 -0.1)\">\n       <use xlink:href=\"#DejaVuSans-50\"/>\n      </g>\n     </g>\n    </g>\n    <g id=\"ytick_2\">\n     <g id=\"line2d_8\">\n      <g>\n       <use style=\"stroke:#000000;stroke-width:0.8;\" x=\"20.5625\" xlink:href=\"#m927e24aed3\" y=\"156.624914\"/>\n      </g>\n     </g>\n     <g id=\"text_8\">\n      <!-- 3 -->\n      <defs>\n       <path d=\"M 40.578125 39.3125 \nQ 47.65625 37.796875 51.625 33 \nQ 55.609375 28.21875 55.609375 21.1875 \nQ 55.609375 10.40625 48.1875 4.484375 \nQ 40.765625 -1.421875 27.09375 -1.421875 \nQ 22.515625 -1.421875 17.65625 -0.515625 \nQ 12.796875 0.390625 7.625 2.203125 \nL 7.625 11.71875 \nQ 11.71875 9.328125 16.59375 8.109375 \nQ 21.484375 6.890625 26.8125 6.890625 \nQ 36.078125 6.890625 40.9375 10.546875 \nQ 45.796875 14.203125 45.796875 21.1875 \nQ 45.796875 27.640625 41.28125 31.265625 \nQ 36.765625 34.90625 28.71875 34.90625 \nL 20.21875 34.90625 \nL 20.21875 43.015625 \nL 29.109375 43.015625 \nQ 36.375 43.015625 40.234375 45.921875 \nQ 44.09375 48.828125 44.09375 54.296875 \nQ 44.09375 59.90625 40.109375 62.90625 \nQ 36.140625 65.921875 28.71875 65.921875 \nQ 24.65625 65.921875 20.015625 65.03125 \nQ 15.375 64.15625 9.8125 62.3125 \nL 9.8125 71.09375 \nQ 15.4375 72.65625 20.34375 73.4375 \nQ 25.25 74.21875 29.59375 74.21875 \nQ 40.828125 74.21875 47.359375 69.109375 \nQ 53.90625 64.015625 53.90625 55.328125 \nQ 53.90625 49.265625 50.4375 45.09375 \nQ 46.96875 40.921875 40.578125 39.3125 \nz\n\" id=\"DejaVuSans-51\"/>\n      </defs>\n      <g transform=\"translate(7.2 160.424132)scale(0.1 -0.1)\">\n       <use xlink:href=\"#DejaVuSans-51\"/>\n      </g>\n     </g>\n    </g>\n    <g id=\"ytick_3\">\n     <g id=\"line2d_9\">\n      <g>\n       <use style=\"stroke:#000000;stroke-width:0.8;\" x=\"20.5625\" xlink:href=\"#m927e24aed3\" y=\"108.687228\"/>\n      </g>\n     </g>\n     <g id=\"text_9\">\n      <!-- 4 -->\n      <g transform=\"translate(7.2 112.486446)scale(0.1 -0.1)\">\n       <use xlink:href=\"#DejaVuSans-52\"/>\n      </g>\n     </g>\n    </g>\n    <g id=\"ytick_4\">\n     <g id=\"line2d_10\">\n      <g>\n       <use style=\"stroke:#000000;stroke-width:0.8;\" x=\"20.5625\" xlink:href=\"#m927e24aed3\" y=\"60.749542\"/>\n      </g>\n     </g>\n     <g id=\"text_10\">\n      <!-- 5 -->\n      <defs>\n       <path d=\"M 10.796875 72.90625 \nL 49.515625 72.90625 \nL 49.515625 64.59375 \nL 19.828125 64.59375 \nL 19.828125 46.734375 \nQ 21.96875 47.46875 24.109375 47.828125 \nQ 26.265625 48.1875 28.421875 48.1875 \nQ 40.625 48.1875 47.75 41.5 \nQ 54.890625 34.8125 54.890625 23.390625 \nQ 54.890625 11.625 47.5625 5.09375 \nQ 40.234375 -1.421875 26.90625 -1.421875 \nQ 22.3125 -1.421875 17.546875 -0.640625 \nQ 12.796875 0.140625 7.71875 1.703125 \nL 7.71875 11.625 \nQ 12.109375 9.234375 16.796875 8.0625 \nQ 21.484375 6.890625 26.703125 6.890625 \nQ 35.15625 6.890625 40.078125 11.328125 \nQ 45.015625 15.765625 45.015625 23.390625 \nQ 45.015625 31 40.078125 35.4375 \nQ 35.15625 39.890625 26.703125 39.890625 \nQ 22.75 39.890625 18.8125 39.015625 \nQ 14.890625 38.140625 10.796875 36.28125 \nz\n\" id=\"DejaVuSans-53\"/>\n      </defs>\n      <g transform=\"translate(7.2 64.54876)scale(0.1 -0.1)\">\n       <use xlink:href=\"#DejaVuSans-53\"/>\n      </g>\n     </g>\n    </g>\n    <g id=\"ytick_5\">\n     <g id=\"line2d_11\">\n      <g>\n       <use style=\"stroke:#000000;stroke-width:0.8;\" x=\"20.5625\" xlink:href=\"#m927e24aed3\" y=\"12.811855\"/>\n      </g>\n     </g>\n     <g id=\"text_11\">\n      <!-- 6 -->\n      <g transform=\"translate(7.2 16.611074)scale(0.1 -0.1)\">\n       <use xlink:href=\"#DejaVuSans-54\"/>\n      </g>\n     </g>\n    </g>\n   </g>\n   <g id=\"line2d_12\">\n    <defs>\n     <path d=\"M 0 1.5 \nC 0.397805 1.5 0.77937 1.341951 1.06066 1.06066 \nC 1.341951 0.77937 1.5 0.397805 1.5 0 \nC 1.5 -0.397805 1.341951 -0.77937 1.06066 -1.06066 \nC 0.77937 -1.341951 0.397805 -1.5 0 -1.5 \nC -0.397805 -1.5 -0.77937 -1.341951 -1.06066 -1.06066 \nC -1.341951 -0.77937 -1.5 -0.397805 -1.5 0 \nC -1.5 0.397805 -1.341951 0.77937 -1.06066 1.06066 \nC -0.77937 1.341951 -0.397805 1.5 0 1.5 \nz\n\" id=\"maa8ce1040a\" style=\"stroke:#1f77b4;\"/>\n    </defs>\n    <g clip-path=\"url(#pb77f2a256e)\">\n     <use style=\"fill:#1f77b4;stroke:#1f77b4;\" x=\"35.780682\" xlink:href=\"#maa8ce1040a\" y=\"163.602296\"/>\n     <use style=\"fill:#1f77b4;stroke:#1f77b4;\" x=\"38.886433\" xlink:href=\"#maa8ce1040a\" y=\"161.456712\"/>\n     <use style=\"fill:#1f77b4;stroke:#1f77b4;\" x=\"41.992185\" xlink:href=\"#maa8ce1040a\" y=\"171.624975\"/>\n     <use style=\"fill:#1f77b4;stroke:#1f77b4;\" x=\"45.097936\" xlink:href=\"#maa8ce1040a\" y=\"147.351665\"/>\n     <use style=\"fill:#1f77b4;stroke:#1f77b4;\" x=\"48.203687\" xlink:href=\"#maa8ce1040a\" y=\"143.081059\"/>\n     <use style=\"fill:#1f77b4;stroke:#1f77b4;\" x=\"51.309439\" xlink:href=\"#maa8ce1040a\" y=\"148.674089\"/>\n     <use style=\"fill:#1f77b4;stroke:#1f77b4;\" x=\"54.41519\" xlink:href=\"#maa8ce1040a\" y=\"144.302723\"/>\n     <use style=\"fill:#1f77b4;stroke:#1f77b4;\" x=\"57.520942\" xlink:href=\"#maa8ce1040a\" y=\"148.099115\"/>\n     <use style=\"fill:#1f77b4;stroke:#1f77b4;\" x=\"60.626693\" xlink:href=\"#maa8ce1040a\" y=\"148.823512\"/>\n     <use style=\"fill:#1f77b4;stroke:#1f77b4;\" x=\"63.732444\" xlink:href=\"#maa8ce1040a\" y=\"150.595802\"/>\n     <use style=\"fill:#1f77b4;stroke:#1f77b4;\" x=\"66.838196\" xlink:href=\"#maa8ce1040a\" y=\"151.765349\"/>\n     <use style=\"fill:#1f77b4;stroke:#1f77b4;\" x=\"69.943947\" xlink:href=\"#maa8ce1040a\" y=\"153.531382\"/>\n     <use style=\"fill:#1f77b4;stroke:#1f77b4;\" x=\"73.049699\" xlink:href=\"#maa8ce1040a\" y=\"153.394925\"/>\n     <use style=\"fill:#1f77b4;stroke:#1f77b4;\" x=\"76.15545\" xlink:href=\"#maa8ce1040a\" y=\"152.317932\"/>\n     <use style=\"fill:#1f77b4;stroke:#1f77b4;\" x=\"79.261201\" xlink:href=\"#maa8ce1040a\" y=\"150.349801\"/>\n     <use style=\"fill:#1f77b4;stroke:#1f77b4;\" x=\"82.366953\" xlink:href=\"#maa8ce1040a\" y=\"149.929612\"/>\n     <use style=\"fill:#1f77b4;stroke:#1f77b4;\" x=\"85.472704\" xlink:href=\"#maa8ce1040a\" y=\"149.1519\"/>\n     <use style=\"fill:#1f77b4;stroke:#1f77b4;\" x=\"88.578455\" xlink:href=\"#maa8ce1040a\" y=\"151.0047\"/>\n     <use style=\"fill:#1f77b4;stroke:#1f77b4;\" x=\"91.684207\" xlink:href=\"#maa8ce1040a\" y=\"149.400256\"/>\n     <use style=\"fill:#1f77b4;stroke:#1f77b4;\" x=\"94.789958\" xlink:href=\"#maa8ce1040a\" y=\"149.668268\"/>\n     <use style=\"fill:#1f77b4;stroke:#1f77b4;\" x=\"97.89571\" xlink:href=\"#maa8ce1040a\" y=\"151.849751\"/>\n     <use style=\"fill:#1f77b4;stroke:#1f77b4;\" x=\"101.001461\" xlink:href=\"#maa8ce1040a\" y=\"151.103066\"/>\n     <use style=\"fill:#1f77b4;stroke:#1f77b4;\" x=\"104.107212\" xlink:href=\"#maa8ce1040a\" y=\"151.47906\"/>\n     <use style=\"fill:#1f77b4;stroke:#1f77b4;\" x=\"107.212964\" xlink:href=\"#maa8ce1040a\" y=\"149.447046\"/>\n     <use style=\"fill:#1f77b4;stroke:#1f77b4;\" x=\"110.318715\" xlink:href=\"#maa8ce1040a\" y=\"151.744602\"/>\n     <use style=\"fill:#1f77b4;stroke:#1f77b4;\" x=\"113.424467\" xlink:href=\"#maa8ce1040a\" y=\"151.727378\"/>\n     <use style=\"fill:#1f77b4;stroke:#1f77b4;\" x=\"116.530218\" xlink:href=\"#maa8ce1040a\" y=\"152.751379\"/>\n     <use style=\"fill:#1f77b4;stroke:#1f77b4;\" x=\"119.635969\" xlink:href=\"#maa8ce1040a\" y=\"152.439058\"/>\n     <use style=\"fill:#1f77b4;stroke:#1f77b4;\" x=\"122.741721\" xlink:href=\"#maa8ce1040a\" y=\"153.428041\"/>\n     <use style=\"fill:#1f77b4;stroke:#1f77b4;\" x=\"125.847472\" xlink:href=\"#maa8ce1040a\" y=\"154.495494\"/>\n     <use style=\"fill:#1f77b4;stroke:#1f77b4;\" x=\"128.953224\" xlink:href=\"#maa8ce1040a\" y=\"154.084172\"/>\n     <use style=\"fill:#1f77b4;stroke:#1f77b4;\" x=\"132.058975\" xlink:href=\"#maa8ce1040a\" y=\"153.65516\"/>\n     <use style=\"fill:#1f77b4;stroke:#1f77b4;\" x=\"135.164726\" xlink:href=\"#maa8ce1040a\" y=\"152.279776\"/>\n     <use style=\"fill:#1f77b4;stroke:#1f77b4;\" x=\"138.270478\" xlink:href=\"#maa8ce1040a\" y=\"153.108429\"/>\n     <use style=\"fill:#1f77b4;stroke:#1f77b4;\" x=\"141.376229\" xlink:href=\"#maa8ce1040a\" y=\"152.91989\"/>\n     <use style=\"fill:#1f77b4;stroke:#1f77b4;\" x=\"144.481981\" xlink:href=\"#maa8ce1040a\" y=\"152.938205\"/>\n     <use style=\"fill:#1f77b4;stroke:#1f77b4;\" x=\"147.587732\" xlink:href=\"#maa8ce1040a\" y=\"152.331125\"/>\n     <use style=\"fill:#1f77b4;stroke:#1f77b4;\" x=\"150.693483\" xlink:href=\"#maa8ce1040a\" y=\"153.246563\"/>\n     <use style=\"fill:#1f77b4;stroke:#1f77b4;\" x=\"153.799235\" xlink:href=\"#maa8ce1040a\" y=\"152.36573\"/>\n     <use style=\"fill:#1f77b4;stroke:#1f77b4;\" x=\"156.904986\" xlink:href=\"#maa8ce1040a\" y=\"153.428859\"/>\n     <use style=\"fill:#1f77b4;stroke:#1f77b4;\" x=\"160.010737\" xlink:href=\"#maa8ce1040a\" y=\"153.751938\"/>\n     <use style=\"fill:#1f77b4;stroke:#1f77b4;\" x=\"163.116489\" xlink:href=\"#maa8ce1040a\" y=\"152.608143\"/>\n     <use style=\"fill:#1f77b4;stroke:#1f77b4;\" x=\"166.22224\" xlink:href=\"#maa8ce1040a\" y=\"153.080496\"/>\n     <use style=\"fill:#1f77b4;stroke:#1f77b4;\" x=\"169.327992\" xlink:href=\"#maa8ce1040a\" y=\"151.949794\"/>\n     <use style=\"fill:#1f77b4;stroke:#1f77b4;\" x=\"172.433743\" xlink:href=\"#maa8ce1040a\" y=\"150.519932\"/>\n     <use style=\"fill:#1f77b4;stroke:#1f77b4;\" x=\"175.539494\" xlink:href=\"#maa8ce1040a\" y=\"150.344381\"/>\n     <use style=\"fill:#1f77b4;stroke:#1f77b4;\" x=\"178.645246\" xlink:href=\"#maa8ce1040a\" y=\"150.943616\"/>\n     <use style=\"fill:#1f77b4;stroke:#1f77b4;\" x=\"181.750997\" xlink:href=\"#maa8ce1040a\" y=\"150.504718\"/>\n     <use style=\"fill:#1f77b4;stroke:#1f77b4;\" x=\"184.856749\" xlink:href=\"#maa8ce1040a\" y=\"149.983794\"/>\n     <use style=\"fill:#1f77b4;stroke:#1f77b4;\" x=\"187.9625\" xlink:href=\"#maa8ce1040a\" y=\"150.902674\"/>\n     <use style=\"fill:#1f77b4;stroke:#1f77b4;\" x=\"191.068251\" xlink:href=\"#maa8ce1040a\" y=\"151.866697\"/>\n     <use style=\"fill:#1f77b4;stroke:#1f77b4;\" x=\"194.174003\" xlink:href=\"#maa8ce1040a\" y=\"152.479592\"/>\n     <use style=\"fill:#1f77b4;stroke:#1f77b4;\" x=\"197.279754\" xlink:href=\"#maa8ce1040a\" y=\"153.061746\"/>\n     <use style=\"fill:#1f77b4;stroke:#1f77b4;\" x=\"200.385506\" xlink:href=\"#maa8ce1040a\" y=\"152.654255\"/>\n     <use style=\"fill:#1f77b4;stroke:#1f77b4;\" x=\"203.491257\" xlink:href=\"#maa8ce1040a\" y=\"151.651341\"/>\n     <use style=\"fill:#1f77b4;stroke:#1f77b4;\" x=\"206.597008\" xlink:href=\"#maa8ce1040a\" y=\"150.66384\"/>\n     <use style=\"fill:#1f77b4;stroke:#1f77b4;\" x=\"209.70276\" xlink:href=\"#maa8ce1040a\" y=\"151.566596\"/>\n     <use style=\"fill:#1f77b4;stroke:#1f77b4;\" x=\"212.808511\" xlink:href=\"#maa8ce1040a\" y=\"151.616086\"/>\n     <use style=\"fill:#1f77b4;stroke:#1f77b4;\" x=\"215.914263\" xlink:href=\"#maa8ce1040a\" y=\"151.598602\"/>\n     <use style=\"fill:#1f77b4;stroke:#1f77b4;\" x=\"219.020014\" xlink:href=\"#maa8ce1040a\" y=\"151.648335\"/>\n     <use style=\"fill:#1f77b4;stroke:#1f77b4;\" x=\"222.125765\" xlink:href=\"#maa8ce1040a\" y=\"151.450058\"/>\n     <use style=\"fill:#1f77b4;stroke:#1f77b4;\" x=\"225.231517\" xlink:href=\"#maa8ce1040a\" y=\"151.822727\"/>\n     <use style=\"fill:#1f77b4;stroke:#1f77b4;\" x=\"228.337268\" xlink:href=\"#maa8ce1040a\" y=\"151.33873\"/>\n     <use style=\"fill:#1f77b4;stroke:#1f77b4;\" x=\"231.443019\" xlink:href=\"#maa8ce1040a\" y=\"150.399013\"/>\n     <use style=\"fill:#1f77b4;stroke:#1f77b4;\" x=\"234.548771\" xlink:href=\"#maa8ce1040a\" y=\"150.272363\"/>\n     <use style=\"fill:#1f77b4;stroke:#1f77b4;\" x=\"237.654522\" xlink:href=\"#maa8ce1040a\" y=\"150.594525\"/>\n     <use style=\"fill:#1f77b4;stroke:#1f77b4;\" x=\"240.760274\" xlink:href=\"#maa8ce1040a\" y=\"151.606975\"/>\n     <use style=\"fill:#1f77b4;stroke:#1f77b4;\" x=\"243.866025\" xlink:href=\"#maa8ce1040a\" y=\"151.768535\"/>\n     <use style=\"fill:#1f77b4;stroke:#1f77b4;\" x=\"246.971776\" xlink:href=\"#maa8ce1040a\" y=\"151.551568\"/>\n     <use style=\"fill:#1f77b4;stroke:#1f77b4;\" x=\"250.077528\" xlink:href=\"#maa8ce1040a\" y=\"151.313053\"/>\n     <use style=\"fill:#1f77b4;stroke:#1f77b4;\" x=\"253.183279\" xlink:href=\"#maa8ce1040a\" y=\"151.45565\"/>\n     <use style=\"fill:#1f77b4;stroke:#1f77b4;\" x=\"256.289031\" xlink:href=\"#maa8ce1040a\" y=\"151.814057\"/>\n     <use style=\"fill:#1f77b4;stroke:#1f77b4;\" x=\"259.394782\" xlink:href=\"#maa8ce1040a\" y=\"152.104866\"/>\n     <use style=\"fill:#1f77b4;stroke:#1f77b4;\" x=\"262.500533\" xlink:href=\"#maa8ce1040a\" y=\"152.468004\"/>\n     <use style=\"fill:#1f77b4;stroke:#1f77b4;\" x=\"265.606285\" xlink:href=\"#maa8ce1040a\" y=\"152.040927\"/>\n     <use style=\"fill:#1f77b4;stroke:#1f77b4;\" x=\"268.712036\" xlink:href=\"#maa8ce1040a\" y=\"152.290329\"/>\n     <use style=\"fill:#1f77b4;stroke:#1f77b4;\" x=\"271.817788\" xlink:href=\"#maa8ce1040a\" y=\"152.927662\"/>\n     <use style=\"fill:#1f77b4;stroke:#1f77b4;\" x=\"274.923539\" xlink:href=\"#maa8ce1040a\" y=\"152.836268\"/>\n     <use style=\"fill:#1f77b4;stroke:#1f77b4;\" x=\"278.02929\" xlink:href=\"#maa8ce1040a\" y=\"152.672457\"/>\n     <use style=\"fill:#1f77b4;stroke:#1f77b4;\" x=\"281.135042\" xlink:href=\"#maa8ce1040a\" y=\"152.694401\"/>\n     <use style=\"fill:#1f77b4;stroke:#1f77b4;\" x=\"284.240793\" xlink:href=\"#maa8ce1040a\" y=\"152.787425\"/>\n     <use style=\"fill:#1f77b4;stroke:#1f77b4;\" x=\"287.346545\" xlink:href=\"#maa8ce1040a\" y=\"152.721005\"/>\n     <use style=\"fill:#1f77b4;stroke:#1f77b4;\" x=\"290.452296\" xlink:href=\"#maa8ce1040a\" y=\"152.942395\"/>\n     <use style=\"fill:#1f77b4;stroke:#1f77b4;\" x=\"293.558047\" xlink:href=\"#maa8ce1040a\" y=\"153.467834\"/>\n     <use style=\"fill:#1f77b4;stroke:#1f77b4;\" x=\"296.663799\" xlink:href=\"#maa8ce1040a\" y=\"153.716179\"/>\n     <use style=\"fill:#1f77b4;stroke:#1f77b4;\" x=\"299.76955\" xlink:href=\"#maa8ce1040a\" y=\"153.629755\"/>\n     <use style=\"fill:#1f77b4;stroke:#1f77b4;\" x=\"302.875301\" xlink:href=\"#maa8ce1040a\" y=\"154.038258\"/>\n     <use style=\"fill:#1f77b4;stroke:#1f77b4;\" x=\"305.981053\" xlink:href=\"#maa8ce1040a\" y=\"154.289889\"/>\n     <use style=\"fill:#1f77b4;stroke:#1f77b4;\" x=\"309.086804\" xlink:href=\"#maa8ce1040a\" y=\"153.966129\"/>\n     <use style=\"fill:#1f77b4;stroke:#1f77b4;\" x=\"312.192556\" xlink:href=\"#maa8ce1040a\" y=\"153.820348\"/>\n     <use style=\"fill:#1f77b4;stroke:#1f77b4;\" x=\"315.298307\" xlink:href=\"#maa8ce1040a\" y=\"153.613762\"/>\n     <use style=\"fill:#1f77b4;stroke:#1f77b4;\" x=\"318.404058\" xlink:href=\"#maa8ce1040a\" y=\"153.777925\"/>\n     <use style=\"fill:#1f77b4;stroke:#1f77b4;\" x=\"321.50981\" xlink:href=\"#maa8ce1040a\" y=\"153.57097\"/>\n     <use style=\"fill:#1f77b4;stroke:#1f77b4;\" x=\"324.615561\" xlink:href=\"#maa8ce1040a\" y=\"153.128742\"/>\n     <use style=\"fill:#1f77b4;stroke:#1f77b4;\" x=\"327.721313\" xlink:href=\"#maa8ce1040a\" y=\"152.776143\"/>\n     <use style=\"fill:#1f77b4;stroke:#1f77b4;\" x=\"330.827064\" xlink:href=\"#maa8ce1040a\" y=\"153.157565\"/>\n     <use style=\"fill:#1f77b4;stroke:#1f77b4;\" x=\"333.932815\" xlink:href=\"#maa8ce1040a\" y=\"152.916476\"/>\n     <use style=\"fill:#1f77b4;stroke:#1f77b4;\" x=\"337.038567\" xlink:href=\"#maa8ce1040a\" y=\"152.993144\"/>\n     <use style=\"fill:#1f77b4;stroke:#1f77b4;\" x=\"340.144318\" xlink:href=\"#maa8ce1040a\" y=\"153.280226\"/>\n    </g>\n   </g>\n   <g id=\"line2d_13\">\n    <defs>\n     <path d=\"M 0 1.5 \nC 0.397805 1.5 0.77937 1.341951 1.06066 1.06066 \nC 1.341951 0.77937 1.5 0.397805 1.5 0 \nC 1.5 -0.397805 1.341951 -0.77937 1.06066 -1.06066 \nC 0.77937 -1.341951 0.397805 -1.5 0 -1.5 \nC -0.397805 -1.5 -0.77937 -1.341951 -1.06066 -1.06066 \nC -1.341951 -0.77937 -1.5 -0.397805 -1.5 0 \nC -1.5 0.397805 -1.341951 0.77937 -1.06066 1.06066 \nC -0.77937 1.341951 -0.397805 1.5 0 1.5 \nz\n\" id=\"m4cf8beec46\" style=\"stroke:#ff7f0e;\"/>\n    </defs>\n    <g clip-path=\"url(#pb77f2a256e)\">\n     <use style=\"fill:#ff7f0e;stroke:#ff7f0e;\" x=\"35.780682\" xlink:href=\"#m4cf8beec46\" y=\"214.756364\"/>\n     <use style=\"fill:#ff7f0e;stroke:#ff7f0e;\" x=\"38.886433\" xlink:href=\"#m4cf8beec46\" y=\"99.169651\"/>\n     <use style=\"fill:#ff7f0e;stroke:#ff7f0e;\" x=\"41.992185\" xlink:href=\"#m4cf8beec46\" y=\"56.668165\"/>\n     <use style=\"fill:#ff7f0e;stroke:#ff7f0e;\" x=\"45.097936\" xlink:href=\"#m4cf8beec46\" y=\"17.083636\"/>\n     <use style=\"fill:#ff7f0e;stroke:#ff7f0e;\" x=\"48.203687\" xlink:href=\"#m4cf8beec46\" y=\"39.964271\"/>\n     <use style=\"fill:#ff7f0e;stroke:#ff7f0e;\" x=\"51.309439\" xlink:href=\"#m4cf8beec46\" y=\"57.572145\"/>\n     <use style=\"fill:#ff7f0e;stroke:#ff7f0e;\" x=\"54.41519\" xlink:href=\"#m4cf8beec46\" y=\"41.986115\"/>\n     <use style=\"fill:#ff7f0e;stroke:#ff7f0e;\" x=\"57.520942\" xlink:href=\"#m4cf8beec46\" y=\"44.531325\"/>\n     <use style=\"fill:#ff7f0e;stroke:#ff7f0e;\" x=\"60.626693\" xlink:href=\"#m4cf8beec46\" y=\"60.14073\"/>\n     <use style=\"fill:#ff7f0e;stroke:#ff7f0e;\" x=\"63.732444\" xlink:href=\"#m4cf8beec46\" y=\"74.015136\"/>\n     <use style=\"fill:#ff7f0e;stroke:#ff7f0e;\" x=\"66.838196\" xlink:href=\"#m4cf8beec46\" y=\"91.984928\"/>\n     <use style=\"fill:#ff7f0e;stroke:#ff7f0e;\" x=\"69.943947\" xlink:href=\"#m4cf8beec46\" y=\"98.37077\"/>\n     <use style=\"fill:#ff7f0e;stroke:#ff7f0e;\" x=\"73.049699\" xlink:href=\"#m4cf8beec46\" y=\"99.422213\"/>\n     <use style=\"fill:#ff7f0e;stroke:#ff7f0e;\" x=\"76.15545\" xlink:href=\"#m4cf8beec46\" y=\"100.548651\"/>\n     <use style=\"fill:#ff7f0e;stroke:#ff7f0e;\" x=\"79.261201\" xlink:href=\"#m4cf8beec46\" y=\"98.324757\"/>\n     <use style=\"fill:#ff7f0e;stroke:#ff7f0e;\" x=\"82.366953\" xlink:href=\"#m4cf8beec46\" y=\"90.948403\"/>\n     <use style=\"fill:#ff7f0e;stroke:#ff7f0e;\" x=\"85.472704\" xlink:href=\"#m4cf8beec46\" y=\"87.910247\"/>\n     <use style=\"fill:#ff7f0e;stroke:#ff7f0e;\" x=\"88.578455\" xlink:href=\"#m4cf8beec46\" y=\"92.642013\"/>\n     <use style=\"fill:#ff7f0e;stroke:#ff7f0e;\" x=\"91.684207\" xlink:href=\"#m4cf8beec46\" y=\"91.115577\"/>\n     <use style=\"fill:#ff7f0e;stroke:#ff7f0e;\" x=\"94.789958\" xlink:href=\"#m4cf8beec46\" y=\"81.328683\"/>\n     <use style=\"fill:#ff7f0e;stroke:#ff7f0e;\" x=\"97.89571\" xlink:href=\"#m4cf8beec46\" y=\"82.469295\"/>\n     <use style=\"fill:#ff7f0e;stroke:#ff7f0e;\" x=\"101.001461\" xlink:href=\"#m4cf8beec46\" y=\"86.452286\"/>\n     <use style=\"fill:#ff7f0e;stroke:#ff7f0e;\" x=\"104.107212\" xlink:href=\"#m4cf8beec46\" y=\"88.272442\"/>\n     <use style=\"fill:#ff7f0e;stroke:#ff7f0e;\" x=\"107.212964\" xlink:href=\"#m4cf8beec46\" y=\"86.048408\"/>\n     <use style=\"fill:#ff7f0e;stroke:#ff7f0e;\" x=\"110.318715\" xlink:href=\"#m4cf8beec46\" y=\"80.445442\"/>\n     <use style=\"fill:#ff7f0e;stroke:#ff7f0e;\" x=\"113.424467\" xlink:href=\"#m4cf8beec46\" y=\"83.450749\"/>\n     <use style=\"fill:#ff7f0e;stroke:#ff7f0e;\" x=\"116.530218\" xlink:href=\"#m4cf8beec46\" y=\"84.494927\"/>\n     <use style=\"fill:#ff7f0e;stroke:#ff7f0e;\" x=\"119.635969\" xlink:href=\"#m4cf8beec46\" y=\"80.404887\"/>\n     <use style=\"fill:#ff7f0e;stroke:#ff7f0e;\" x=\"122.741721\" xlink:href=\"#m4cf8beec46\" y=\"84.792187\"/>\n     <use style=\"fill:#ff7f0e;stroke:#ff7f0e;\" x=\"125.847472\" xlink:href=\"#m4cf8beec46\" y=\"85.626948\"/>\n     <use style=\"fill:#ff7f0e;stroke:#ff7f0e;\" x=\"128.953224\" xlink:href=\"#m4cf8beec46\" y=\"87.586554\"/>\n     <use style=\"fill:#ff7f0e;stroke:#ff7f0e;\" x=\"132.058975\" xlink:href=\"#m4cf8beec46\" y=\"90.612203\"/>\n     <use style=\"fill:#ff7f0e;stroke:#ff7f0e;\" x=\"135.164726\" xlink:href=\"#m4cf8beec46\" y=\"91.545146\"/>\n     <use style=\"fill:#ff7f0e;stroke:#ff7f0e;\" x=\"138.270478\" xlink:href=\"#m4cf8beec46\" y=\"92.712595\"/>\n     <use style=\"fill:#ff7f0e;stroke:#ff7f0e;\" x=\"141.376229\" xlink:href=\"#m4cf8beec46\" y=\"93.707505\"/>\n     <use style=\"fill:#ff7f0e;stroke:#ff7f0e;\" x=\"144.481981\" xlink:href=\"#m4cf8beec46\" y=\"96.572767\"/>\n     <use style=\"fill:#ff7f0e;stroke:#ff7f0e;\" x=\"147.587732\" xlink:href=\"#m4cf8beec46\" y=\"98.915152\"/>\n     <use style=\"fill:#ff7f0e;stroke:#ff7f0e;\" x=\"150.693483\" xlink:href=\"#m4cf8beec46\" y=\"97.752902\"/>\n     <use style=\"fill:#ff7f0e;stroke:#ff7f0e;\" x=\"153.799235\" xlink:href=\"#m4cf8beec46\" y=\"95.799486\"/>\n     <use style=\"fill:#ff7f0e;stroke:#ff7f0e;\" x=\"156.904986\" xlink:href=\"#m4cf8beec46\" y=\"93.236748\"/>\n     <use style=\"fill:#ff7f0e;stroke:#ff7f0e;\" x=\"160.010737\" xlink:href=\"#m4cf8beec46\" y=\"94.522514\"/>\n     <use style=\"fill:#ff7f0e;stroke:#ff7f0e;\" x=\"163.116489\" xlink:href=\"#m4cf8beec46\" y=\"92.655267\"/>\n     <use style=\"fill:#ff7f0e;stroke:#ff7f0e;\" x=\"166.22224\" xlink:href=\"#m4cf8beec46\" y=\"95.01588\"/>\n     <use style=\"fill:#ff7f0e;stroke:#ff7f0e;\" x=\"169.327992\" xlink:href=\"#m4cf8beec46\" y=\"94.781565\"/>\n     <use style=\"fill:#ff7f0e;stroke:#ff7f0e;\" x=\"172.433743\" xlink:href=\"#m4cf8beec46\" y=\"94.085155\"/>\n     <use style=\"fill:#ff7f0e;stroke:#ff7f0e;\" x=\"175.539494\" xlink:href=\"#m4cf8beec46\" y=\"89.399096\"/>\n     <use style=\"fill:#ff7f0e;stroke:#ff7f0e;\" x=\"178.645246\" xlink:href=\"#m4cf8beec46\" y=\"85.480792\"/>\n     <use style=\"fill:#ff7f0e;stroke:#ff7f0e;\" x=\"181.750997\" xlink:href=\"#m4cf8beec46\" y=\"87.231624\"/>\n     <use style=\"fill:#ff7f0e;stroke:#ff7f0e;\" x=\"184.856749\" xlink:href=\"#m4cf8beec46\" y=\"88.931199\"/>\n     <use style=\"fill:#ff7f0e;stroke:#ff7f0e;\" x=\"187.9625\" xlink:href=\"#m4cf8beec46\" y=\"90.340458\"/>\n     <use style=\"fill:#ff7f0e;stroke:#ff7f0e;\" x=\"191.068251\" xlink:href=\"#m4cf8beec46\" y=\"89.848596\"/>\n     <use style=\"fill:#ff7f0e;stroke:#ff7f0e;\" x=\"194.174003\" xlink:href=\"#m4cf8beec46\" y=\"90.77602\"/>\n     <use style=\"fill:#ff7f0e;stroke:#ff7f0e;\" x=\"197.279754\" xlink:href=\"#m4cf8beec46\" y=\"91.938724\"/>\n     <use style=\"fill:#ff7f0e;stroke:#ff7f0e;\" x=\"200.385506\" xlink:href=\"#m4cf8beec46\" y=\"89.835496\"/>\n     <use style=\"fill:#ff7f0e;stroke:#ff7f0e;\" x=\"203.491257\" xlink:href=\"#m4cf8beec46\" y=\"90.798821\"/>\n     <use style=\"fill:#ff7f0e;stroke:#ff7f0e;\" x=\"206.597008\" xlink:href=\"#m4cf8beec46\" y=\"92.179616\"/>\n     <use style=\"fill:#ff7f0e;stroke:#ff7f0e;\" x=\"209.70276\" xlink:href=\"#m4cf8beec46\" y=\"93.334125\"/>\n     <use style=\"fill:#ff7f0e;stroke:#ff7f0e;\" x=\"212.808511\" xlink:href=\"#m4cf8beec46\" y=\"92.589702\"/>\n     <use style=\"fill:#ff7f0e;stroke:#ff7f0e;\" x=\"215.914263\" xlink:href=\"#m4cf8beec46\" y=\"92.785079\"/>\n     <use style=\"fill:#ff7f0e;stroke:#ff7f0e;\" x=\"219.020014\" xlink:href=\"#m4cf8beec46\" y=\"94.080966\"/>\n     <use style=\"fill:#ff7f0e;stroke:#ff7f0e;\" x=\"222.125765\" xlink:href=\"#m4cf8beec46\" y=\"95.998709\"/>\n     <use style=\"fill:#ff7f0e;stroke:#ff7f0e;\" x=\"225.231517\" xlink:href=\"#m4cf8beec46\" y=\"96.617941\"/>\n     <use style=\"fill:#ff7f0e;stroke:#ff7f0e;\" x=\"228.337268\" xlink:href=\"#m4cf8beec46\" y=\"95.908725\"/>\n     <use style=\"fill:#ff7f0e;stroke:#ff7f0e;\" x=\"231.443019\" xlink:href=\"#m4cf8beec46\" y=\"93.994348\"/>\n     <use style=\"fill:#ff7f0e;stroke:#ff7f0e;\" x=\"234.548771\" xlink:href=\"#m4cf8beec46\" y=\"94.197552\"/>\n     <use style=\"fill:#ff7f0e;stroke:#ff7f0e;\" x=\"237.654522\" xlink:href=\"#m4cf8beec46\" y=\"94.116665\"/>\n     <use style=\"fill:#ff7f0e;stroke:#ff7f0e;\" x=\"240.760274\" xlink:href=\"#m4cf8beec46\" y=\"93.348589\"/>\n     <use style=\"fill:#ff7f0e;stroke:#ff7f0e;\" x=\"243.866025\" xlink:href=\"#m4cf8beec46\" y=\"94.490741\"/>\n     <use style=\"fill:#ff7f0e;stroke:#ff7f0e;\" x=\"246.971776\" xlink:href=\"#m4cf8beec46\" y=\"96.65773\"/>\n     <use style=\"fill:#ff7f0e;stroke:#ff7f0e;\" x=\"250.077528\" xlink:href=\"#m4cf8beec46\" y=\"98.182086\"/>\n     <use style=\"fill:#ff7f0e;stroke:#ff7f0e;\" x=\"253.183279\" xlink:href=\"#m4cf8beec46\" y=\"99.835755\"/>\n     <use style=\"fill:#ff7f0e;stroke:#ff7f0e;\" x=\"256.289031\" xlink:href=\"#m4cf8beec46\" y=\"101.115427\"/>\n     <use style=\"fill:#ff7f0e;stroke:#ff7f0e;\" x=\"259.394782\" xlink:href=\"#m4cf8beec46\" y=\"101.323464\"/>\n     <use style=\"fill:#ff7f0e;stroke:#ff7f0e;\" x=\"262.500533\" xlink:href=\"#m4cf8beec46\" y=\"102.546851\"/>\n     <use style=\"fill:#ff7f0e;stroke:#ff7f0e;\" x=\"265.606285\" xlink:href=\"#m4cf8beec46\" y=\"103.456483\"/>\n     <use style=\"fill:#ff7f0e;stroke:#ff7f0e;\" x=\"268.712036\" xlink:href=\"#m4cf8beec46\" y=\"103.606411\"/>\n     <use style=\"fill:#ff7f0e;stroke:#ff7f0e;\" x=\"271.817788\" xlink:href=\"#m4cf8beec46\" y=\"104.996649\"/>\n     <use style=\"fill:#ff7f0e;stroke:#ff7f0e;\" x=\"274.923539\" xlink:href=\"#m4cf8beec46\" y=\"105.560297\"/>\n     <use style=\"fill:#ff7f0e;stroke:#ff7f0e;\" x=\"278.02929\" xlink:href=\"#m4cf8beec46\" y=\"105.105606\"/>\n     <use style=\"fill:#ff7f0e;stroke:#ff7f0e;\" x=\"281.135042\" xlink:href=\"#m4cf8beec46\" y=\"106.584275\"/>\n     <use style=\"fill:#ff7f0e;stroke:#ff7f0e;\" x=\"284.240793\" xlink:href=\"#m4cf8beec46\" y=\"107.398064\"/>\n     <use style=\"fill:#ff7f0e;stroke:#ff7f0e;\" x=\"287.346545\" xlink:href=\"#m4cf8beec46\" y=\"107.688318\"/>\n     <use style=\"fill:#ff7f0e;stroke:#ff7f0e;\" x=\"290.452296\" xlink:href=\"#m4cf8beec46\" y=\"108.304729\"/>\n     <use style=\"fill:#ff7f0e;stroke:#ff7f0e;\" x=\"293.558047\" xlink:href=\"#m4cf8beec46\" y=\"108.605547\"/>\n     <use style=\"fill:#ff7f0e;stroke:#ff7f0e;\" x=\"296.663799\" xlink:href=\"#m4cf8beec46\" y=\"109.773005\"/>\n     <use style=\"fill:#ff7f0e;stroke:#ff7f0e;\" x=\"299.76955\" xlink:href=\"#m4cf8beec46\" y=\"109.654559\"/>\n     <use style=\"fill:#ff7f0e;stroke:#ff7f0e;\" x=\"302.875301\" xlink:href=\"#m4cf8beec46\" y=\"107.851826\"/>\n     <use style=\"fill:#ff7f0e;stroke:#ff7f0e;\" x=\"305.981053\" xlink:href=\"#m4cf8beec46\" y=\"107.634446\"/>\n     <use style=\"fill:#ff7f0e;stroke:#ff7f0e;\" x=\"309.086804\" xlink:href=\"#m4cf8beec46\" y=\"107.649551\"/>\n     <use style=\"fill:#ff7f0e;stroke:#ff7f0e;\" x=\"312.192556\" xlink:href=\"#m4cf8beec46\" y=\"108.251588\"/>\n     <use style=\"fill:#ff7f0e;stroke:#ff7f0e;\" x=\"315.298307\" xlink:href=\"#m4cf8beec46\" y=\"109.125348\"/>\n     <use style=\"fill:#ff7f0e;stroke:#ff7f0e;\" x=\"318.404058\" xlink:href=\"#m4cf8beec46\" y=\"110.174871\"/>\n     <use style=\"fill:#ff7f0e;stroke:#ff7f0e;\" x=\"321.50981\" xlink:href=\"#m4cf8beec46\" y=\"110.382873\"/>\n     <use style=\"fill:#ff7f0e;stroke:#ff7f0e;\" x=\"324.615561\" xlink:href=\"#m4cf8beec46\" y=\"108.137986\"/>\n     <use style=\"fill:#ff7f0e;stroke:#ff7f0e;\" x=\"327.721313\" xlink:href=\"#m4cf8beec46\" y=\"108.969892\"/>\n     <use style=\"fill:#ff7f0e;stroke:#ff7f0e;\" x=\"330.827064\" xlink:href=\"#m4cf8beec46\" y=\"109.621827\"/>\n     <use style=\"fill:#ff7f0e;stroke:#ff7f0e;\" x=\"333.932815\" xlink:href=\"#m4cf8beec46\" y=\"109.895254\"/>\n     <use style=\"fill:#ff7f0e;stroke:#ff7f0e;\" x=\"337.038567\" xlink:href=\"#m4cf8beec46\" y=\"110.363819\"/>\n     <use style=\"fill:#ff7f0e;stroke:#ff7f0e;\" x=\"340.144318\" xlink:href=\"#m4cf8beec46\" y=\"111.186253\"/>\n    </g>\n   </g>\n   <g id=\"patch_3\">\n    <path d=\"M 20.5625 224.64 \nL 20.5625 7.2 \n\" style=\"fill:none;stroke:#000000;stroke-linecap:square;stroke-linejoin:miter;stroke-width:0.8;\"/>\n   </g>\n   <g id=\"patch_4\">\n    <path d=\"M 355.3625 224.64 \nL 355.3625 7.2 \n\" style=\"fill:none;stroke:#000000;stroke-linecap:square;stroke-linejoin:miter;stroke-width:0.8;\"/>\n   </g>\n   <g id=\"patch_5\">\n    <path d=\"M 20.5625 224.64 \nL 355.3625 224.64 \n\" style=\"fill:none;stroke:#000000;stroke-linecap:square;stroke-linejoin:miter;stroke-width:0.8;\"/>\n   </g>\n   <g id=\"patch_6\">\n    <path d=\"M 20.5625 7.2 \nL 355.3625 7.2 \n\" style=\"fill:none;stroke:#000000;stroke-linecap:square;stroke-linejoin:miter;stroke-width:0.8;\"/>\n   </g>\n  </g>\n </g>\n <defs>\n  <clipPath id=\"pb77f2a256e\">\n   <rect height=\"217.44\" width=\"334.8\" x=\"20.5625\" y=\"7.2\"/>\n  </clipPath>\n </defs>\n</svg>\n",
            "text/plain": "<Figure size 432x288 with 1 Axes>"
          },
          "metadata": {
            "needs_background": "light"
          },
          "output_type": "display_data"
        }
      ],
      "source": [
        "theta0 = [3,4] #[mean,variance]\n",
        "N = 1000\n",
        "mynorm = st.norm(theta0[0],np.sqrt(theta0[1]))\n",
        "y = mynorm.rvs(N)\n",
        "\n",
        "points = [[],[]]\n",
        "for i in range(10, N, 10):\n",
        "    curvec = y[0:i]\n",
        "    points[0].append(i)\n",
        "    points[1].append(NormML(curvec))\n",
        "    \n",
        "plt.plot(points[0], points[1], marker='.', linestyle='')\n",
        "plt.show()\n"
      ]
    },
    {
      "cell_type": "markdown",
      "metadata": {},
      "source": [
        "As we can see from the above graph, as N increases, the MLE of mu and sigma approach 3 and 2 respectively.  As a result, we can say that the MLE method chosen (i.e. sample mean and sample standard deviation) is consistent."
      ]
    },
    {
      "cell_type": "markdown",
      "metadata": {
        "colab_type": "text",
        "id": "mpdObzuAx97j"
      },
      "source": [
        "## Multivariate Normal Estimation"
      ]
    },
    {
      "cell_type": "markdown",
      "metadata": {
        "colab_type": "text",
        "id": "Aou5slfYx97k"
      },
      "source": [
        "Consider the dataset $\\{x_1,\\dotsc,x_N\\}$, where each $x_i$ is a vector of size $m$. Assuming this data is multivariate normal, i.e., $x_i\\sim \\mathcal N(\\mu,K)$, we would like to find estimate $\\mu$ and $K$ using maximum likelihood.\n",
        "___\n",
        "__Task:__ Write a module for estimating $\\mu$ and $K$. Assume that the input is a $N\\times m$ array $X$, where each row $x_i$ of $X$ is an $m$-dimensional data sample, with distribution $x_i\\sim \\mathcal N(\\mu,K)$."
      ]
    },
    {
      "cell_type": "code",
      "execution_count": 28,
      "metadata": {},
      "outputs": [],
      "source": [
        "def MultiVarNormML(X): # Each row of X is one sample x_i and each column corresponds to a dimension/feauter\n",
        "    # ...\n",
        "    '''\n",
        "    xi = [xi1, xi2, xi3, ... xim]\n",
        "    '''\n",
        "    \n",
        "    return np.average(X), np.var(X)"
      ]
    },
    {
      "cell_type": "markdown",
      "metadata": {
        "colab_type": "text",
        "id": "u3r5P00hx97s"
      },
      "source": [
        "We will use this estimator to explore relationships from a [dataset](http://archive.ics.uci.edu/ml/datasets/student+performance) about math performance for a group of students. The data is at the end of the notebook and needs to be loaded. **Make sure you run the last cell of this notebook before continueing.** After reading the data, we normalize the columns that we care about to have variance equal to 1. These columns/features are:\n",
        "0. studytime - weekly study time (numeric: 1 - <2 hours, 2 - 2 to 5 hours, 3 - 5 to 10 hours, or 4 - >10 hours)\n",
        "1. goout - going out with friends (numeric: from 1 - very low to 5 - very high)\n",
        "2. failures - number of past class failures (numeric: n if 1<=n<3, else 4)\n",
        "3. Medu - mother's education (numeric: 0 - none,  1 - primary education (4th grade), 2 – 5th to 9th grade, 3 – secondary education or 4 – higher education)\n",
        "4. Fedu - father's education (numeric: 0 - none,  1 - primary education (4th grade), 2 – 5th to 9th grade, 3 – secondary education or 4 – higher education)\n",
        "5. G3 - final grade (numeric: from 0 to 20, output target)"
      ]
    },
    {
      "cell_type": "code",
      "execution_count": 30,
      "metadata": {},
      "outputs": [],
      "source": [
        "# Execute the last cell of the notebook before this cell!\n",
        "T=pd.read_csv(data_csv,delimiter=';') #make sure to run the very last cell in this colab notebook to generate the csv before running this cell\n",
        "dims = ['studytime','goout','failures','Medu','Fedu','G3']\n",
        "for s in dims:\n",
        "    T[s] = T[s]/np.std(T[s])\n",
        "X = T[dims].values"
      ]
    },
    {
      "cell_type": "markdown",
      "metadata": {
        "colab_type": "text",
        "id": "pbS_8scdx97w"
      },
      "source": [
        "__Task:__ Find the ML estimate of $K$ for this data and discuss a couple of relationships that you observe. In particular, what appears to be more strongly correlated with final grade: mother's or father's education? [Hint: Use the module you created in prior task to attain the estimates and print out $\\hat K$ and also plot it using the matshow function from matplotlib]"
      ]
    },
    {
      "cell_type": "code",
      "execution_count": 32,
      "metadata": {},
      "outputs": [
        {
          "data": {
            "text/plain": "(2.130894906108524, 1.5934566410146749)"
          },
          "execution_count": 32,
          "metadata": {},
          "output_type": "execute_result"
        }
      ],
      "source": [
        "MultiVarNormML(X)"
      ]
    },
    {
      "cell_type": "markdown",
      "metadata": {
        "colab_type": "text",
        "id": "LM8DqJBCx971"
      },
      "source": [
        "_____\n",
        "_____\n",
        "### One more estimator property: Asymptotic Normality\n",
        "From the asymptotic normality of the ML estimator we have\n",
        "$$\\sqrt{n}(\\hat\\mu_{ML}-\\mu)\\to N(0,I^{-1}(\\mu))$$\n",
        "where $I$ is the Fisher information and in this case equals $I(\\mu)=\\frac{1}{\\sigma^2}$.\n",
        "\n",
        "And for $\\sigma^2$,\n",
        "$$\\sqrt{n}({\\hat\\sigma^2}_{ML}-\\sigma^2)\\to N(0,I^{-1}(\\sigma^2)),$$\n",
        "where $I(\\sigma^2)=1/(2\\sigma^4)$. \n",
        "\n",
        "__Task:__ Using the batches and estimates from [the Bias section](#Bias), plot the histograms for the estimates (multiplied by $\\sqrt{n}$ as above) and compare them with the limit distribution given on the right side of the above expressions. Are the approximations by the limit distributions accurate to the same degree for both mean and the variance? If not, why do you think that is the case? (You can try with batches with more samples and verify that for large batches, they become increasingly better approximations)."
      ]
    },
    {
      "cell_type": "code",
      "execution_count": 0,
      "metadata": {
        "colab": {},
        "colab_type": "code",
        "id": "mi5mYkJ_x972"
      },
      "outputs": [],
      "source": [
        "# histogram for the distribution of estimate of the mean\n",
        "plt.hist([(m-theta0[0])*np.sqrt(n) for m in mu_hats],50,normed=True);\n",
        "r = np.linspace(-3*np.sqrt(theta0[1]),3*np.sqrt(theta0[1]),100);\n",
        "plt.plot(r,st.norm.pdf(r,0,np.sqrt(theta0[1])),'r',linewidth=2); # we use sqrt since python requires std rather than var\n",
        "plt.figure()\n",
        "\n",
        "# histogram for the distribution of estimate of the variance\n",
        "# ..."
      ]
    },
    {
      "cell_type": "markdown",
      "metadata": {
        "colab_type": "text",
        "id": "EXiUvcTkx975"
      },
      "source": [
        "# Bayesian Estimation"
      ]
    },
    {
      "cell_type": "markdown",
      "metadata": {
        "colab_type": "text",
        "id": "124r0hKzx976"
      },
      "source": [
        "## Bernoulli data and Beta prior\n",
        "Suppose you are given a sample of $n$ iid Bernoulli random variables with probability of success equal to $\\theta$. \n",
        "\n",
        "__Task:__ Write a function that produces the frozen posterior of $\\theta$ given a Beta prior with pramaters $\\alpha$ and $\\beta$. Recall that a frozen RV is an object representing an RV with fixed parameters, e.g., \n",
        "```\n",
        "rv = st.beta(a, b)\n",
        "```\n",
        "and can be called for example to compute the pdf at a certain point as \n",
        "```\n",
        "rv.pdf(0.3)\n",
        "```"
      ]
    },
    {
      "cell_type": "code",
      "execution_count": 0,
      "metadata": {
        "colab": {},
        "colab_type": "code",
        "id": "oKwhx8slx976"
      },
      "outputs": [],
      "source": [
        "def bayesBernBeta(data,prior):\n",
        "    \"\"\" \n",
        "    input:\n",
        "    - data is an iid sample of Bernoulli RVs\n",
        "    - prior=[alpha,beta], prior Beta parameters\n",
        "    \"\"\"\n",
        "    #..."
      ]
    },
    {
      "cell_type": "markdown",
      "metadata": {
        "colab_type": "text",
        "id": "vVwMz1uHx97-"
      },
      "source": [
        "___\n",
        "The data is given below, in three different sizes. "
      ]
    },
    {
      "cell_type": "code",
      "execution_count": 0,
      "metadata": {
        "colab": {},
        "colab_type": "code",
        "id": "kFjfRb7Gx97-"
      },
      "outputs": [],
      "source": [
        "# the data is a sample of 1000 iid bernoulli rvs\n",
        "sample = np.array([0, 1, 0, 0, 0, 1, 1, 1, 1, 1, 0, 0, 1, 0, 0, 0, 1, 0, 1, 0, 0, 0, 0, 1, 0, 1, 1, 0, 0, 0, 0, 0, 1, 1, 1, 0, 1, 0, 0, 0, 1, 0, 1, 1, 0, 0, 1, 1, 1, 1, 0, 0, 0, 1, 0, 1, 1, 0, 0, 0, 1, 1, 1, 0, 1, 1, 0, 0, 0, 0, 0, 0, 0, 1, 1, 1, 0, 0, 1, 1, 0, 0, 0, 1, 0, 0, 0, 0, 1, 0, 1, 1, 1, 0, 0, 1, 0, 0, 0, 1, 0, 0, 1, 0, 1, 0, 0, 0, 0, 0, 1, 1, 1, 1, 1, 1, 0, 1, 1, 0, 0, 1, 1, 1, 1, 0, 0, 1, 1, 0, 1, 0, 1, 0, 0, 0, 0, 0, 0, 0, 1, 1, 0, 0, 1, 0, 1, 0, 0, 0, 1, 0, 1, 0, 0, 0, 0, 1, 0, 0, 0, 0, 0, 0, 0, 0, 1, 0, 0, 0, 0, 1, 1, 0, 1, 1, 1, 1, 0, 0, 1, 0, 1, 0, 0, 0, 1, 1, 1, 0, 1, 1, 0, 1, 0, 1, 1, 0, 1, 0, 1, 1, 0, 1, 0, 1, 0, 0, 0, 0, 0, 0, 0, 1, 0, 1, 1, 0, 1, 0, 0, 0, 1, 1, 0, 0, 1, 1, 0, 0, 0, 0, 0, 1, 1, 1, 1, 0, 1, 0, 0, 1, 0, 1, 0, 0, 1, 1, 0, 0, 1, 1, 1, 1, 0, 1, 1, 1, 1, 0, 1, 1, 1, 0, 1, 0, 1, 0, 1, 0, 1, 1, 0, 0, 0, 1, 1, 0, 1, 0, 1, 0, 0, 1, 1, 1, 1, 1, 1, 1, 1, 1, 1, 1, 1, 1, 0, 1, 1, 0, 1, 0, 1, 0, 1, 1, 0, 0, 1, 1, 0, 1, 1, 0, 0, 1, 0, 0, 0, 1, 1, 0, 0, 1, 1, 1, 0, 0, 1, 0, 1, 0, 1, 1, 0, 0, 1, 0, 0, 0, 1, 1, 0, 1, 1, 1, 0, 0, 0, 1, 0, 1, 0, 0, 0, 0, 0, 0, 1, 1, 0, 1, 1, 0, 1, 0, 0, 1, 1, 1, 0, 1, 0, 0, 1, 0, 0, 0, 1, 0, 1, 1, 1, 1, 1, 1, 0, 1, 1, 0, 0, 1, 1, 0, 0, 0, 0, 0, 1, 1, 0, 0, 0, 1, 0, 1, 1, 1, 0, 1, 1, 0, 1, 1, 1, 0, 1, 0, 1, 0, 1, 1, 0, 0, 1, 1, 1, 0, 0, 1, 0, 1, 1, 1, 1, 0, 1, 0, 0, 1, 1, 1, 1, 1, 1, 1, 1, 1, 0, 1, 0, 1, 0, 1, 1, 0, 0, 0, 1, 1, 0, 0, 0, 0, 1, 1, 1, 1, 0, 1, 0, 0, 0, 0, 1, 1, 0, 1, 0, 0, 0, 1, 0, 0, 1, 1, 1, 1, 1, 1, 0, 1, 0, 0, 0, 1, 0, 1, 0, 1, 0, 0, 1, 1, 0, 0, 1, 0, 1, 1, 1, 1, 0, 1, 0, 0, 0, 0, 1, 0, 0, 0, 0, 1, 0, 0, 1, 1, 0, 1, 0, 0, 0, 0, 0, 0, 0, 1, 1, 0, 0, 0, 0, 0, 1, 1, 1, 0, 0, 0, 0, 1, 0, 1, 0, 0, 0, 1, 1, 0, 0, 1, 0, 1, 0, 0, 1, 1, 1, 0, 1, 0, 0, 1, 1, 1, 0, 0, 1, 1, 0, 1, 0, 0, 1, 0, 0, 1, 1, 1, 0, 1, 1, 0, 0, 1, 0, 0, 0, 0, 0, 1, 0, 1, 0, 0, 0, 1, 0, 1, 1, 1, 1, 0, 1, 1, 0, 1, 1, 0, 1, 0, 0, 0, 0, 0, 1, 0, 0, 1, 0, 1, 1, 0, 0, 1, 0, 0, 0, 1, 0, 0, 0, 0, 0, 1, 1, 1, 0, 1, 0, 0, 0, 0, 0, 1, 1, 1, 1, 0, 0, 1, 0, 1, 1, 0, 0, 0, 1, 0, 0, 1, 0, 0, 0, 1, 0, 0, 1, 1, 1, 1, 0, 1, 0, 1, 0, 0, 1, 1, 1, 1, 1, 0, 0, 0, 0, 1, 1, 0, 0, 0, 1, 0, 1, 0, 1, 0, 0, 1, 0, 0, 0, 1, 0, 0, 0, 1, 1, 0, 0, 0, 1, 0, 1, 0, 0, 0, 0, 1, 0, 0, 0, 1, 0, 1, 1, 0, 0, 1, 0, 0, 0, 0, 0, 1, 0, 0, 1, 0, 1, 1, 0, 0, 0, 0, 1, 0, 0, 0, 1, 0, 1, 0, 0, 1, 0, 1, 1, 0, 1, 0, 0, 0, 1, 0, 1, 0, 0, 1, 0, 0, 0, 0, 1, 0, 0, 1, 0, 1, 0, 1, 0, 0, 0, 1, 0, 1, 0, 1, 0, 1, 0, 1, 1, 0, 0, 0, 0, 0, 0, 0, 1, 0, 0, 1, 1, 1, 0, 0, 0, 0, 0, 0, 0, 0, 0, 0, 0, 0, 0, 1, 0, 0, 0, 1, 1, 0, 0, 0, 0, 0, 0, 0, 1, 0, 0, 0, 1, 0, 0, 1, 0, 1, 0, 1, 0, 0, 1, 0, 1, 0, 0, 0, 0, 0, 0, 0, 1, 0, 0, 1, 1, 0, 1, 1, 1, 1, 1, 0, 0, 1, 0, 0, 0, 0, 0, 1, 0, 0, 1, 1, 1, 1, 0, 0, 0, 0, 0, 1, 1, 0, 1, 0, 1, 1, 0, 1, 1, 1, 1, 0, 1, 0, 1, 0, 0, 0, 1, 0, 0, 0, 0, 0, 0, 1, 0, 0, 0, 1, 0, 0, 0, 1, 1, 1, 1, 1, 1, 0, 0, 0, 0, 1, 1, 0, 0, 1, 0, 1, 0, 1, 1, 0, 0, 0, 0, 0, 0, 0, 1, 0, 0, 0, 0, 1, 0, 1, 0, 0, 1, 1, 0, 0, 1, 0, 1, 1, 0, 1, 0, 0, 1, 0, 1, 0, 0, 1, 0, 0, 1, 0, 0, 0, 0, 0, 0, 1, 0, 1])\n",
        "small_sample = sample[:3]\n",
        "med_sample = sample[:50]\n",
        "large_sample = sample"
      ]
    },
    {
      "cell_type": "markdown",
      "metadata": {
        "colab_type": "text",
        "id": "qi02BzVfx98C"
      },
      "source": [
        "We will use three different beta priors:\n",
        "- non-informative: uniform: $Beta(1,1)$.\n",
        "- non-informative: Jeffery's: $Beta(1/2,1/2)$.\n",
        "- informative: we believe that the prior peaks at $\\theta = 1/3$ and furthermore, we believe that the probability that $\\theta<0.5$ is $60\\%$.\n",
        "\n",
        "__Task:__ For the last case, we must find the $\\alpha$ and $\\beta$ parameters for a Beta prior that satisfies the condition. Generate 9 posterior plots, for different data and prior combinations and discuss their differences."
      ]
    },
    {
      "cell_type": "code",
      "execution_count": 0,
      "metadata": {
        "colab": {},
        "colab_type": "code",
        "id": "RVDdT3YRx98D",
        "scrolled": false
      },
      "outputs": [],
      "source": [
        "# The priors\n",
        "r = np.linspace(0,1,1000)\n",
        "prior_unif = [1,1]\n",
        "prior_jeff = [1/2,1/2]\n",
        "# Finding the informative prior (last prior):\n",
        "# we want the mode be at 1/3, so alpha = (beta+1)/2\n",
        "# we numerically find the value of alpha using the cdf\n",
        "alpha = np.linspace(0.51,10,1000) # we start from .51 since we need beta=2*alpha-1 > 0\n",
        "cdf = np.array([st.beta.cdf(0.5,a,(2*a-1)) for a in alpha])\n",
        "alpha_inf = alpha[sum(cdf<0.60)];\n",
        "beta_inf = (2*alpha_inf-1)\n",
        "# Producing the plots\n",
        "#..."
      ]
    },
    {
      "cell_type": "code",
      "execution_count": 29,
      "metadata": {},
      "outputs": [],
      "source": [
        "# data for multivariate normal\n",
        "data_csv = StringIO('''school;sex;age;address;famsize;Pstatus;Medu;Fedu;Mjob;Fjob;reason;guardian;traveltime;studytime;failures;schoolsup;famsup;paid;activities;nursery;higher;internet;romantic;famrel;freetime;goout;Dalc;Walc;health;absences;G1;G2;G3\n",
        "\"GP\";\"F\";18;\"U\";\"GT3\";\"A\";4;4;\"at_home\";\"teacher\";\"course\";\"mother\";2;2;0;\"yes\";\"no\";\"no\";\"no\";\"yes\";\"yes\";\"no\";\"no\";4;3;4;1;1;3;6;\"5\";\"6\";6\n",
        "\"GP\";\"F\";17;\"U\";\"GT3\";\"T\";1;1;\"at_home\";\"other\";\"course\";\"father\";1;2;0;\"no\";\"yes\";\"no\";\"no\";\"no\";\"yes\";\"yes\";\"no\";5;3;3;1;1;3;4;\"5\";\"5\";6\n",
        "\"GP\";\"F\";15;\"U\";\"LE3\";\"T\";1;1;\"at_home\";\"other\";\"other\";\"mother\";1;2;3;\"yes\";\"no\";\"yes\";\"no\";\"yes\";\"yes\";\"yes\";\"no\";4;3;2;2;3;3;10;\"7\";\"8\";10\n",
        "\"GP\";\"F\";15;\"U\";\"GT3\";\"T\";4;2;\"health\";\"services\";\"home\";\"mother\";1;3;0;\"no\";\"yes\";\"yes\";\"yes\";\"yes\";\"yes\";\"yes\";\"yes\";3;2;2;1;1;5;2;\"15\";\"14\";15\n",
        "\"GP\";\"F\";16;\"U\";\"GT3\";\"T\";3;3;\"other\";\"other\";\"home\";\"father\";1;2;0;\"no\";\"yes\";\"yes\";\"no\";\"yes\";\"yes\";\"no\";\"no\";4;3;2;1;2;5;4;\"6\";\"10\";10\n",
        "\"GP\";\"M\";16;\"U\";\"LE3\";\"T\";4;3;\"services\";\"other\";\"reputation\";\"mother\";1;2;0;\"no\";\"yes\";\"yes\";\"yes\";\"yes\";\"yes\";\"yes\";\"no\";5;4;2;1;2;5;10;\"15\";\"15\";15\n",
        "\"GP\";\"M\";16;\"U\";\"LE3\";\"T\";2;2;\"other\";\"other\";\"home\";\"mother\";1;2;0;\"no\";\"no\";\"no\";\"no\";\"yes\";\"yes\";\"yes\";\"no\";4;4;4;1;1;3;0;\"12\";\"12\";11\n",
        "\"GP\";\"F\";17;\"U\";\"GT3\";\"A\";4;4;\"other\";\"teacher\";\"home\";\"mother\";2;2;0;\"yes\";\"yes\";\"no\";\"no\";\"yes\";\"yes\";\"no\";\"no\";4;1;4;1;1;1;6;\"6\";\"5\";6\n",
        "\"GP\";\"M\";15;\"U\";\"LE3\";\"A\";3;2;\"services\";\"other\";\"home\";\"mother\";1;2;0;\"no\";\"yes\";\"yes\";\"no\";\"yes\";\"yes\";\"yes\";\"no\";4;2;2;1;1;1;0;\"16\";\"18\";19\n",
        "\"GP\";\"M\";15;\"U\";\"GT3\";\"T\";3;4;\"other\";\"other\";\"home\";\"mother\";1;2;0;\"no\";\"yes\";\"yes\";\"yes\";\"yes\";\"yes\";\"yes\";\"no\";5;5;1;1;1;5;0;\"14\";\"15\";15\n",
        "\"GP\";\"F\";15;\"U\";\"GT3\";\"T\";4;4;\"teacher\";\"health\";\"reputation\";\"mother\";1;2;0;\"no\";\"yes\";\"yes\";\"no\";\"yes\";\"yes\";\"yes\";\"no\";3;3;3;1;2;2;0;\"10\";\"8\";9\n",
        "\"GP\";\"F\";15;\"U\";\"GT3\";\"T\";2;1;\"services\";\"other\";\"reputation\";\"father\";3;3;0;\"no\";\"yes\";\"no\";\"yes\";\"yes\";\"yes\";\"yes\";\"no\";5;2;2;1;1;4;4;\"10\";\"12\";12\n",
        "\"GP\";\"M\";15;\"U\";\"LE3\";\"T\";4;4;\"health\";\"services\";\"course\";\"father\";1;1;0;\"no\";\"yes\";\"yes\";\"yes\";\"yes\";\"yes\";\"yes\";\"no\";4;3;3;1;3;5;2;\"14\";\"14\";14\n",
        "\"GP\";\"M\";15;\"U\";\"GT3\";\"T\";4;3;\"teacher\";\"other\";\"course\";\"mother\";2;2;0;\"no\";\"yes\";\"yes\";\"no\";\"yes\";\"yes\";\"yes\";\"no\";5;4;3;1;2;3;2;\"10\";\"10\";11\n",
        "\"GP\";\"M\";15;\"U\";\"GT3\";\"A\";2;2;\"other\";\"other\";\"home\";\"other\";1;3;0;\"no\";\"yes\";\"no\";\"no\";\"yes\";\"yes\";\"yes\";\"yes\";4;5;2;1;1;3;0;\"14\";\"16\";16\n",
        "\"GP\";\"F\";16;\"U\";\"GT3\";\"T\";4;4;\"health\";\"other\";\"home\";\"mother\";1;1;0;\"no\";\"yes\";\"no\";\"no\";\"yes\";\"yes\";\"yes\";\"no\";4;4;4;1;2;2;4;\"14\";\"14\";14\n",
        "\"GP\";\"F\";16;\"U\";\"GT3\";\"T\";4;4;\"services\";\"services\";\"reputation\";\"mother\";1;3;0;\"no\";\"yes\";\"yes\";\"yes\";\"yes\";\"yes\";\"yes\";\"no\";3;2;3;1;2;2;6;\"13\";\"14\";14\n",
        "\"GP\";\"F\";16;\"U\";\"GT3\";\"T\";3;3;\"other\";\"other\";\"reputation\";\"mother\";3;2;0;\"yes\";\"yes\";\"no\";\"yes\";\"yes\";\"yes\";\"no\";\"no\";5;3;2;1;1;4;4;\"8\";\"10\";10\n",
        "\"GP\";\"M\";17;\"U\";\"GT3\";\"T\";3;2;\"services\";\"services\";\"course\";\"mother\";1;1;3;\"no\";\"yes\";\"no\";\"yes\";\"yes\";\"yes\";\"yes\";\"no\";5;5;5;2;4;5;16;\"6\";\"5\";5\n",
        "\"GP\";\"M\";16;\"U\";\"LE3\";\"T\";4;3;\"health\";\"other\";\"home\";\"father\";1;1;0;\"no\";\"no\";\"yes\";\"yes\";\"yes\";\"yes\";\"yes\";\"no\";3;1;3;1;3;5;4;\"8\";\"10\";10\n",
        "\"GP\";\"M\";15;\"U\";\"GT3\";\"T\";4;3;\"teacher\";\"other\";\"reputation\";\"mother\";1;2;0;\"no\";\"no\";\"no\";\"no\";\"yes\";\"yes\";\"yes\";\"no\";4;4;1;1;1;1;0;\"13\";\"14\";15\n",
        "\"GP\";\"M\";15;\"U\";\"GT3\";\"T\";4;4;\"health\";\"health\";\"other\";\"father\";1;1;0;\"no\";\"yes\";\"yes\";\"no\";\"yes\";\"yes\";\"yes\";\"no\";5;4;2;1;1;5;0;\"12\";\"15\";15\n",
        "\"GP\";\"M\";16;\"U\";\"LE3\";\"T\";4;2;\"teacher\";\"other\";\"course\";\"mother\";1;2;0;\"no\";\"no\";\"no\";\"yes\";\"yes\";\"yes\";\"yes\";\"no\";4;5;1;1;3;5;2;\"15\";\"15\";16\n",
        "\"GP\";\"M\";16;\"U\";\"LE3\";\"T\";2;2;\"other\";\"other\";\"reputation\";\"mother\";2;2;0;\"no\";\"yes\";\"no\";\"yes\";\"yes\";\"yes\";\"yes\";\"no\";5;4;4;2;4;5;0;\"13\";\"13\";12\n",
        "\"GP\";\"F\";15;\"R\";\"GT3\";\"T\";2;4;\"services\";\"health\";\"course\";\"mother\";1;3;0;\"yes\";\"yes\";\"yes\";\"yes\";\"yes\";\"yes\";\"yes\";\"no\";4;3;2;1;1;5;2;\"10\";\"9\";8\n",
        "\"GP\";\"F\";16;\"U\";\"GT3\";\"T\";2;2;\"services\";\"services\";\"home\";\"mother\";1;1;2;\"no\";\"yes\";\"yes\";\"no\";\"no\";\"yes\";\"yes\";\"no\";1;2;2;1;3;5;14;\"6\";\"9\";8\n",
        "\"GP\";\"M\";15;\"U\";\"GT3\";\"T\";2;2;\"other\";\"other\";\"home\";\"mother\";1;1;0;\"no\";\"yes\";\"yes\";\"no\";\"yes\";\"yes\";\"yes\";\"no\";4;2;2;1;2;5;2;\"12\";\"12\";11\n",
        "\"GP\";\"M\";15;\"U\";\"GT3\";\"T\";4;2;\"health\";\"services\";\"other\";\"mother\";1;1;0;\"no\";\"no\";\"yes\";\"no\";\"yes\";\"yes\";\"yes\";\"no\";2;2;4;2;4;1;4;\"15\";\"16\";15\n",
        "\"GP\";\"M\";16;\"U\";\"LE3\";\"A\";3;4;\"services\";\"other\";\"home\";\"mother\";1;2;0;\"yes\";\"yes\";\"no\";\"yes\";\"yes\";\"yes\";\"yes\";\"no\";5;3;3;1;1;5;4;\"11\";\"11\";11\n",
        "\"GP\";\"M\";16;\"U\";\"GT3\";\"T\";4;4;\"teacher\";\"teacher\";\"home\";\"mother\";1;2;0;\"no\";\"yes\";\"yes\";\"yes\";\"yes\";\"yes\";\"yes\";\"yes\";4;4;5;5;5;5;16;\"10\";\"12\";11\n",
        "\"GP\";\"M\";15;\"U\";\"GT3\";\"T\";4;4;\"health\";\"services\";\"home\";\"mother\";1;2;0;\"no\";\"yes\";\"yes\";\"no\";\"no\";\"yes\";\"yes\";\"no\";5;4;2;3;4;5;0;\"9\";\"11\";12\n",
        "\"GP\";\"M\";15;\"U\";\"GT3\";\"T\";4;4;\"services\";\"services\";\"reputation\";\"mother\";2;2;0;\"no\";\"yes\";\"no\";\"yes\";\"yes\";\"yes\";\"yes\";\"no\";4;3;1;1;1;5;0;\"17\";\"16\";17\n",
        "\"GP\";\"M\";15;\"R\";\"GT3\";\"T\";4;3;\"teacher\";\"at_home\";\"course\";\"mother\";1;2;0;\"no\";\"yes\";\"no\";\"yes\";\"yes\";\"yes\";\"yes\";\"yes\";4;5;2;1;1;5;0;\"17\";\"16\";16\n",
        "\"GP\";\"M\";15;\"U\";\"LE3\";\"T\";3;3;\"other\";\"other\";\"course\";\"mother\";1;2;0;\"no\";\"no\";\"no\";\"yes\";\"no\";\"yes\";\"yes\";\"no\";5;3;2;1;1;2;0;\"8\";\"10\";12\n",
        "\"GP\";\"M\";16;\"U\";\"GT3\";\"T\";3;2;\"other\";\"other\";\"home\";\"mother\";1;1;0;\"no\";\"yes\";\"yes\";\"no\";\"no\";\"yes\";\"yes\";\"no\";5;4;3;1;1;5;0;\"12\";\"14\";15\n",
        "\"GP\";\"F\";15;\"U\";\"GT3\";\"T\";2;3;\"other\";\"other\";\"other\";\"father\";2;1;0;\"no\";\"yes\";\"no\";\"yes\";\"yes\";\"yes\";\"no\";\"no\";3;5;1;1;1;5;0;\"8\";\"7\";6\n",
        "\"GP\";\"M\";15;\"U\";\"LE3\";\"T\";4;3;\"teacher\";\"services\";\"home\";\"mother\";1;3;0;\"no\";\"yes\";\"no\";\"yes\";\"yes\";\"yes\";\"yes\";\"no\";5;4;3;1;1;4;2;\"15\";\"16\";18\n",
        "\"GP\";\"M\";16;\"R\";\"GT3\";\"A\";4;4;\"other\";\"teacher\";\"reputation\";\"mother\";2;3;0;\"no\";\"yes\";\"no\";\"yes\";\"yes\";\"yes\";\"yes\";\"yes\";2;4;3;1;1;5;7;\"15\";\"16\";15\n",
        "\"GP\";\"F\";15;\"R\";\"GT3\";\"T\";3;4;\"services\";\"health\";\"course\";\"mother\";1;3;0;\"yes\";\"yes\";\"yes\";\"yes\";\"yes\";\"yes\";\"yes\";\"no\";4;3;2;1;1;5;2;\"12\";\"12\";11\n",
        "\"GP\";\"F\";15;\"R\";\"GT3\";\"T\";2;2;\"at_home\";\"other\";\"reputation\";\"mother\";1;1;0;\"yes\";\"yes\";\"yes\";\"yes\";\"yes\";\"yes\";\"no\";\"no\";4;3;1;1;1;2;8;\"14\";\"13\";13\n",
        "\"GP\";\"F\";16;\"U\";\"LE3\";\"T\";2;2;\"other\";\"other\";\"home\";\"mother\";2;2;1;\"no\";\"yes\";\"no\";\"yes\";\"no\";\"yes\";\"yes\";\"yes\";3;3;3;1;2;3;25;\"7\";\"10\";11\n",
        "\"GP\";\"M\";15;\"U\";\"LE3\";\"T\";4;4;\"teacher\";\"other\";\"home\";\"other\";1;1;0;\"no\";\"yes\";\"no\";\"no\";\"no\";\"yes\";\"yes\";\"yes\";5;4;3;2;4;5;8;\"12\";\"12\";12\n",
        "\"GP\";\"M\";15;\"U\";\"GT3\";\"T\";4;4;\"services\";\"teacher\";\"course\";\"father\";1;2;0;\"no\";\"yes\";\"no\";\"yes\";\"yes\";\"yes\";\"yes\";\"no\";4;3;3;1;1;5;2;\"19\";\"18\";18\n",
        "\"GP\";\"M\";15;\"U\";\"GT3\";\"T\";2;2;\"services\";\"services\";\"course\";\"father\";1;1;0;\"yes\";\"yes\";\"no\";\"no\";\"yes\";\"yes\";\"yes\";\"no\";5;4;1;1;1;1;0;\"8\";\"8\";11\n",
        "\"GP\";\"F\";16;\"U\";\"LE3\";\"T\";2;2;\"other\";\"at_home\";\"course\";\"father\";2;2;1;\"yes\";\"no\";\"no\";\"yes\";\"yes\";\"yes\";\"yes\";\"no\";4;3;3;2;2;5;14;\"10\";\"10\";9\n",
        "\"GP\";\"F\";15;\"U\";\"LE3\";\"A\";4;3;\"other\";\"other\";\"course\";\"mother\";1;2;0;\"yes\";\"yes\";\"yes\";\"yes\";\"yes\";\"yes\";\"yes\";\"yes\";5;2;2;1;1;5;8;\"8\";\"8\";6\n",
        "\"GP\";\"F\";16;\"U\";\"LE3\";\"A\";3;3;\"other\";\"services\";\"home\";\"mother\";1;2;0;\"no\";\"yes\";\"no\";\"no\";\"yes\";\"yes\";\"yes\";\"no\";2;3;5;1;4;3;12;\"11\";\"12\";11\n",
        "\"GP\";\"M\";16;\"U\";\"GT3\";\"T\";4;3;\"health\";\"services\";\"reputation\";\"mother\";1;4;0;\"no\";\"no\";\"no\";\"yes\";\"yes\";\"yes\";\"yes\";\"no\";4;2;2;1;1;2;4;\"19\";\"19\";20\n",
        "\"GP\";\"M\";15;\"U\";\"GT3\";\"T\";4;2;\"teacher\";\"other\";\"home\";\"mother\";1;2;0;\"no\";\"yes\";\"yes\";\"no\";\"yes\";\"yes\";\"no\";\"no\";4;3;3;2;2;5;2;\"15\";\"15\";14\n",
        "\"GP\";\"F\";15;\"U\";\"GT3\";\"T\";4;4;\"services\";\"teacher\";\"other\";\"father\";1;2;1;\"yes\";\"yes\";\"no\";\"yes\";\"no\";\"yes\";\"yes\";\"no\";4;4;4;1;1;3;2;\"7\";\"7\";7\n",
        "\"GP\";\"F\";16;\"U\";\"LE3\";\"T\";2;2;\"services\";\"services\";\"course\";\"mother\";3;2;0;\"no\";\"yes\";\"yes\";\"no\";\"yes\";\"yes\";\"yes\";\"no\";4;3;3;2;3;4;2;\"12\";\"13\";13\n",
        "\"GP\";\"F\";15;\"U\";\"LE3\";\"T\";4;2;\"health\";\"other\";\"other\";\"mother\";1;2;0;\"no\";\"yes\";\"yes\";\"no\";\"yes\";\"yes\";\"yes\";\"no\";4;3;3;1;1;5;2;\"11\";\"13\";13\n",
        "\"GP\";\"M\";15;\"U\";\"LE3\";\"A\";4;2;\"health\";\"health\";\"other\";\"father\";2;1;1;\"no\";\"no\";\"no\";\"no\";\"yes\";\"yes\";\"no\";\"no\";5;5;5;3;4;5;6;\"11\";\"11\";10\n",
        "\"GP\";\"F\";15;\"U\";\"GT3\";\"T\";4;4;\"services\";\"services\";\"course\";\"mother\";1;1;0;\"yes\";\"yes\";\"yes\";\"no\";\"yes\";\"yes\";\"yes\";\"no\";3;3;4;2;3;5;0;\"8\";\"10\";11\n",
        "\"GP\";\"F\";15;\"U\";\"LE3\";\"A\";3;3;\"other\";\"other\";\"other\";\"mother\";1;1;0;\"no\";\"no\";\"yes\";\"no\";\"yes\";\"yes\";\"yes\";\"no\";5;3;4;4;4;1;6;\"10\";\"13\";13\n",
        "\"GP\";\"F\";16;\"U\";\"GT3\";\"A\";2;1;\"other\";\"other\";\"other\";\"mother\";1;2;0;\"no\";\"no\";\"yes\";\"yes\";\"yes\";\"yes\";\"yes\";\"yes\";5;3;4;1;1;2;8;\"8\";\"9\";10\n",
        "\"GP\";\"F\";15;\"U\";\"GT3\";\"A\";4;3;\"services\";\"services\";\"reputation\";\"mother\";1;2;0;\"no\";\"yes\";\"yes\";\"yes\";\"yes\";\"yes\";\"yes\";\"no\";4;3;2;1;1;1;0;\"14\";\"15\";15\n",
        "\"GP\";\"M\";15;\"U\";\"GT3\";\"T\";4;4;\"teacher\";\"health\";\"reputation\";\"mother\";1;2;0;\"no\";\"yes\";\"no\";\"yes\";\"yes\";\"yes\";\"no\";\"no\";3;2;2;1;1;5;4;\"14\";\"15\";15\n",
        "\"GP\";\"M\";15;\"U\";\"LE3\";\"T\";1;2;\"other\";\"at_home\";\"home\";\"father\";1;2;0;\"yes\";\"yes\";\"no\";\"yes\";\"yes\";\"yes\";\"yes\";\"no\";4;3;2;1;1;5;2;\"9\";\"10\";9\n",
        "\"GP\";\"F\";16;\"U\";\"GT3\";\"T\";4;2;\"services\";\"other\";\"course\";\"mother\";1;2;0;\"no\";\"yes\";\"no\";\"no\";\"yes\";\"yes\";\"yes\";\"no\";4;2;3;1;1;5;2;\"15\";\"16\";16\n",
        "\"GP\";\"F\";16;\"R\";\"GT3\";\"T\";4;4;\"health\";\"teacher\";\"other\";\"mother\";1;2;0;\"no\";\"yes\";\"no\";\"yes\";\"yes\";\"yes\";\"no\";\"no\";2;4;4;2;3;4;6;\"10\";\"11\";11\n",
        "\"GP\";\"F\";16;\"U\";\"GT3\";\"T\";1;1;\"services\";\"services\";\"course\";\"father\";4;1;0;\"yes\";\"yes\";\"no\";\"yes\";\"no\";\"yes\";\"yes\";\"yes\";5;5;5;5;5;5;6;\"10\";\"8\";11\n",
        "\"GP\";\"F\";16;\"U\";\"LE3\";\"T\";1;2;\"other\";\"services\";\"reputation\";\"father\";1;2;0;\"yes\";\"no\";\"no\";\"yes\";\"yes\";\"yes\";\"yes\";\"no\";4;4;3;1;1;1;4;\"8\";\"10\";9\n",
        "\"GP\";\"F\";16;\"U\";\"GT3\";\"T\";4;3;\"teacher\";\"health\";\"home\";\"mother\";1;3;0;\"yes\";\"yes\";\"yes\";\"yes\";\"yes\";\"yes\";\"yes\";\"no\";3;4;4;2;4;4;2;\"10\";\"9\";9\n",
        "\"GP\";\"F\";15;\"U\";\"LE3\";\"T\";4;3;\"services\";\"services\";\"reputation\";\"father\";1;2;0;\"yes\";\"no\";\"no\";\"yes\";\"yes\";\"yes\";\"yes\";\"yes\";4;4;4;2;4;2;0;\"10\";\"10\";10\n",
        "\"GP\";\"F\";16;\"U\";\"LE3\";\"T\";4;3;\"teacher\";\"services\";\"course\";\"mother\";3;2;0;\"no\";\"yes\";\"no\";\"yes\";\"yes\";\"yes\";\"yes\";\"no\";5;4;3;1;2;1;2;\"16\";\"15\";15\n",
        "\"GP\";\"M\";15;\"U\";\"GT3\";\"A\";4;4;\"other\";\"services\";\"reputation\";\"mother\";1;4;0;\"no\";\"yes\";\"no\";\"yes\";\"no\";\"yes\";\"yes\";\"yes\";1;3;3;5;5;3;4;\"13\";\"13\";12\n",
        "\"GP\";\"F\";16;\"U\";\"GT3\";\"T\";3;1;\"services\";\"other\";\"course\";\"mother\";1;4;0;\"yes\";\"yes\";\"yes\";\"no\";\"yes\";\"yes\";\"yes\";\"no\";4;3;3;1;2;5;4;\"7\";\"7\";6\n",
        "\"GP\";\"F\";15;\"R\";\"LE3\";\"T\";2;2;\"health\";\"services\";\"reputation\";\"mother\";2;2;0;\"yes\";\"yes\";\"yes\";\"no\";\"yes\";\"yes\";\"yes\";\"no\";4;1;3;1;3;4;2;\"8\";\"9\";8\n",
        "\"GP\";\"F\";15;\"R\";\"LE3\";\"T\";3;1;\"other\";\"other\";\"reputation\";\"father\";2;4;0;\"no\";\"yes\";\"no\";\"no\";\"no\";\"yes\";\"yes\";\"no\";4;4;2;2;3;3;12;\"16\";\"16\";16\n",
        "\"GP\";\"M\";16;\"U\";\"GT3\";\"T\";3;1;\"other\";\"other\";\"reputation\";\"father\";2;4;0;\"no\";\"yes\";\"yes\";\"no\";\"yes\";\"yes\";\"yes\";\"no\";4;3;2;1;1;5;0;\"13\";\"15\";15\n",
        "\"GP\";\"M\";15;\"U\";\"GT3\";\"T\";4;2;\"other\";\"other\";\"course\";\"mother\";1;4;0;\"no\";\"no\";\"no\";\"no\";\"yes\";\"yes\";\"yes\";\"no\";3;3;3;1;1;3;0;\"10\";\"10\";10\n",
        "\"GP\";\"F\";15;\"R\";\"GT3\";\"T\";1;1;\"other\";\"other\";\"reputation\";\"mother\";1;2;2;\"yes\";\"yes\";\"no\";\"no\";\"no\";\"yes\";\"yes\";\"yes\";3;3;4;2;4;5;2;\"8\";\"6\";5\n",
        "\"GP\";\"M\";16;\"U\";\"GT3\";\"T\";3;1;\"other\";\"other\";\"reputation\";\"mother\";1;1;0;\"no\";\"no\";\"no\";\"yes\";\"yes\";\"yes\";\"no\";\"no\";5;3;2;2;2;5;2;\"12\";\"12\";14\n",
        "\"GP\";\"F\";16;\"U\";\"GT3\";\"T\";3;3;\"other\";\"services\";\"home\";\"mother\";1;2;0;\"yes\";\"yes\";\"yes\";\"yes\";\"yes\";\"yes\";\"yes\";\"no\";4;3;3;2;4;5;54;\"11\";\"12\";11\n",
        "\"GP\";\"M\";15;\"U\";\"GT3\";\"T\";4;3;\"teacher\";\"other\";\"home\";\"mother\";1;2;0;\"no\";\"yes\";\"yes\";\"yes\";\"yes\";\"yes\";\"yes\";\"no\";4;3;3;2;3;5;6;\"9\";\"9\";10\n",
        "\"GP\";\"M\";15;\"U\";\"GT3\";\"T\";4;0;\"teacher\";\"other\";\"course\";\"mother\";2;4;0;\"no\";\"no\";\"no\";\"yes\";\"yes\";\"yes\";\"yes\";\"no\";3;4;3;1;1;1;8;\"11\";\"11\";10\n",
        "\"GP\";\"F\";16;\"U\";\"GT3\";\"T\";2;2;\"other\";\"other\";\"reputation\";\"mother\";1;4;0;\"no\";\"no\";\"yes\";\"no\";\"yes\";\"yes\";\"yes\";\"yes\";5;2;3;1;3;3;0;\"11\";\"11\";11\n",
        "\"GP\";\"M\";17;\"U\";\"GT3\";\"T\";2;1;\"other\";\"other\";\"home\";\"mother\";2;1;3;\"yes\";\"yes\";\"no\";\"yes\";\"yes\";\"no\";\"yes\";\"no\";4;5;1;1;1;3;2;\"8\";\"8\";10\n",
        "\"GP\";\"F\";16;\"U\";\"GT3\";\"T\";3;4;\"at_home\";\"other\";\"course\";\"mother\";1;2;0;\"no\";\"yes\";\"no\";\"no\";\"yes\";\"yes\";\"yes\";\"no\";2;4;3;1;2;3;12;\"5\";\"5\";5\n",
        "\"GP\";\"M\";15;\"U\";\"GT3\";\"T\";2;3;\"other\";\"services\";\"course\";\"father\";1;1;0;\"yes\";\"yes\";\"yes\";\"yes\";\"no\";\"yes\";\"yes\";\"yes\";3;2;2;1;3;3;2;\"10\";\"12\";12\n",
        "\"GP\";\"M\";15;\"U\";\"GT3\";\"T\";2;3;\"other\";\"other\";\"home\";\"mother\";1;3;0;\"yes\";\"no\";\"yes\";\"no\";\"no\";\"yes\";\"yes\";\"no\";5;3;2;1;2;5;4;\"11\";\"10\";11\n",
        "\"GP\";\"F\";15;\"U\";\"LE3\";\"T\";3;2;\"services\";\"other\";\"reputation\";\"mother\";1;2;0;\"no\";\"yes\";\"yes\";\"no\";\"yes\";\"yes\";\"yes\";\"no\";4;4;4;1;1;5;10;\"7\";\"6\";6\n",
        "\"GP\";\"M\";15;\"U\";\"LE3\";\"T\";2;2;\"services\";\"services\";\"home\";\"mother\";2;2;0;\"no\";\"no\";\"yes\";\"yes\";\"yes\";\"yes\";\"yes\";\"no\";5;3;3;1;3;4;4;\"15\";\"15\";15\n",
        "\"GP\";\"F\";15;\"U\";\"GT3\";\"T\";1;1;\"other\";\"other\";\"home\";\"father\";1;2;0;\"no\";\"yes\";\"no\";\"yes\";\"no\";\"yes\";\"yes\";\"no\";4;3;2;2;3;4;2;\"9\";\"10\";10\n",
        "\"GP\";\"F\";15;\"U\";\"GT3\";\"T\";4;4;\"services\";\"services\";\"reputation\";\"father\";2;2;2;\"no\";\"no\";\"yes\";\"no\";\"yes\";\"yes\";\"yes\";\"yes\";4;4;4;2;3;5;6;\"7\";\"9\";8\n",
        "\"GP\";\"F\";16;\"U\";\"LE3\";\"T\";2;2;\"at_home\";\"other\";\"course\";\"mother\";1;2;0;\"no\";\"yes\";\"no\";\"no\";\"yes\";\"yes\";\"no\";\"no\";4;3;4;1;2;2;4;\"8\";\"7\";6\n",
        "\"GP\";\"F\";15;\"U\";\"GT3\";\"T\";4;2;\"other\";\"other\";\"reputation\";\"mother\";1;3;0;\"no\";\"yes\";\"no\";\"yes\";\"yes\";\"yes\";\"yes\";\"no\";5;3;3;1;3;1;4;\"13\";\"14\";14\n",
        "\"GP\";\"M\";16;\"U\";\"GT3\";\"T\";2;2;\"services\";\"other\";\"reputation\";\"father\";2;2;1;\"no\";\"no\";\"yes\";\"yes\";\"no\";\"yes\";\"yes\";\"no\";4;4;2;1;1;3;12;\"11\";\"10\";10\n",
        "\"GP\";\"M\";16;\"U\";\"LE3\";\"A\";4;4;\"teacher\";\"health\";\"reputation\";\"mother\";1;2;0;\"no\";\"yes\";\"no\";\"no\";\"yes\";\"yes\";\"no\";\"no\";4;1;3;3;5;5;18;\"8\";\"6\";7\n",
        "\"GP\";\"F\";16;\"U\";\"GT3\";\"T\";3;3;\"other\";\"other\";\"home\";\"mother\";1;3;0;\"no\";\"yes\";\"yes\";\"no\";\"yes\";\"yes\";\"yes\";\"yes\";4;3;3;1;3;4;0;\"7\";\"7\";8\n",
        "\"GP\";\"F\";15;\"U\";\"GT3\";\"T\";4;3;\"services\";\"other\";\"reputation\";\"mother\";1;1;0;\"no\";\"no\";\"yes\";\"yes\";\"yes\";\"yes\";\"yes\";\"no\";4;5;5;1;3;1;4;\"16\";\"17\";18\n",
        "\"GP\";\"F\";16;\"U\";\"LE3\";\"T\";3;1;\"other\";\"other\";\"home\";\"father\";1;2;0;\"yes\";\"yes\";\"no\";\"no\";\"yes\";\"yes\";\"no\";\"no\";3;3;3;2;3;2;4;\"7\";\"6\";6\n",
        "\"GP\";\"F\";16;\"U\";\"GT3\";\"T\";4;2;\"teacher\";\"services\";\"home\";\"mother\";2;2;0;\"no\";\"yes\";\"yes\";\"yes\";\"yes\";\"yes\";\"yes\";\"no\";5;3;3;1;1;1;0;\"11\";\"10\";10\n",
        "\"GP\";\"M\";15;\"U\";\"LE3\";\"T\";2;2;\"services\";\"health\";\"reputation\";\"mother\";1;4;0;\"no\";\"yes\";\"no\";\"yes\";\"yes\";\"yes\";\"yes\";\"no\";4;3;4;1;1;4;6;\"11\";\"13\";14\n",
        "\"GP\";\"F\";15;\"R\";\"GT3\";\"T\";1;1;\"at_home\";\"other\";\"home\";\"mother\";2;4;1;\"yes\";\"yes\";\"yes\";\"yes\";\"yes\";\"yes\";\"yes\";\"no\";3;1;2;1;1;1;2;\"7\";\"10\";10\n",
        "\"GP\";\"M\";16;\"R\";\"GT3\";\"T\";4;3;\"services\";\"other\";\"reputation\";\"mother\";2;1;0;\"yes\";\"yes\";\"no\";\"yes\";\"no\";\"yes\";\"yes\";\"no\";3;3;3;1;1;4;2;\"11\";\"15\";15\n",
        "\"GP\";\"F\";16;\"U\";\"GT3\";\"T\";2;1;\"other\";\"other\";\"course\";\"mother\";1;2;0;\"no\";\"yes\";\"yes\";\"no\";\"yes\";\"yes\";\"no\";\"yes\";4;3;5;1;1;5;2;\"8\";\"9\";10\n",
        "\"GP\";\"F\";16;\"U\";\"GT3\";\"T\";4;4;\"other\";\"other\";\"reputation\";\"mother\";1;1;0;\"no\";\"no\";\"no\";\"yes\";\"no\";\"yes\";\"yes\";\"no\";5;3;4;1;2;1;6;\"11\";\"14\";14\n",
        "\"GP\";\"F\";16;\"U\";\"GT3\";\"T\";4;3;\"other\";\"at_home\";\"course\";\"mother\";1;3;0;\"yes\";\"yes\";\"yes\";\"no\";\"yes\";\"yes\";\"yes\";\"no\";5;3;5;1;1;3;0;\"7\";\"9\";8\n",
        "\"GP\";\"M\";16;\"U\";\"GT3\";\"T\";4;4;\"services\";\"services\";\"other\";\"mother\";1;1;0;\"yes\";\"yes\";\"yes\";\"yes\";\"yes\";\"yes\";\"yes\";\"no\";4;5;5;5;5;4;14;\"7\";\"7\";5\n",
        "\"GP\";\"M\";16;\"U\";\"GT3\";\"T\";4;4;\"services\";\"teacher\";\"other\";\"father\";1;3;0;\"no\";\"yes\";\"no\";\"yes\";\"yes\";\"yes\";\"yes\";\"yes\";4;4;3;1;1;4;0;\"16\";\"17\";17\n",
        "\"GP\";\"M\";15;\"U\";\"GT3\";\"T\";4;4;\"services\";\"other\";\"course\";\"mother\";1;1;0;\"no\";\"yes\";\"no\";\"yes\";\"no\";\"yes\";\"yes\";\"no\";5;3;3;1;1;5;4;\"10\";\"13\";14\n",
        "\"GP\";\"F\";15;\"U\";\"GT3\";\"T\";3;2;\"services\";\"other\";\"home\";\"mother\";2;2;0;\"yes\";\"yes\";\"yes\";\"no\";\"yes\";\"yes\";\"yes\";\"no\";4;3;5;1;1;2;26;\"7\";\"6\";6\n",
        "\"GP\";\"M\";15;\"U\";\"GT3\";\"A\";3;4;\"services\";\"other\";\"course\";\"mother\";1;2;0;\"no\";\"yes\";\"yes\";\"yes\";\"yes\";\"yes\";\"yes\";\"no\";5;4;4;1;1;1;0;\"16\";\"18\";18\n",
        "\"GP\";\"F\";15;\"U\";\"GT3\";\"A\";3;3;\"other\";\"health\";\"reputation\";\"father\";1;4;0;\"yes\";\"no\";\"no\";\"no\";\"yes\";\"yes\";\"no\";\"no\";4;3;3;1;1;4;10;\"10\";\"11\";11\n",
        "\"GP\";\"F\";15;\"U\";\"GT3\";\"T\";2;2;\"other\";\"other\";\"course\";\"mother\";1;4;0;\"yes\";\"yes\";\"yes\";\"no\";\"yes\";\"yes\";\"yes\";\"no\";5;1;2;1;1;3;8;\"7\";\"8\";8\n",
        "\"GP\";\"M\";16;\"U\";\"GT3\";\"T\";3;3;\"services\";\"other\";\"home\";\"father\";1;3;0;\"no\";\"yes\";\"no\";\"yes\";\"yes\";\"yes\";\"yes\";\"no\";5;3;3;1;1;5;2;\"16\";\"18\";18\n",
        "\"GP\";\"M\";15;\"R\";\"GT3\";\"T\";4;4;\"other\";\"other\";\"home\";\"father\";4;4;0;\"no\";\"yes\";\"yes\";\"yes\";\"yes\";\"yes\";\"yes\";\"yes\";1;3;5;3;5;1;6;\"10\";\"13\";13\n",
        "\"GP\";\"F\";16;\"U\";\"LE3\";\"T\";4;4;\"health\";\"health\";\"other\";\"mother\";1;3;0;\"no\";\"yes\";\"yes\";\"yes\";\"yes\";\"yes\";\"yes\";\"yes\";5;4;5;1;1;4;4;\"14\";\"15\";16\n",
        "\"GP\";\"M\";15;\"U\";\"LE3\";\"A\";4;4;\"teacher\";\"teacher\";\"course\";\"mother\";1;1;0;\"no\";\"no\";\"no\";\"yes\";\"yes\";\"yes\";\"yes\";\"no\";5;5;3;1;1;4;6;\"18\";\"19\";19\n",
        "\"GP\";\"F\";16;\"R\";\"GT3\";\"T\";3;3;\"services\";\"other\";\"reputation\";\"father\";1;3;1;\"yes\";\"yes\";\"no\";\"yes\";\"yes\";\"yes\";\"yes\";\"no\";4;1;2;1;1;2;0;\"7\";\"10\";10\n",
        "\"GP\";\"F\";16;\"U\";\"GT3\";\"T\";2;2;\"at_home\";\"other\";\"home\";\"mother\";1;2;1;\"yes\";\"no\";\"no\";\"yes\";\"yes\";\"yes\";\"yes\";\"no\";3;1;2;1;1;5;6;\"10\";\"13\";13\n",
        "\"GP\";\"M\";15;\"U\";\"LE3\";\"T\";4;2;\"teacher\";\"other\";\"course\";\"mother\";1;1;0;\"no\";\"no\";\"no\";\"no\";\"yes\";\"yes\";\"yes\";\"no\";3;5;2;1;1;3;10;\"18\";\"19\";19\n",
        "\"GP\";\"M\";15;\"R\";\"GT3\";\"T\";2;1;\"health\";\"services\";\"reputation\";\"mother\";1;2;0;\"no\";\"no\";\"no\";\"yes\";\"yes\";\"yes\";\"yes\";\"yes\";5;4;2;1;1;5;8;\"9\";\"9\";9\n",
        "\"GP\";\"M\";16;\"U\";\"GT3\";\"T\";4;4;\"teacher\";\"teacher\";\"course\";\"father\";1;2;0;\"no\";\"yes\";\"no\";\"yes\";\"yes\";\"yes\";\"yes\";\"no\";5;4;4;1;2;5;2;\"15\";\"15\";16\n",
        "\"GP\";\"M\";15;\"U\";\"GT3\";\"T\";4;4;\"other\";\"teacher\";\"reputation\";\"father\";2;2;0;\"no\";\"yes\";\"no\";\"yes\";\"yes\";\"yes\";\"no\";\"no\";4;4;3;1;1;2;2;\"11\";\"13\";14\n",
        "\"GP\";\"M\";16;\"U\";\"GT3\";\"T\";3;3;\"other\";\"services\";\"home\";\"father\";2;1;0;\"no\";\"no\";\"no\";\"yes\";\"yes\";\"yes\";\"yes\";\"no\";5;4;2;1;1;5;0;\"13\";\"14\";13\n",
        "\"GP\";\"M\";17;\"R\";\"GT3\";\"T\";1;3;\"other\";\"other\";\"course\";\"father\";3;2;1;\"no\";\"yes\";\"no\";\"yes\";\"yes\";\"yes\";\"yes\";\"no\";5;2;4;1;4;5;20;\"9\";\"7\";8\n",
        "\"GP\";\"M\";15;\"U\";\"GT3\";\"T\";3;4;\"other\";\"other\";\"reputation\";\"father\";1;1;0;\"no\";\"no\";\"no\";\"no\";\"yes\";\"yes\";\"yes\";\"no\";3;4;3;1;2;4;6;\"14\";\"13\";13\n",
        "\"GP\";\"F\";15;\"U\";\"GT3\";\"T\";1;2;\"at_home\";\"services\";\"course\";\"mother\";1;2;0;\"no\";\"no\";\"no\";\"no\";\"no\";\"yes\";\"yes\";\"no\";3;2;3;1;2;1;2;\"16\";\"15\";15\n",
        "\"GP\";\"M\";15;\"U\";\"GT3\";\"T\";2;2;\"services\";\"services\";\"home\";\"father\";1;4;0;\"no\";\"yes\";\"yes\";\"yes\";\"yes\";\"yes\";\"yes\";\"no\";5;5;4;1;2;5;6;\"16\";\"14\";15\n",
        "\"GP\";\"F\";16;\"U\";\"LE3\";\"T\";2;4;\"other\";\"health\";\"course\";\"father\";2;2;0;\"no\";\"yes\";\"yes\";\"yes\";\"yes\";\"yes\";\"yes\";\"yes\";4;2;2;1;2;5;2;\"13\";\"13\";13\n",
        "\"GP\";\"M\";16;\"U\";\"GT3\";\"T\";4;4;\"health\";\"other\";\"course\";\"mother\";1;1;0;\"no\";\"yes\";\"no\";\"yes\";\"yes\";\"yes\";\"yes\";\"no\";3;4;4;1;4;5;18;\"14\";\"11\";13\n",
        "\"GP\";\"F\";16;\"U\";\"GT3\";\"T\";2;2;\"other\";\"other\";\"home\";\"mother\";1;2;0;\"no\";\"no\";\"yes\";\"no\";\"yes\";\"yes\";\"yes\";\"yes\";5;4;4;1;1;5;0;\"8\";\"7\";8\n",
        "\"GP\";\"M\";15;\"U\";\"GT3\";\"T\";3;4;\"services\";\"services\";\"home\";\"father\";1;1;0;\"yes\";\"no\";\"no\";\"no\";\"yes\";\"yes\";\"yes\";\"no\";5;5;5;3;2;5;0;\"13\";\"13\";12\n",
        "\"GP\";\"F\";15;\"U\";\"LE3\";\"A\";3;4;\"other\";\"other\";\"home\";\"mother\";1;2;0;\"yes\";\"no\";\"no\";\"yes\";\"yes\";\"yes\";\"yes\";\"yes\";5;3;2;1;1;1;0;\"7\";\"10\";11\n",
        "\"GP\";\"F\";19;\"U\";\"GT3\";\"T\";0;1;\"at_home\";\"other\";\"course\";\"other\";1;2;3;\"no\";\"yes\";\"no\";\"no\";\"no\";\"no\";\"no\";\"no\";3;4;2;1;1;5;2;\"7\";\"8\";9\n",
        "\"GP\";\"M\";18;\"R\";\"GT3\";\"T\";2;2;\"services\";\"other\";\"reputation\";\"mother\";1;1;2;\"no\";\"yes\";\"no\";\"yes\";\"yes\";\"yes\";\"yes\";\"no\";3;3;3;1;2;4;0;\"7\";\"4\";0\n",
        "\"GP\";\"M\";16;\"R\";\"GT3\";\"T\";4;4;\"teacher\";\"teacher\";\"course\";\"mother\";1;1;0;\"no\";\"no\";\"yes\";\"yes\";\"yes\";\"yes\";\"yes\";\"no\";3;5;5;2;5;4;8;\"18\";\"18\";18\n",
        "\"GP\";\"F\";15;\"R\";\"GT3\";\"T\";3;4;\"services\";\"teacher\";\"course\";\"father\";2;3;2;\"no\";\"yes\";\"no\";\"no\";\"yes\";\"yes\";\"yes\";\"yes\";4;2;2;2;2;5;0;\"12\";\"0\";0\n",
        "\"GP\";\"F\";15;\"U\";\"GT3\";\"T\";1;1;\"at_home\";\"other\";\"course\";\"mother\";3;1;0;\"no\";\"yes\";\"no\";\"yes\";\"no\";\"yes\";\"yes\";\"yes\";4;3;3;1;2;4;0;\"8\";\"0\";0\n",
        "\"GP\";\"F\";17;\"U\";\"LE3\";\"T\";2;2;\"other\";\"other\";\"course\";\"father\";1;1;0;\"no\";\"yes\";\"no\";\"no\";\"yes\";\"yes\";\"yes\";\"yes\";3;4;4;1;3;5;12;\"10\";\"13\";12\n",
        "\"GP\";\"F\";16;\"U\";\"GT3\";\"A\";3;4;\"services\";\"other\";\"course\";\"father\";1;1;0;\"no\";\"no\";\"no\";\"no\";\"yes\";\"yes\";\"yes\";\"no\";3;2;1;1;4;5;16;\"12\";\"11\";11\n",
        "\"GP\";\"M\";15;\"R\";\"GT3\";\"T\";3;4;\"at_home\";\"teacher\";\"course\";\"mother\";4;2;0;\"no\";\"yes\";\"no\";\"no\";\"yes\";\"yes\";\"no\";\"yes\";5;3;3;1;1;5;0;\"9\";\"0\";0\n",
        "\"GP\";\"F\";15;\"U\";\"GT3\";\"T\";4;4;\"services\";\"at_home\";\"course\";\"mother\";1;3;0;\"no\";\"yes\";\"no\";\"yes\";\"yes\";\"yes\";\"yes\";\"yes\";4;3;3;1;1;5;0;\"11\";\"0\";0\n",
        "\"GP\";\"M\";17;\"R\";\"GT3\";\"T\";3;4;\"at_home\";\"other\";\"course\";\"mother\";3;2;0;\"no\";\"no\";\"no\";\"no\";\"yes\";\"yes\";\"no\";\"no\";5;4;5;2;4;5;0;\"10\";\"0\";0\n",
        "\"GP\";\"F\";16;\"U\";\"GT3\";\"A\";3;3;\"other\";\"other\";\"course\";\"other\";2;1;2;\"no\";\"yes\";\"no\";\"yes\";\"no\";\"yes\";\"yes\";\"yes\";4;3;2;1;1;5;0;\"4\";\"0\";0\n",
        "\"GP\";\"M\";16;\"U\";\"LE3\";\"T\";1;1;\"services\";\"other\";\"course\";\"mother\";1;2;1;\"no\";\"no\";\"no\";\"no\";\"yes\";\"yes\";\"no\";\"yes\";4;4;4;1;3;5;0;\"14\";\"12\";12\n",
        "\"GP\";\"F\";15;\"U\";\"GT3\";\"T\";4;4;\"teacher\";\"teacher\";\"course\";\"mother\";2;1;0;\"no\";\"no\";\"no\";\"yes\";\"yes\";\"yes\";\"yes\";\"no\";4;3;2;1;1;5;0;\"16\";\"16\";15\n",
        "\"GP\";\"M\";15;\"U\";\"GT3\";\"T\";4;3;\"teacher\";\"services\";\"course\";\"father\";2;4;0;\"yes\";\"yes\";\"no\";\"no\";\"yes\";\"yes\";\"yes\";\"no\";2;2;2;1;1;3;0;\"7\";\"9\";0\n",
        "\"GP\";\"M\";16;\"U\";\"LE3\";\"T\";2;2;\"services\";\"services\";\"reputation\";\"father\";2;1;2;\"no\";\"yes\";\"no\";\"yes\";\"yes\";\"yes\";\"yes\";\"no\";2;3;3;2;2;2;8;\"9\";\"9\";9\n",
        "\"GP\";\"F\";15;\"U\";\"GT3\";\"T\";4;4;\"teacher\";\"services\";\"course\";\"mother\";1;3;0;\"no\";\"yes\";\"yes\";\"yes\";\"yes\";\"yes\";\"yes\";\"no\";4;2;2;1;1;5;2;\"9\";\"11\";11\n",
        "\"GP\";\"F\";16;\"U\";\"LE3\";\"T\";1;1;\"at_home\";\"at_home\";\"course\";\"mother\";1;1;0;\"no\";\"no\";\"no\";\"no\";\"yes\";\"yes\";\"yes\";\"no\";3;4;4;3;3;1;2;\"14\";\"14\";13\n",
        "\"GP\";\"M\";17;\"U\";\"GT3\";\"T\";2;1;\"other\";\"other\";\"home\";\"mother\";1;1;3;\"no\";\"yes\";\"no\";\"no\";\"yes\";\"yes\";\"yes\";\"no\";5;4;5;1;2;5;0;\"5\";\"0\";0\n",
        "\"GP\";\"F\";15;\"U\";\"GT3\";\"T\";1;1;\"other\";\"services\";\"course\";\"father\";1;2;0;\"no\";\"yes\";\"yes\";\"no\";\"yes\";\"yes\";\"yes\";\"no\";4;4;2;1;2;5;0;\"8\";\"11\";11\n",
        "\"GP\";\"F\";15;\"U\";\"GT3\";\"T\";3;2;\"health\";\"services\";\"home\";\"father\";1;2;3;\"no\";\"yes\";\"no\";\"no\";\"yes\";\"yes\";\"yes\";\"no\";3;3;2;1;1;3;0;\"6\";\"7\";0\n",
        "\"GP\";\"F\";15;\"U\";\"GT3\";\"T\";1;2;\"at_home\";\"other\";\"course\";\"mother\";1;2;0;\"no\";\"yes\";\"yes\";\"no\";\"no\";\"yes\";\"yes\";\"no\";4;3;2;1;1;5;2;\"10\";\"11\";11\n",
        "\"GP\";\"M\";16;\"U\";\"GT3\";\"T\";4;4;\"teacher\";\"teacher\";\"course\";\"mother\";1;1;0;\"no\";\"yes\";\"no\";\"no\";\"yes\";\"no\";\"yes\";\"yes\";3;3;2;2;1;5;0;\"7\";\"6\";0\n",
        "\"GP\";\"M\";15;\"U\";\"LE3\";\"A\";2;1;\"services\";\"other\";\"course\";\"mother\";4;1;3;\"no\";\"no\";\"no\";\"no\";\"yes\";\"yes\";\"yes\";\"no\";4;5;5;2;5;5;0;\"8\";\"9\";10\n",
        "\"GP\";\"M\";18;\"U\";\"LE3\";\"T\";1;1;\"other\";\"other\";\"course\";\"mother\";1;1;3;\"no\";\"no\";\"no\";\"no\";\"yes\";\"no\";\"yes\";\"yes\";2;3;5;2;5;4;0;\"6\";\"5\";0\n",
        "\"GP\";\"M\";16;\"U\";\"LE3\";\"T\";2;1;\"at_home\";\"other\";\"course\";\"mother\";1;1;1;\"no\";\"no\";\"no\";\"yes\";\"yes\";\"yes\";\"no\";\"yes\";4;4;4;3;5;5;6;\"12\";\"13\";14\n",
        "\"GP\";\"F\";15;\"R\";\"GT3\";\"T\";3;3;\"services\";\"services\";\"reputation\";\"other\";2;3;2;\"no\";\"yes\";\"yes\";\"yes\";\"yes\";\"yes\";\"yes\";\"yes\";4;2;1;2;3;3;8;\"10\";\"10\";10\n",
        "\"GP\";\"M\";19;\"U\";\"GT3\";\"T\";3;2;\"services\";\"at_home\";\"home\";\"mother\";1;1;3;\"no\";\"yes\";\"no\";\"no\";\"yes\";\"no\";\"yes\";\"yes\";4;5;4;1;1;4;0;\"5\";\"0\";0\n",
        "\"GP\";\"F\";17;\"U\";\"GT3\";\"T\";4;4;\"other\";\"teacher\";\"course\";\"mother\";1;1;0;\"yes\";\"yes\";\"no\";\"no\";\"yes\";\"yes\";\"no\";\"yes\";4;2;1;1;1;4;0;\"11\";\"11\";12\n",
        "\"GP\";\"M\";15;\"R\";\"GT3\";\"T\";2;3;\"at_home\";\"services\";\"course\";\"mother\";1;2;0;\"yes\";\"no\";\"yes\";\"yes\";\"yes\";\"yes\";\"no\";\"no\";4;4;4;1;1;1;2;\"11\";\"8\";8\n",
        "\"GP\";\"M\";17;\"R\";\"LE3\";\"T\";1;2;\"other\";\"other\";\"reputation\";\"mother\";1;1;0;\"no\";\"no\";\"no\";\"no\";\"yes\";\"yes\";\"no\";\"no\";2;2;2;3;3;5;8;\"16\";\"12\";13\n",
        "\"GP\";\"F\";18;\"R\";\"GT3\";\"T\";1;1;\"at_home\";\"other\";\"course\";\"mother\";3;1;3;\"no\";\"yes\";\"no\";\"yes\";\"no\";\"yes\";\"no\";\"no\";5;2;5;1;5;4;6;\"9\";\"8\";10\n",
        "\"GP\";\"M\";16;\"R\";\"GT3\";\"T\";2;2;\"at_home\";\"other\";\"course\";\"mother\";3;1;0;\"no\";\"no\";\"no\";\"no\";\"no\";\"yes\";\"no\";\"no\";4;2;2;1;2;3;2;\"17\";\"15\";15\n",
        "\"GP\";\"M\";16;\"U\";\"GT3\";\"T\";3;3;\"other\";\"services\";\"course\";\"father\";1;2;1;\"no\";\"yes\";\"yes\";\"no\";\"yes\";\"yes\";\"yes\";\"yes\";4;5;5;4;4;5;4;\"10\";\"12\";12\n",
        "\"GP\";\"M\";17;\"R\";\"LE3\";\"T\";2;1;\"at_home\";\"other\";\"course\";\"mother\";2;1;2;\"no\";\"no\";\"no\";\"yes\";\"yes\";\"no\";\"yes\";\"yes\";3;3;2;2;2;5;0;\"7\";\"6\";0\n",
        "\"GP\";\"M\";15;\"R\";\"GT3\";\"T\";3;2;\"other\";\"other\";\"course\";\"mother\";2;2;2;\"yes\";\"yes\";\"no\";\"no\";\"yes\";\"yes\";\"yes\";\"yes\";4;4;4;1;4;3;6;\"5\";\"9\";7\n",
        "\"GP\";\"M\";16;\"U\";\"LE3\";\"T\";1;2;\"other\";\"other\";\"course\";\"mother\";2;1;1;\"no\";\"no\";\"no\";\"yes\";\"yes\";\"yes\";\"no\";\"no\";4;4;4;2;4;5;0;\"7\";\"0\";0\n",
        "\"GP\";\"M\";17;\"U\";\"GT3\";\"T\";1;3;\"at_home\";\"services\";\"course\";\"father\";1;1;0;\"no\";\"no\";\"no\";\"no\";\"yes\";\"no\";\"yes\";\"no\";5;3;3;1;4;2;2;\"10\";\"10\";10\n",
        "\"GP\";\"M\";17;\"R\";\"LE3\";\"T\";1;1;\"other\";\"services\";\"course\";\"mother\";4;2;3;\"no\";\"no\";\"no\";\"yes\";\"yes\";\"no\";\"no\";\"yes\";5;3;5;1;5;5;0;\"5\";\"8\";7\n",
        "\"GP\";\"M\";16;\"U\";\"GT3\";\"T\";3;2;\"services\";\"services\";\"course\";\"mother\";2;1;1;\"no\";\"yes\";\"no\";\"yes\";\"no\";\"no\";\"no\";\"no\";4;5;2;1;1;2;16;\"12\";\"11\";12\n",
        "\"GP\";\"M\";16;\"U\";\"GT3\";\"T\";2;2;\"other\";\"other\";\"course\";\"father\";1;2;0;\"no\";\"no\";\"no\";\"no\";\"yes\";\"no\";\"yes\";\"no\";4;3;5;2;4;4;4;\"10\";\"10\";10\n",
        "\"GP\";\"F\";16;\"U\";\"GT3\";\"T\";4;2;\"health\";\"services\";\"home\";\"father\";1;2;0;\"no\";\"no\";\"yes\";\"no\";\"yes\";\"yes\";\"yes\";\"yes\";4;2;3;1;1;3;0;\"14\";\"15\";16\n",
        "\"GP\";\"F\";16;\"U\";\"GT3\";\"T\";2;2;\"other\";\"other\";\"home\";\"mother\";1;2;0;\"no\";\"yes\";\"yes\";\"no\";\"no\";\"yes\";\"yes\";\"no\";5;1;5;1;1;4;0;\"6\";\"7\";0\n",
        "\"GP\";\"F\";16;\"U\";\"GT3\";\"T\";4;4;\"health\";\"health\";\"reputation\";\"mother\";1;2;0;\"no\";\"yes\";\"yes\";\"no\";\"yes\";\"yes\";\"yes\";\"yes\";4;4;2;1;1;3;0;\"14\";\"14\";14\n",
        "\"GP\";\"M\";16;\"U\";\"GT3\";\"T\";3;4;\"other\";\"other\";\"course\";\"father\";3;1;2;\"no\";\"yes\";\"no\";\"yes\";\"no\";\"yes\";\"yes\";\"no\";3;4;5;2;4;2;0;\"6\";\"5\";0\n",
        "\"GP\";\"M\";16;\"U\";\"GT3\";\"T\";1;0;\"other\";\"other\";\"reputation\";\"mother\";2;2;0;\"no\";\"yes\";\"yes\";\"yes\";\"yes\";\"yes\";\"yes\";\"yes\";4;3;2;1;1;3;2;\"13\";\"15\";16\n",
        "\"GP\";\"M\";17;\"U\";\"LE3\";\"T\";4;4;\"teacher\";\"other\";\"reputation\";\"mother\";1;2;0;\"no\";\"yes\";\"yes\";\"yes\";\"yes\";\"yes\";\"yes\";\"no\";4;4;4;1;3;5;0;\"13\";\"11\";10\n",
        "\"GP\";\"F\";16;\"U\";\"GT3\";\"T\";1;3;\"at_home\";\"services\";\"home\";\"mother\";1;2;3;\"no\";\"no\";\"no\";\"yes\";\"no\";\"yes\";\"yes\";\"yes\";4;3;5;1;1;3;0;\"8\";\"7\";0\n",
        "\"GP\";\"F\";16;\"U\";\"LE3\";\"T\";3;3;\"other\";\"other\";\"reputation\";\"mother\";2;2;0;\"no\";\"yes\";\"yes\";\"yes\";\"yes\";\"yes\";\"yes\";\"no\";4;4;5;1;1;4;4;\"10\";\"11\";9\n",
        "\"GP\";\"M\";17;\"U\";\"LE3\";\"T\";4;3;\"teacher\";\"other\";\"course\";\"mother\";2;2;0;\"no\";\"no\";\"yes\";\"yes\";\"yes\";\"yes\";\"yes\";\"no\";4;4;4;4;4;4;4;\"10\";\"9\";9\n",
        "\"GP\";\"F\";16;\"U\";\"GT3\";\"T\";2;2;\"services\";\"other\";\"reputation\";\"mother\";2;2;0;\"no\";\"no\";\"yes\";\"yes\";\"no\";\"yes\";\"yes\";\"no\";3;4;4;1;4;5;2;\"13\";\"13\";11\n",
        "\"GP\";\"M\";17;\"U\";\"GT3\";\"T\";3;3;\"other\";\"other\";\"reputation\";\"father\";1;2;0;\"no\";\"no\";\"no\";\"yes\";\"no\";\"yes\";\"yes\";\"no\";4;3;4;1;4;4;4;\"6\";\"5\";6\n",
        "\"GP\";\"M\";16;\"R\";\"GT3\";\"T\";4;2;\"teacher\";\"services\";\"other\";\"mother\";1;1;0;\"no\";\"yes\";\"no\";\"yes\";\"yes\";\"yes\";\"yes\";\"yes\";4;3;3;3;4;3;10;\"10\";\"8\";9\n",
        "\"GP\";\"M\";17;\"U\";\"GT3\";\"T\";4;3;\"other\";\"other\";\"course\";\"mother\";1;2;0;\"no\";\"yes\";\"no\";\"yes\";\"yes\";\"yes\";\"yes\";\"yes\";5;2;3;1;1;2;4;\"10\";\"10\";11\n",
        "\"GP\";\"M\";16;\"U\";\"GT3\";\"T\";4;3;\"teacher\";\"other\";\"home\";\"mother\";1;2;0;\"no\";\"yes\";\"yes\";\"yes\";\"yes\";\"yes\";\"yes\";\"no\";3;4;3;2;3;3;10;\"9\";\"8\";8\n",
        "\"GP\";\"M\";16;\"U\";\"GT3\";\"T\";3;3;\"services\";\"other\";\"home\";\"mother\";1;2;0;\"no\";\"no\";\"yes\";\"yes\";\"yes\";\"yes\";\"yes\";\"yes\";4;2;3;1;2;3;2;\"12\";\"13\";12\n",
        "\"GP\";\"F\";17;\"U\";\"GT3\";\"T\";2;4;\"services\";\"services\";\"reputation\";\"father\";1;2;0;\"no\";\"yes\";\"no\";\"yes\";\"yes\";\"yes\";\"no\";\"no\";5;4;2;2;3;5;0;\"16\";\"17\";17\n",
        "\"GP\";\"F\";17;\"U\";\"LE3\";\"T\";3;3;\"other\";\"other\";\"reputation\";\"mother\";1;2;0;\"no\";\"yes\";\"no\";\"yes\";\"yes\";\"yes\";\"yes\";\"yes\";5;3;3;2;3;1;56;\"9\";\"9\";8\n",
        "\"GP\";\"F\";16;\"U\";\"GT3\";\"T\";3;2;\"other\";\"other\";\"reputation\";\"mother\";1;2;0;\"no\";\"yes\";\"yes\";\"no\";\"yes\";\"yes\";\"yes\";\"no\";1;2;2;1;2;1;14;\"12\";\"13\";12\n",
        "\"GP\";\"M\";17;\"U\";\"GT3\";\"T\";3;3;\"services\";\"services\";\"other\";\"mother\";1;2;0;\"no\";\"yes\";\"no\";\"yes\";\"yes\";\"yes\";\"yes\";\"yes\";4;3;4;2;3;4;12;\"12\";\"12\";11\n",
        "\"GP\";\"M\";16;\"U\";\"GT3\";\"T\";1;2;\"services\";\"services\";\"other\";\"mother\";1;1;0;\"no\";\"yes\";\"yes\";\"yes\";\"yes\";\"yes\";\"yes\";\"yes\";3;3;3;1;2;3;2;\"11\";\"12\";11\n",
        "\"GP\";\"M\";16;\"U\";\"LE3\";\"T\";2;1;\"other\";\"other\";\"course\";\"mother\";1;2;0;\"no\";\"no\";\"yes\";\"yes\";\"yes\";\"yes\";\"yes\";\"yes\";4;2;3;1;2;5;0;\"15\";\"15\";15\n",
        "\"GP\";\"F\";17;\"U\";\"GT3\";\"A\";3;3;\"health\";\"other\";\"reputation\";\"mother\";1;2;0;\"no\";\"yes\";\"no\";\"no\";\"no\";\"yes\";\"yes\";\"yes\";3;3;3;1;3;3;6;\"8\";\"7\";9\n",
        "\"GP\";\"M\";17;\"R\";\"GT3\";\"T\";1;2;\"at_home\";\"other\";\"home\";\"mother\";1;2;0;\"no\";\"no\";\"no\";\"no\";\"yes\";\"yes\";\"no\";\"no\";3;1;3;1;5;3;4;\"8\";\"9\";10\n",
        "\"GP\";\"F\";16;\"U\";\"GT3\";\"T\";2;3;\"services\";\"services\";\"course\";\"mother\";1;2;0;\"no\";\"no\";\"no\";\"no\";\"yes\";\"yes\";\"yes\";\"no\";4;3;3;1;1;2;10;\"11\";\"12\";13\n",
        "\"GP\";\"F\";17;\"U\";\"GT3\";\"T\";1;1;\"at_home\";\"services\";\"course\";\"mother\";1;2;0;\"no\";\"no\";\"no\";\"yes\";\"yes\";\"yes\";\"yes\";\"no\";5;3;3;1;1;3;0;\"8\";\"8\";9\n",
        "\"GP\";\"M\";17;\"U\";\"GT3\";\"T\";1;2;\"at_home\";\"services\";\"other\";\"other\";2;2;0;\"no\";\"no\";\"yes\";\"yes\";\"no\";\"yes\";\"yes\";\"no\";4;4;4;4;5;5;12;\"7\";\"8\";8\n",
        "\"GP\";\"M\";16;\"R\";\"GT3\";\"T\";3;3;\"services\";\"services\";\"reputation\";\"mother\";1;1;0;\"no\";\"yes\";\"no\";\"yes\";\"yes\";\"yes\";\"yes\";\"no\";4;3;2;3;4;5;8;\"8\";\"9\";10\n",
        "\"GP\";\"M\";16;\"U\";\"GT3\";\"T\";2;3;\"other\";\"other\";\"home\";\"father\";2;1;0;\"no\";\"no\";\"no\";\"no\";\"yes\";\"yes\";\"yes\";\"no\";5;3;3;1;1;3;0;\"13\";\"14\";14\n",
        "\"GP\";\"F\";17;\"U\";\"LE3\";\"T\";2;4;\"services\";\"services\";\"course\";\"father\";1;2;0;\"no\";\"no\";\"no\";\"yes\";\"yes\";\"yes\";\"yes\";\"yes\";4;3;2;1;1;5;0;\"14\";\"15\";15\n",
        "\"GP\";\"M\";17;\"U\";\"GT3\";\"T\";4;4;\"services\";\"teacher\";\"home\";\"mother\";1;1;0;\"no\";\"no\";\"no\";\"no\";\"yes\";\"yes\";\"yes\";\"no\";5;2;3;1;2;5;4;\"17\";\"15\";16\n",
        "\"GP\";\"M\";16;\"R\";\"LE3\";\"T\";3;3;\"teacher\";\"other\";\"home\";\"father\";3;1;0;\"no\";\"yes\";\"yes\";\"yes\";\"yes\";\"yes\";\"yes\";\"no\";3;3;4;3;5;3;8;\"9\";\"9\";10\n",
        "\"GP\";\"F\";17;\"U\";\"GT3\";\"T\";4;4;\"services\";\"teacher\";\"home\";\"mother\";2;1;1;\"no\";\"yes\";\"no\";\"no\";\"yes\";\"yes\";\"yes\";\"no\";4;2;4;2;3;2;24;\"18\";\"18\";18\n",
        "\"GP\";\"F\";16;\"U\";\"LE3\";\"T\";4;4;\"teacher\";\"teacher\";\"reputation\";\"mother\";1;2;0;\"no\";\"yes\";\"yes\";\"no\";\"yes\";\"yes\";\"yes\";\"no\";4;5;2;1;2;3;0;\"9\";\"9\";10\n",
        "\"GP\";\"F\";16;\"U\";\"GT3\";\"T\";4;3;\"health\";\"other\";\"home\";\"mother\";1;2;0;\"no\";\"yes\";\"no\";\"yes\";\"yes\";\"yes\";\"yes\";\"no\";4;3;5;1;5;2;2;\"16\";\"16\";16\n",
        "\"GP\";\"F\";16;\"U\";\"GT3\";\"T\";2;3;\"other\";\"other\";\"reputation\";\"mother\";1;2;0;\"yes\";\"yes\";\"yes\";\"yes\";\"yes\";\"yes\";\"no\";\"no\";4;4;3;1;3;4;6;\"8\";\"10\";10\n",
        "\"GP\";\"F\";17;\"U\";\"GT3\";\"T\";1;1;\"other\";\"other\";\"course\";\"mother\";1;2;0;\"no\";\"yes\";\"yes\";\"no\";\"no\";\"yes\";\"no\";\"no\";4;4;4;1;3;1;4;\"9\";\"9\";10\n",
        "\"GP\";\"F\";17;\"R\";\"GT3\";\"T\";2;2;\"other\";\"other\";\"reputation\";\"mother\";1;1;0;\"no\";\"yes\";\"no\";\"no\";\"yes\";\"yes\";\"yes\";\"no\";5;3;2;1;2;3;18;\"7\";\"6\";6\n",
        "\"GP\";\"F\";16;\"R\";\"GT3\";\"T\";2;2;\"services\";\"services\";\"reputation\";\"mother\";2;4;0;\"no\";\"yes\";\"yes\";\"yes\";\"no\";\"yes\";\"yes\";\"no\";5;3;5;1;1;5;6;\"10\";\"10\";11\n",
        "\"GP\";\"F\";17;\"U\";\"GT3\";\"T\";3;4;\"at_home\";\"services\";\"home\";\"mother\";1;3;1;\"no\";\"yes\";\"yes\";\"no\";\"yes\";\"yes\";\"yes\";\"yes\";4;4;3;3;4;5;28;\"10\";\"9\";9\n",
        "\"GP\";\"F\";16;\"U\";\"GT3\";\"A\";3;1;\"services\";\"other\";\"course\";\"mother\";1;2;3;\"no\";\"yes\";\"yes\";\"no\";\"yes\";\"yes\";\"yes\";\"no\";2;3;3;2;2;4;5;\"7\";\"7\";7\n",
        "\"GP\";\"F\";16;\"U\";\"GT3\";\"T\";4;3;\"teacher\";\"other\";\"other\";\"mother\";1;2;0;\"no\";\"no\";\"yes\";\"yes\";\"yes\";\"yes\";\"yes\";\"yes\";1;3;2;1;1;1;10;\"11\";\"12\";13\n",
        "\"GP\";\"F\";16;\"U\";\"GT3\";\"T\";1;1;\"at_home\";\"other\";\"home\";\"mother\";2;1;0;\"no\";\"yes\";\"yes\";\"no\";\"yes\";\"yes\";\"no\";\"no\";4;3;2;1;4;5;6;\"9\";\"9\";10\n",
        "\"GP\";\"F\";17;\"R\";\"GT3\";\"T\";4;3;\"teacher\";\"other\";\"reputation\";\"mother\";2;3;0;\"no\";\"yes\";\"yes\";\"yes\";\"yes\";\"yes\";\"yes\";\"yes\";4;4;2;1;1;4;6;\"7\";\"7\";7\n",
        "\"GP\";\"F\";19;\"U\";\"GT3\";\"T\";3;3;\"other\";\"other\";\"reputation\";\"other\";1;4;0;\"no\";\"yes\";\"yes\";\"yes\";\"yes\";\"yes\";\"yes\";\"no\";4;3;3;1;2;3;10;\"8\";\"8\";8\n",
        "\"GP\";\"M\";17;\"U\";\"LE3\";\"T\";4;4;\"services\";\"other\";\"home\";\"mother\";1;2;0;\"no\";\"yes\";\"yes\";\"no\";\"yes\";\"yes\";\"yes\";\"yes\";5;3;5;4;5;3;13;\"12\";\"12\";13\n",
        "\"GP\";\"F\";16;\"U\";\"GT3\";\"A\";2;2;\"other\";\"other\";\"reputation\";\"mother\";1;2;0;\"yes\";\"yes\";\"yes\";\"no\";\"yes\";\"yes\";\"yes\";\"no\";3;3;4;1;1;4;0;\"12\";\"13\";14\n",
        "\"GP\";\"M\";18;\"U\";\"GT3\";\"T\";2;2;\"services\";\"other\";\"home\";\"mother\";1;2;1;\"no\";\"yes\";\"yes\";\"yes\";\"yes\";\"yes\";\"yes\";\"no\";4;4;4;2;4;5;15;\"6\";\"7\";8\n",
        "\"GP\";\"F\";17;\"R\";\"LE3\";\"T\";4;4;\"services\";\"other\";\"other\";\"mother\";1;1;0;\"no\";\"yes\";\"yes\";\"no\";\"yes\";\"yes\";\"no\";\"no\";5;2;1;1;2;3;12;\"8\";\"10\";10\n",
        "\"GP\";\"F\";17;\"U\";\"LE3\";\"T\";3;2;\"other\";\"other\";\"reputation\";\"mother\";2;2;0;\"no\";\"no\";\"yes\";\"no\";\"yes\";\"yes\";\"yes\";\"no\";4;4;4;1;3;1;2;\"14\";\"15\";15\n",
        "\"GP\";\"F\";17;\"U\";\"GT3\";\"T\";4;3;\"other\";\"other\";\"reputation\";\"mother\";1;2;2;\"no\";\"no\";\"yes\";\"no\";\"yes\";\"yes\";\"yes\";\"yes\";3;4;5;2;4;1;22;\"6\";\"6\";4\n",
        "\"GP\";\"M\";18;\"U\";\"LE3\";\"T\";3;3;\"services\";\"health\";\"home\";\"father\";1;2;1;\"no\";\"yes\";\"yes\";\"no\";\"yes\";\"yes\";\"yes\";\"no\";3;2;4;2;4;4;13;\"6\";\"6\";8\n",
        "\"GP\";\"F\";17;\"U\";\"GT3\";\"T\";2;3;\"at_home\";\"other\";\"home\";\"father\";2;1;0;\"no\";\"yes\";\"yes\";\"no\";\"yes\";\"yes\";\"no\";\"no\";3;3;3;1;4;3;3;\"7\";\"7\";8\n",
        "\"GP\";\"F\";17;\"U\";\"GT3\";\"T\";2;2;\"at_home\";\"at_home\";\"course\";\"mother\";1;3;0;\"no\";\"yes\";\"yes\";\"yes\";\"yes\";\"yes\";\"yes\";\"no\";4;3;3;1;1;4;4;\"9\";\"10\";10\n",
        "\"GP\";\"F\";17;\"R\";\"GT3\";\"T\";2;1;\"at_home\";\"services\";\"reputation\";\"mother\";2;2;0;\"no\";\"yes\";\"no\";\"yes\";\"yes\";\"yes\";\"yes\";\"no\";4;2;5;1;2;5;2;\"6\";\"6\";6\n",
        "\"GP\";\"F\";17;\"U\";\"GT3\";\"T\";1;1;\"at_home\";\"other\";\"reputation\";\"mother\";1;3;1;\"no\";\"yes\";\"no\";\"yes\";\"yes\";\"yes\";\"no\";\"yes\";4;3;4;1;1;5;0;\"6\";\"5\";0\n",
        "\"GP\";\"F\";16;\"U\";\"GT3\";\"T\";2;3;\"services\";\"teacher\";\"other\";\"mother\";1;2;0;\"yes\";\"no\";\"no\";\"no\";\"yes\";\"yes\";\"yes\";\"no\";2;3;1;1;1;3;2;\"16\";\"16\";17\n",
        "\"GP\";\"M\";18;\"U\";\"GT3\";\"T\";2;2;\"other\";\"other\";\"home\";\"mother\";2;2;0;\"no\";\"yes\";\"yes\";\"no\";\"yes\";\"yes\";\"yes\";\"no\";3;3;3;5;5;4;0;\"12\";\"13\";13\n",
        "\"GP\";\"F\";16;\"U\";\"GT3\";\"T\";4;4;\"teacher\";\"services\";\"home\";\"mother\";1;3;0;\"no\";\"yes\";\"no\";\"yes\";\"no\";\"yes\";\"yes\";\"no\";5;3;2;1;1;5;0;\"13\";\"13\";14\n",
        "\"GP\";\"F\";18;\"R\";\"GT3\";\"T\";3;1;\"other\";\"other\";\"reputation\";\"mother\";1;2;1;\"no\";\"no\";\"no\";\"yes\";\"yes\";\"yes\";\"yes\";\"yes\";5;3;3;1;1;4;16;\"9\";\"8\";7\n",
        "\"GP\";\"F\";17;\"U\";\"GT3\";\"T\";3;2;\"other\";\"other\";\"course\";\"mother\";1;2;0;\"no\";\"no\";\"no\";\"yes\";\"no\";\"yes\";\"yes\";\"no\";5;3;4;1;3;3;10;\"16\";\"15\";15\n",
        "\"GP\";\"M\";17;\"U\";\"LE3\";\"T\";2;3;\"services\";\"services\";\"reputation\";\"father\";1;2;0;\"no\";\"yes\";\"yes\";\"no\";\"no\";\"yes\";\"yes\";\"no\";5;3;3;1;3;3;2;\"12\";\"11\";12\n",
        "\"GP\";\"M\";18;\"U\";\"LE3\";\"T\";2;1;\"at_home\";\"other\";\"course\";\"mother\";4;2;0;\"yes\";\"yes\";\"yes\";\"yes\";\"yes\";\"yes\";\"yes\";\"yes\";4;3;2;4;5;3;14;\"10\";\"8\";9\n",
        "\"GP\";\"F\";17;\"U\";\"GT3\";\"A\";2;1;\"other\";\"other\";\"course\";\"mother\";2;3;0;\"no\";\"no\";\"no\";\"yes\";\"yes\";\"yes\";\"yes\";\"yes\";3;2;3;1;2;3;10;\"12\";\"10\";12\n",
        "\"GP\";\"F\";17;\"U\";\"LE3\";\"T\";4;3;\"health\";\"other\";\"reputation\";\"father\";1;2;0;\"no\";\"no\";\"no\";\"yes\";\"yes\";\"yes\";\"yes\";\"yes\";3;2;3;1;2;3;14;\"13\";\"13\";14\n",
        "\"GP\";\"M\";17;\"R\";\"GT3\";\"T\";2;2;\"other\";\"other\";\"course\";\"father\";2;2;0;\"no\";\"yes\";\"yes\";\"yes\";\"yes\";\"yes\";\"yes\";\"no\";4;5;2;1;1;1;4;\"11\";\"11\";11\n",
        "\"GP\";\"M\";17;\"U\";\"GT3\";\"T\";4;4;\"teacher\";\"teacher\";\"reputation\";\"mother\";1;2;0;\"yes\";\"yes\";\"no\";\"yes\";\"yes\";\"yes\";\"yes\";\"yes\";4;5;5;1;3;2;14;\"11\";\"9\";9\n",
        "\"GP\";\"M\";16;\"U\";\"GT3\";\"T\";4;4;\"health\";\"other\";\"reputation\";\"father\";1;2;0;\"no\";\"yes\";\"yes\";\"yes\";\"yes\";\"yes\";\"yes\";\"no\";4;2;4;2;4;1;2;\"14\";\"13\";13\n",
        "\"GP\";\"M\";16;\"U\";\"LE3\";\"T\";1;1;\"other\";\"other\";\"home\";\"mother\";2;2;0;\"no\";\"yes\";\"yes\";\"no\";\"yes\";\"yes\";\"yes\";\"no\";3;4;2;1;1;5;18;\"9\";\"7\";6\n",
        "\"GP\";\"M\";16;\"U\";\"GT3\";\"T\";3;2;\"at_home\";\"other\";\"reputation\";\"mother\";2;3;0;\"no\";\"no\";\"no\";\"yes\";\"yes\";\"yes\";\"yes\";\"yes\";5;3;3;1;3;2;10;\"11\";\"9\";10\n",
        "\"GP\";\"M\";17;\"U\";\"LE3\";\"T\";2;2;\"other\";\"other\";\"home\";\"father\";1;2;0;\"no\";\"no\";\"yes\";\"yes\";\"no\";\"yes\";\"yes\";\"yes\";4;4;2;5;5;4;4;\"14\";\"13\";13\n",
        "\"GP\";\"F\";16;\"U\";\"GT3\";\"T\";2;1;\"other\";\"other\";\"home\";\"mother\";1;1;0;\"no\";\"no\";\"no\";\"no\";\"yes\";\"yes\";\"yes\";\"yes\";4;5;2;1;1;5;20;\"13\";\"12\";12\n",
        "\"GP\";\"F\";17;\"R\";\"GT3\";\"T\";2;1;\"at_home\";\"services\";\"course\";\"mother\";3;2;0;\"no\";\"no\";\"no\";\"yes\";\"yes\";\"yes\";\"no\";\"no\";2;1;1;1;1;3;2;\"13\";\"11\";11\n",
        "\"GP\";\"M\";18;\"U\";\"GT3\";\"T\";2;2;\"other\";\"services\";\"reputation\";\"father\";1;2;1;\"no\";\"no\";\"no\";\"no\";\"yes\";\"no\";\"yes\";\"no\";5;5;4;3;5;2;0;\"7\";\"7\";0\n",
        "\"GP\";\"M\";17;\"U\";\"LE3\";\"T\";4;3;\"health\";\"other\";\"course\";\"mother\";2;2;0;\"no\";\"no\";\"no\";\"yes\";\"yes\";\"yes\";\"yes\";\"yes\";2;5;5;1;4;5;14;\"12\";\"12\";12\n",
        "\"GP\";\"M\";17;\"R\";\"LE3\";\"A\";4;4;\"teacher\";\"other\";\"course\";\"mother\";2;2;0;\"no\";\"yes\";\"yes\";\"no\";\"yes\";\"yes\";\"yes\";\"no\";3;3;3;2;3;4;2;\"10\";\"11\";12\n",
        "\"GP\";\"M\";16;\"U\";\"LE3\";\"T\";4;3;\"teacher\";\"other\";\"course\";\"mother\";1;1;0;\"no\";\"no\";\"no\";\"yes\";\"no\";\"yes\";\"yes\";\"no\";5;4;5;1;1;3;0;\"6\";\"0\";0\n",
        "\"GP\";\"M\";16;\"U\";\"GT3\";\"T\";4;4;\"services\";\"services\";\"course\";\"mother\";1;1;0;\"no\";\"no\";\"no\";\"yes\";\"yes\";\"yes\";\"yes\";\"no\";5;3;2;1;2;5;0;\"13\";\"12\";12\n",
        "\"GP\";\"F\";18;\"U\";\"GT3\";\"T\";2;1;\"other\";\"other\";\"course\";\"other\";2;3;0;\"no\";\"yes\";\"yes\";\"no\";\"no\";\"yes\";\"yes\";\"yes\";4;4;4;1;1;3;0;\"7\";\"0\";0\n",
        "\"GP\";\"M\";16;\"U\";\"GT3\";\"T\";2;1;\"other\";\"other\";\"course\";\"mother\";3;1;0;\"no\";\"no\";\"no\";\"no\";\"yes\";\"yes\";\"yes\";\"no\";4;3;3;1;1;4;6;\"18\";\"18\";18\n",
        "\"GP\";\"M\";17;\"U\";\"GT3\";\"T\";2;3;\"other\";\"other\";\"course\";\"father\";2;1;0;\"no\";\"no\";\"no\";\"no\";\"yes\";\"yes\";\"yes\";\"no\";5;2;2;1;1;2;4;\"12\";\"12\";13\n",
        "\"GP\";\"M\";22;\"U\";\"GT3\";\"T\";3;1;\"services\";\"services\";\"other\";\"mother\";1;1;3;\"no\";\"no\";\"no\";\"no\";\"no\";\"no\";\"yes\";\"yes\";5;4;5;5;5;1;16;\"6\";\"8\";8\n",
        "\"GP\";\"M\";18;\"R\";\"LE3\";\"T\";3;3;\"other\";\"services\";\"course\";\"mother\";1;2;1;\"no\";\"yes\";\"no\";\"no\";\"yes\";\"yes\";\"yes\";\"yes\";4;3;3;1;3;5;8;\"3\";\"5\";5\n",
        "\"GP\";\"M\";16;\"U\";\"GT3\";\"T\";0;2;\"other\";\"other\";\"other\";\"mother\";1;1;0;\"no\";\"no\";\"yes\";\"no\";\"no\";\"yes\";\"yes\";\"no\";4;3;2;2;4;5;0;\"13\";\"15\";15\n",
        "\"GP\";\"M\";18;\"U\";\"GT3\";\"T\";3;2;\"services\";\"other\";\"course\";\"mother\";2;1;1;\"no\";\"no\";\"no\";\"no\";\"yes\";\"no\";\"yes\";\"no\";4;4;5;2;4;5;0;\"6\";\"8\";8\n",
        "\"GP\";\"M\";16;\"U\";\"GT3\";\"T\";3;3;\"at_home\";\"other\";\"reputation\";\"other\";3;2;0;\"yes\";\"yes\";\"no\";\"no\";\"no\";\"yes\";\"yes\";\"no\";5;3;3;1;3;2;6;\"7\";\"10\";10\n",
        "\"GP\";\"M\";18;\"U\";\"GT3\";\"T\";2;1;\"services\";\"services\";\"other\";\"mother\";1;1;1;\"no\";\"no\";\"no\";\"no\";\"no\";\"no\";\"yes\";\"no\";3;2;5;2;5;5;4;\"6\";\"9\";8\n",
        "\"GP\";\"M\";16;\"R\";\"GT3\";\"T\";2;1;\"other\";\"other\";\"course\";\"mother\";2;1;0;\"no\";\"no\";\"no\";\"yes\";\"no\";\"yes\";\"no\";\"no\";3;3;2;1;3;3;0;\"8\";\"9\";8\n",
        "\"GP\";\"M\";17;\"R\";\"GT3\";\"T\";2;1;\"other\";\"other\";\"course\";\"mother\";1;1;0;\"no\";\"no\";\"no\";\"no\";\"no\";\"yes\";\"yes\";\"no\";4;4;2;2;4;5;0;\"8\";\"12\";12\n",
        "\"GP\";\"M\";17;\"U\";\"LE3\";\"T\";1;1;\"health\";\"other\";\"course\";\"mother\";2;1;1;\"no\";\"yes\";\"no\";\"yes\";\"yes\";\"yes\";\"yes\";\"no\";4;4;4;1;2;5;2;\"7\";\"9\";8\n",
        "\"GP\";\"F\";17;\"U\";\"LE3\";\"T\";4;2;\"teacher\";\"services\";\"reputation\";\"mother\";1;4;0;\"no\";\"yes\";\"yes\";\"yes\";\"yes\";\"yes\";\"yes\";\"no\";4;2;3;1;1;4;6;\"14\";\"12\";13\n",
        "\"GP\";\"M\";19;\"U\";\"LE3\";\"A\";4;3;\"services\";\"at_home\";\"reputation\";\"mother\";1;2;0;\"no\";\"yes\";\"no\";\"no\";\"yes\";\"yes\";\"yes\";\"no\";4;3;1;1;1;1;12;\"11\";\"11\";11\n",
        "\"GP\";\"M\";18;\"U\";\"GT3\";\"T\";2;1;\"other\";\"other\";\"home\";\"mother\";1;2;0;\"no\";\"no\";\"no\";\"yes\";\"yes\";\"yes\";\"yes\";\"no\";5;2;4;1;2;4;8;\"15\";\"14\";14\n",
        "\"GP\";\"F\";17;\"U\";\"LE3\";\"T\";2;2;\"services\";\"services\";\"course\";\"father\";1;4;0;\"no\";\"no\";\"yes\";\"yes\";\"yes\";\"yes\";\"yes\";\"yes\";3;4;1;1;1;2;0;\"10\";\"9\";0\n",
        "\"GP\";\"F\";18;\"U\";\"GT3\";\"T\";4;3;\"services\";\"other\";\"home\";\"father\";1;2;0;\"no\";\"yes\";\"yes\";\"no\";\"yes\";\"yes\";\"yes\";\"yes\";3;1;2;1;3;2;21;\"17\";\"18\";18\n",
        "\"GP\";\"M\";18;\"U\";\"GT3\";\"T\";4;3;\"teacher\";\"other\";\"course\";\"mother\";1;2;0;\"no\";\"yes\";\"yes\";\"no\";\"no\";\"yes\";\"yes\";\"no\";4;3;2;1;1;3;2;\"8\";\"8\";8\n",
        "\"GP\";\"M\";18;\"R\";\"GT3\";\"T\";3;2;\"other\";\"other\";\"course\";\"mother\";1;3;0;\"no\";\"no\";\"no\";\"yes\";\"no\";\"yes\";\"no\";\"no\";5;3;2;1;1;3;1;\"13\";\"12\";12\n",
        "\"GP\";\"F\";17;\"U\";\"GT3\";\"T\";3;3;\"other\";\"other\";\"home\";\"mother\";1;3;0;\"no\";\"no\";\"no\";\"yes\";\"no\";\"yes\";\"no\";\"no\";3;2;3;1;1;4;4;\"10\";\"9\";9\n",
        "\"GP\";\"F\";18;\"U\";\"GT3\";\"T\";2;2;\"at_home\";\"services\";\"home\";\"mother\";1;3;0;\"no\";\"yes\";\"yes\";\"yes\";\"yes\";\"yes\";\"yes\";\"yes\";4;3;3;1;1;3;0;\"9\";\"10\";0\n",
        "\"GP\";\"M\";18;\"R\";\"LE3\";\"A\";3;4;\"other\";\"other\";\"reputation\";\"mother\";2;2;0;\"no\";\"yes\";\"yes\";\"yes\";\"yes\";\"yes\";\"yes\";\"no\";4;2;5;3;4;1;13;\"17\";\"17\";17\n",
        "\"GP\";\"M\";17;\"U\";\"GT3\";\"T\";3;1;\"services\";\"other\";\"other\";\"mother\";1;2;0;\"no\";\"no\";\"yes\";\"yes\";\"yes\";\"yes\";\"yes\";\"yes\";5;4;4;3;4;5;2;\"9\";\"9\";10\n",
        "\"GP\";\"F\";18;\"R\";\"GT3\";\"T\";4;4;\"teacher\";\"other\";\"reputation\";\"mother\";2;2;0;\"no\";\"no\";\"yes\";\"yes\";\"yes\";\"yes\";\"yes\";\"no\";4;3;4;2;2;4;8;\"12\";\"10\";11\n",
        "\"GP\";\"M\";18;\"U\";\"GT3\";\"T\";4;2;\"health\";\"other\";\"reputation\";\"father\";1;2;0;\"no\";\"yes\";\"yes\";\"yes\";\"yes\";\"yes\";\"yes\";\"yes\";5;4;5;1;3;5;10;\"10\";\"9\";10\n",
        "\"GP\";\"F\";18;\"R\";\"GT3\";\"T\";2;1;\"other\";\"other\";\"reputation\";\"mother\";2;2;0;\"no\";\"yes\";\"no\";\"no\";\"yes\";\"no\";\"yes\";\"yes\";4;3;5;1;2;3;0;\"6\";\"0\";0\n",
        "\"GP\";\"F\";19;\"U\";\"GT3\";\"T\";3;3;\"other\";\"services\";\"home\";\"other\";1;2;2;\"no\";\"yes\";\"yes\";\"yes\";\"yes\";\"yes\";\"yes\";\"no\";4;3;5;3;3;5;15;\"9\";\"9\";9\n",
        "\"GP\";\"F\";18;\"U\";\"GT3\";\"T\";2;3;\"other\";\"services\";\"reputation\";\"father\";1;4;0;\"no\";\"yes\";\"yes\";\"yes\";\"yes\";\"yes\";\"yes\";\"yes\";4;5;5;1;3;2;4;\"15\";\"14\";14\n",
        "\"GP\";\"F\";18;\"U\";\"LE3\";\"T\";1;1;\"other\";\"other\";\"home\";\"mother\";2;2;0;\"no\";\"yes\";\"yes\";\"no\";\"no\";\"yes\";\"no\";\"no\";4;4;3;1;1;3;2;\"11\";\"11\";11\n",
        "\"GP\";\"M\";17;\"R\";\"GT3\";\"T\";1;2;\"at_home\";\"at_home\";\"home\";\"mother\";1;2;0;\"no\";\"yes\";\"yes\";\"yes\";\"no\";\"yes\";\"no\";\"yes\";3;5;2;2;2;1;2;\"15\";\"14\";14\n",
        "\"GP\";\"F\";17;\"U\";\"GT3\";\"T\";2;4;\"at_home\";\"health\";\"reputation\";\"mother\";2;2;0;\"no\";\"yes\";\"yes\";\"no\";\"yes\";\"yes\";\"yes\";\"yes\";4;3;3;1;1;1;2;\"10\";\"10\";10\n",
        "\"GP\";\"F\";17;\"U\";\"LE3\";\"T\";2;2;\"services\";\"other\";\"course\";\"mother\";2;2;0;\"yes\";\"yes\";\"yes\";\"no\";\"yes\";\"yes\";\"yes\";\"yes\";4;4;4;2;3;5;6;\"12\";\"12\";12\n",
        "\"GP\";\"F\";18;\"R\";\"GT3\";\"A\";3;2;\"other\";\"services\";\"home\";\"mother\";2;2;0;\"no\";\"no\";\"no\";\"no\";\"no\";\"no\";\"yes\";\"yes\";4;1;1;1;1;5;75;\"10\";\"9\";9\n",
        "\"GP\";\"M\";18;\"U\";\"GT3\";\"T\";4;4;\"teacher\";\"services\";\"home\";\"mother\";2;1;0;\"no\";\"no\";\"yes\";\"yes\";\"yes\";\"yes\";\"yes\";\"no\";3;2;4;1;4;3;22;\"9\";\"9\";9\n",
        "\"GP\";\"F\";18;\"U\";\"GT3\";\"T\";4;4;\"health\";\"health\";\"reputation\";\"father\";1;2;1;\"yes\";\"yes\";\"no\";\"yes\";\"yes\";\"yes\";\"yes\";\"yes\";2;4;4;1;1;4;15;\"9\";\"8\";8\n",
        "\"GP\";\"M\";18;\"U\";\"LE3\";\"T\";4;3;\"teacher\";\"services\";\"course\";\"mother\";2;1;0;\"no\";\"no\";\"yes\";\"yes\";\"yes\";\"yes\";\"yes\";\"no\";4;2;3;1;2;1;8;\"10\";\"11\";10\n",
        "\"GP\";\"M\";17;\"U\";\"LE3\";\"A\";4;1;\"services\";\"other\";\"home\";\"mother\";2;1;0;\"no\";\"no\";\"yes\";\"yes\";\"yes\";\"yes\";\"yes\";\"yes\";4;5;4;2;4;5;30;\"8\";\"8\";8\n",
        "\"GP\";\"M\";17;\"U\";\"LE3\";\"A\";3;2;\"teacher\";\"services\";\"home\";\"mother\";1;1;1;\"no\";\"no\";\"no\";\"no\";\"yes\";\"yes\";\"yes\";\"no\";4;4;4;3;4;3;19;\"11\";\"9\";10\n",
        "\"GP\";\"F\";18;\"R\";\"LE3\";\"T\";1;1;\"at_home\";\"other\";\"reputation\";\"mother\";2;4;0;\"no\";\"yes\";\"yes\";\"yes\";\"yes\";\"yes\";\"no\";\"no\";5;2;2;1;1;3;1;\"12\";\"12\";12\n",
        "\"GP\";\"F\";18;\"U\";\"GT3\";\"T\";1;1;\"other\";\"other\";\"home\";\"mother\";2;2;0;\"yes\";\"no\";\"no\";\"yes\";\"yes\";\"yes\";\"yes\";\"no\";5;4;4;1;1;4;4;\"8\";\"9\";10\n",
        "\"GP\";\"F\";17;\"U\";\"GT3\";\"T\";2;2;\"other\";\"other\";\"course\";\"mother\";1;2;0;\"no\";\"yes\";\"no\";\"no\";\"no\";\"yes\";\"yes\";\"no\";5;4;5;1;2;5;4;\"10\";\"9\";11\n",
        "\"GP\";\"M\";17;\"U\";\"GT3\";\"T\";1;1;\"other\";\"other\";\"reputation\";\"father\";1;2;0;\"no\";\"no\";\"yes\";\"no\";\"no\";\"yes\";\"yes\";\"no\";4;3;3;1;2;4;2;\"12\";\"10\";11\n",
        "\"GP\";\"F\";18;\"U\";\"GT3\";\"T\";2;2;\"at_home\";\"at_home\";\"other\";\"mother\";1;3;0;\"no\";\"yes\";\"yes\";\"no\";\"yes\";\"yes\";\"yes\";\"no\";4;3;3;1;2;2;5;\"18\";\"18\";19\n",
        "\"GP\";\"F\";17;\"U\";\"GT3\";\"T\";1;1;\"services\";\"teacher\";\"reputation\";\"mother\";1;3;0;\"no\";\"yes\";\"yes\";\"no\";\"yes\";\"yes\";\"yes\";\"no\";4;3;3;1;1;3;6;\"13\";\"12\";12\n",
        "\"GP\";\"M\";18;\"U\";\"GT3\";\"T\";2;1;\"services\";\"services\";\"reputation\";\"mother\";1;3;0;\"no\";\"no\";\"yes\";\"yes\";\"yes\";\"yes\";\"yes\";\"no\";4;2;4;1;3;2;6;\"15\";\"14\";14\n",
        "\"GP\";\"M\";18;\"U\";\"LE3\";\"A\";4;4;\"teacher\";\"teacher\";\"reputation\";\"mother\";1;2;0;\"no\";\"yes\";\"yes\";\"yes\";\"yes\";\"yes\";\"yes\";\"no\";5;4;3;1;1;2;9;\"15\";\"13\";15\n",
        "\"GP\";\"M\";18;\"U\";\"GT3\";\"T\";4;2;\"teacher\";\"other\";\"home\";\"mother\";1;2;0;\"no\";\"yes\";\"yes\";\"yes\";\"yes\";\"yes\";\"yes\";\"yes\";4;3;2;1;4;5;11;\"12\";\"11\";11\n",
        "\"GP\";\"F\";17;\"U\";\"GT3\";\"T\";4;3;\"health\";\"services\";\"reputation\";\"mother\";1;3;0;\"no\";\"yes\";\"yes\";\"no\";\"yes\";\"yes\";\"yes\";\"no\";4;2;2;1;2;3;0;\"15\";\"15\";15\n",
        "\"GP\";\"F\";18;\"U\";\"LE3\";\"T\";2;1;\"services\";\"at_home\";\"reputation\";\"mother\";1;2;1;\"no\";\"no\";\"no\";\"no\";\"yes\";\"yes\";\"yes\";\"yes\";5;4;3;1;1;5;12;\"12\";\"12\";13\n",
        "\"GP\";\"F\";17;\"R\";\"LE3\";\"T\";3;1;\"services\";\"other\";\"reputation\";\"mother\";2;4;0;\"no\";\"yes\";\"yes\";\"no\";\"yes\";\"yes\";\"no\";\"no\";3;1;2;1;1;3;6;\"18\";\"18\";18\n",
        "\"GP\";\"M\";18;\"R\";\"LE3\";\"T\";3;2;\"services\";\"other\";\"reputation\";\"mother\";2;3;0;\"no\";\"yes\";\"yes\";\"yes\";\"yes\";\"yes\";\"yes\";\"no\";5;4;2;1;1;4;8;\"14\";\"13\";14\n",
        "\"GP\";\"M\";17;\"U\";\"GT3\";\"T\";3;3;\"health\";\"other\";\"home\";\"mother\";1;1;0;\"no\";\"yes\";\"yes\";\"no\";\"yes\";\"yes\";\"yes\";\"no\";4;4;3;1;3;5;4;\"14\";\"12\";11\n",
        "\"GP\";\"F\";19;\"U\";\"GT3\";\"T\";4;4;\"health\";\"other\";\"reputation\";\"other\";2;2;0;\"no\";\"yes\";\"yes\";\"yes\";\"yes\";\"yes\";\"yes\";\"no\";2;3;4;2;3;2;0;\"10\";\"9\";0\n",
        "\"GP\";\"F\";18;\"U\";\"LE3\";\"T\";4;3;\"other\";\"other\";\"home\";\"other\";2;2;0;\"no\";\"yes\";\"yes\";\"no\";\"yes\";\"yes\";\"yes\";\"yes\";4;4;5;1;2;2;10;\"10\";\"8\";8\n",
        "\"GP\";\"F\";18;\"U\";\"GT3\";\"T\";4;3;\"other\";\"other\";\"reputation\";\"father\";1;4;0;\"no\";\"yes\";\"yes\";\"no\";\"yes\";\"yes\";\"yes\";\"no\";4;3;3;1;1;3;0;\"14\";\"13\";14\n",
        "\"GP\";\"M\";18;\"U\";\"LE3\";\"T\";4;4;\"teacher\";\"teacher\";\"home\";\"mother\";1;1;0;\"no\";\"yes\";\"yes\";\"no\";\"yes\";\"yes\";\"yes\";\"yes\";1;4;2;2;2;1;5;\"16\";\"15\";16\n",
        "\"GP\";\"F\";18;\"U\";\"LE3\";\"A\";4;4;\"health\";\"other\";\"home\";\"mother\";1;2;0;\"no\";\"yes\";\"no\";\"no\";\"yes\";\"yes\";\"yes\";\"yes\";4;2;4;1;1;4;14;\"12\";\"10\";11\n",
        "\"GP\";\"M\";17;\"U\";\"LE3\";\"T\";4;4;\"other\";\"teacher\";\"home\";\"father\";2;1;0;\"no\";\"no\";\"yes\";\"no\";\"yes\";\"yes\";\"yes\";\"no\";4;1;1;2;2;5;0;\"11\";\"11\";10\n",
        "\"GP\";\"F\";17;\"U\";\"GT3\";\"T\";4;2;\"other\";\"other\";\"reputation\";\"mother\";2;3;0;\"no\";\"yes\";\"yes\";\"no\";\"yes\";\"yes\";\"yes\";\"no\";4;3;3;1;1;3;0;\"15\";\"12\";14\n",
        "\"GP\";\"F\";17;\"U\";\"GT3\";\"T\";3;2;\"health\";\"health\";\"reputation\";\"father\";1;4;0;\"no\";\"yes\";\"yes\";\"yes\";\"no\";\"yes\";\"yes\";\"no\";5;2;2;1;2;5;0;\"17\";\"17\";18\n",
        "\"GP\";\"M\";19;\"U\";\"GT3\";\"T\";3;3;\"other\";\"other\";\"home\";\"other\";1;2;1;\"no\";\"yes\";\"no\";\"yes\";\"yes\";\"yes\";\"yes\";\"yes\";4;4;4;1;1;3;20;\"15\";\"14\";13\n",
        "\"GP\";\"F\";18;\"U\";\"GT3\";\"T\";2;4;\"services\";\"at_home\";\"reputation\";\"other\";1;2;1;\"no\";\"yes\";\"yes\";\"yes\";\"yes\";\"yes\";\"yes\";\"no\";4;4;3;1;1;3;8;\"14\";\"12\";12\n",
        "\"GP\";\"M\";20;\"U\";\"GT3\";\"A\";3;2;\"services\";\"other\";\"course\";\"other\";1;1;0;\"no\";\"no\";\"no\";\"yes\";\"yes\";\"yes\";\"no\";\"no\";5;5;3;1;1;5;0;\"17\";\"18\";18\n",
        "\"GP\";\"M\";19;\"U\";\"GT3\";\"T\";4;4;\"teacher\";\"services\";\"reputation\";\"other\";2;1;1;\"no\";\"yes\";\"yes\";\"no\";\"yes\";\"yes\";\"yes\";\"yes\";4;3;4;1;1;4;38;\"8\";\"9\";8\n",
        "\"GP\";\"M\";19;\"R\";\"GT3\";\"T\";3;3;\"other\";\"services\";\"reputation\";\"father\";1;2;1;\"no\";\"no\";\"no\";\"yes\";\"yes\";\"yes\";\"no\";\"yes\";4;5;3;1;2;5;0;\"15\";\"12\";12\n",
        "\"GP\";\"F\";19;\"U\";\"LE3\";\"T\";1;1;\"at_home\";\"other\";\"reputation\";\"other\";1;2;1;\"yes\";\"yes\";\"no\";\"yes\";\"no\";\"yes\";\"yes\";\"no\";4;4;3;1;3;3;18;\"12\";\"10\";10\n",
        "\"GP\";\"F\";19;\"U\";\"LE3\";\"T\";1;2;\"services\";\"services\";\"home\";\"other\";1;2;1;\"no\";\"no\";\"no\";\"yes\";\"no\";\"yes\";\"no\";\"yes\";4;2;4;2;2;3;0;\"9\";\"9\";0\n",
        "\"GP\";\"F\";19;\"U\";\"GT3\";\"T\";2;1;\"at_home\";\"other\";\"other\";\"other\";3;2;0;\"no\";\"yes\";\"no\";\"no\";\"yes\";\"no\";\"yes\";\"yes\";3;4;1;1;1;2;20;\"14\";\"12\";13\n",
        "\"GP\";\"M\";19;\"U\";\"GT3\";\"T\";1;2;\"other\";\"services\";\"course\";\"other\";1;2;1;\"no\";\"no\";\"no\";\"no\";\"no\";\"yes\";\"yes\";\"no\";4;5;2;2;2;4;3;\"13\";\"11\";11\n",
        "\"GP\";\"F\";19;\"U\";\"LE3\";\"T\";3;2;\"services\";\"other\";\"reputation\";\"other\";2;2;1;\"no\";\"yes\";\"yes\";\"no\";\"no\";\"yes\";\"yes\";\"yes\";4;2;2;1;2;1;22;\"13\";\"10\";11\n",
        "\"GP\";\"F\";19;\"U\";\"GT3\";\"T\";1;1;\"at_home\";\"health\";\"home\";\"other\";1;3;2;\"no\";\"no\";\"no\";\"no\";\"no\";\"yes\";\"yes\";\"yes\";4;1;2;1;1;3;14;\"15\";\"13\";13\n",
        "\"GP\";\"F\";19;\"R\";\"GT3\";\"T\";2;3;\"other\";\"other\";\"reputation\";\"other\";1;3;1;\"no\";\"no\";\"no\";\"no\";\"yes\";\"yes\";\"yes\";\"yes\";4;1;2;1;1;3;40;\"13\";\"11\";11\n",
        "\"GP\";\"F\";18;\"U\";\"GT3\";\"T\";2;1;\"services\";\"other\";\"course\";\"mother\";2;2;0;\"no\";\"yes\";\"yes\";\"yes\";\"yes\";\"yes\";\"yes\";\"no\";5;3;3;1;2;1;0;\"8\";\"8\";0\n",
        "\"GP\";\"F\";18;\"U\";\"GT3\";\"T\";4;3;\"other\";\"other\";\"course\";\"mother\";1;3;0;\"no\";\"yes\";\"yes\";\"yes\";\"yes\";\"yes\";\"yes\";\"yes\";4;3;4;1;1;5;9;\"9\";\"10\";9\n",
        "\"GP\";\"F\";17;\"R\";\"GT3\";\"T\";3;4;\"at_home\";\"services\";\"course\";\"father\";1;3;0;\"no\";\"yes\";\"yes\";\"yes\";\"no\";\"yes\";\"yes\";\"no\";4;3;4;2;5;5;0;\"11\";\"11\";10\n",
        "\"GP\";\"F\";18;\"U\";\"GT3\";\"T\";4;4;\"teacher\";\"other\";\"course\";\"mother\";1;2;0;\"no\";\"yes\";\"yes\";\"no\";\"yes\";\"yes\";\"yes\";\"no\";4;4;4;3;3;5;2;\"11\";\"11\";11\n",
        "\"GP\";\"F\";17;\"U\";\"GT3\";\"A\";4;3;\"services\";\"services\";\"course\";\"mother\";1;2;0;\"no\";\"yes\";\"yes\";\"no\";\"yes\";\"yes\";\"yes\";\"yes\";5;2;2;1;2;5;23;\"13\";\"13\";13\n",
        "\"GP\";\"F\";17;\"U\";\"GT3\";\"T\";2;2;\"other\";\"other\";\"course\";\"mother\";1;2;0;\"no\";\"yes\";\"no\";\"no\";\"yes\";\"yes\";\"no\";\"yes\";4;2;2;1;1;3;12;\"11\";\"9\";9\n",
        "\"GP\";\"F\";17;\"R\";\"LE3\";\"T\";2;2;\"services\";\"services\";\"course\";\"mother\";1;3;0;\"no\";\"yes\";\"yes\";\"yes\";\"yes\";\"yes\";\"yes\";\"no\";3;3;2;2;2;3;3;\"11\";\"11\";11\n",
        "\"GP\";\"F\";17;\"U\";\"GT3\";\"T\";3;1;\"services\";\"services\";\"course\";\"father\";1;3;0;\"no\";\"yes\";\"no\";\"no\";\"no\";\"yes\";\"yes\";\"no\";3;4;3;2;3;5;1;\"12\";\"14\";15\n",
        "\"GP\";\"F\";17;\"U\";\"LE3\";\"T\";0;2;\"at_home\";\"at_home\";\"home\";\"father\";2;3;0;\"no\";\"no\";\"no\";\"no\";\"yes\";\"yes\";\"yes\";\"no\";3;3;3;2;3;2;0;\"16\";\"15\";15\n",
        "\"GP\";\"M\";18;\"U\";\"GT3\";\"T\";4;4;\"other\";\"other\";\"course\";\"mother\";1;3;0;\"no\";\"no\";\"no\";\"yes\";\"yes\";\"yes\";\"yes\";\"no\";4;3;3;2;2;3;3;\"9\";\"12\";11\n",
        "\"GP\";\"M\";17;\"U\";\"GT3\";\"T\";3;3;\"other\";\"services\";\"reputation\";\"mother\";1;1;0;\"no\";\"no\";\"no\";\"yes\";\"no\";\"yes\";\"yes\";\"no\";4;3;5;3;5;5;3;\"14\";\"15\";16\n",
        "\"GP\";\"M\";17;\"R\";\"GT3\";\"T\";2;2;\"services\";\"other\";\"course\";\"mother\";4;1;0;\"no\";\"yes\";\"no\";\"no\";\"yes\";\"yes\";\"yes\";\"no\";4;4;5;5;5;4;8;\"11\";\"10\";10\n",
        "\"GP\";\"F\";17;\"U\";\"GT3\";\"T\";4;4;\"teacher\";\"services\";\"course\";\"mother\";1;3;0;\"no\";\"yes\";\"yes\";\"yes\";\"yes\";\"yes\";\"yes\";\"no\";5;4;4;1;3;4;7;\"10\";\"9\";9\n",
        "\"GP\";\"F\";17;\"U\";\"GT3\";\"T\";4;4;\"teacher\";\"teacher\";\"course\";\"mother\";2;3;0;\"no\";\"yes\";\"yes\";\"no\";\"no\";\"yes\";\"yes\";\"yes\";4;3;3;1;2;4;4;\"14\";\"14\";14\n",
        "\"GP\";\"M\";18;\"U\";\"LE3\";\"T\";2;2;\"other\";\"other\";\"course\";\"mother\";1;4;0;\"no\";\"yes\";\"no\";\"yes\";\"yes\";\"yes\";\"yes\";\"no\";4;5;5;2;4;5;2;\"9\";\"8\";8\n",
        "\"GP\";\"F\";17;\"R\";\"GT3\";\"T\";2;4;\"at_home\";\"other\";\"course\";\"father\";1;3;0;\"no\";\"yes\";\"no\";\"no\";\"yes\";\"yes\";\"yes\";\"yes\";4;4;3;1;1;5;7;\"12\";\"14\";14\n",
        "\"GP\";\"F\";18;\"U\";\"GT3\";\"T\";3;3;\"services\";\"services\";\"home\";\"mother\";1;2;0;\"no\";\"no\";\"no\";\"yes\";\"yes\";\"yes\";\"yes\";\"no\";5;3;4;1;1;4;0;\"7\";\"0\";0\n",
        "\"GP\";\"F\";18;\"U\";\"LE3\";\"T\";2;2;\"other\";\"other\";\"home\";\"other\";1;2;0;\"no\";\"no\";\"no\";\"yes\";\"no\";\"yes\";\"yes\";\"yes\";4;3;3;1;1;2;0;\"8\";\"8\";0\n",
        "\"GP\";\"F\";18;\"R\";\"GT3\";\"T\";2;2;\"at_home\";\"other\";\"course\";\"mother\";2;4;0;\"no\";\"no\";\"no\";\"yes\";\"yes\";\"yes\";\"no\";\"no\";4;4;4;1;1;4;0;\"10\";\"9\";0\n",
        "\"GP\";\"F\";17;\"U\";\"GT3\";\"T\";3;4;\"services\";\"other\";\"course\";\"mother\";1;3;0;\"no\";\"no\";\"no\";\"no\";\"yes\";\"yes\";\"yes\";\"no\";4;4;5;1;3;5;16;\"16\";\"15\";15\n",
        "\"GP\";\"F\";19;\"R\";\"GT3\";\"A\";3;1;\"services\";\"at_home\";\"home\";\"other\";1;3;1;\"no\";\"no\";\"yes\";\"no\";\"yes\";\"yes\";\"no\";\"no\";5;4;3;1;2;5;12;\"14\";\"13\";13\n",
        "\"GP\";\"F\";17;\"U\";\"GT3\";\"T\";3;2;\"other\";\"other\";\"home\";\"mother\";1;2;0;\"no\";\"yes\";\"yes\";\"no\";\"yes\";\"yes\";\"yes\";\"yes\";4;3;2;2;3;2;0;\"7\";\"8\";0\n",
        "\"GP\";\"F\";18;\"U\";\"LE3\";\"T\";3;3;\"services\";\"services\";\"home\";\"mother\";1;4;0;\"no\";\"yes\";\"no\";\"no\";\"yes\";\"yes\";\"yes\";\"no\";5;3;3;1;1;1;7;\"16\";\"15\";17\n",
        "\"GP\";\"F\";17;\"R\";\"GT3\";\"A\";3;2;\"other\";\"other\";\"home\";\"mother\";1;2;0;\"no\";\"yes\";\"yes\";\"no\";\"yes\";\"yes\";\"yes\";\"no\";4;3;3;2;3;2;4;\"9\";\"10\";10\n",
        "\"GP\";\"F\";19;\"U\";\"GT3\";\"T\";2;1;\"services\";\"services\";\"home\";\"other\";1;3;1;\"no\";\"no\";\"yes\";\"yes\";\"yes\";\"yes\";\"yes\";\"yes\";4;3;4;1;3;3;4;\"11\";\"12\";11\n",
        "\"GP\";\"M\";18;\"U\";\"GT3\";\"T\";4;4;\"teacher\";\"services\";\"home\";\"father\";1;2;1;\"no\";\"yes\";\"no\";\"yes\";\"yes\";\"yes\";\"yes\";\"no\";4;3;3;2;2;2;0;\"10\";\"10\";0\n",
        "\"GP\";\"M\";18;\"U\";\"LE3\";\"T\";3;4;\"services\";\"other\";\"home\";\"mother\";1;2;0;\"no\";\"no\";\"no\";\"yes\";\"yes\";\"yes\";\"yes\";\"yes\";4;3;3;1;3;5;11;\"16\";\"15\";15\n",
        "\"GP\";\"F\";17;\"U\";\"GT3\";\"A\";2;2;\"at_home\";\"at_home\";\"home\";\"father\";1;2;1;\"no\";\"yes\";\"no\";\"no\";\"yes\";\"yes\";\"yes\";\"yes\";3;3;1;1;2;4;0;\"9\";\"8\";0\n",
        "\"GP\";\"F\";18;\"U\";\"GT3\";\"T\";2;3;\"at_home\";\"other\";\"course\";\"mother\";1;3;0;\"no\";\"yes\";\"no\";\"no\";\"yes\";\"yes\";\"yes\";\"no\";4;3;3;1;2;3;4;\"11\";\"10\";10\n",
        "\"GP\";\"F\";18;\"U\";\"GT3\";\"T\";3;2;\"other\";\"services\";\"other\";\"mother\";1;3;0;\"no\";\"no\";\"no\";\"no\";\"yes\";\"yes\";\"yes\";\"yes\";5;4;3;2;3;1;7;\"13\";\"13\";14\n",
        "\"GP\";\"M\";18;\"R\";\"GT3\";\"T\";4;3;\"teacher\";\"services\";\"course\";\"mother\";1;3;0;\"no\";\"no\";\"no\";\"no\";\"yes\";\"yes\";\"yes\";\"yes\";5;3;2;1;2;4;9;\"16\";\"15\";16\n",
        "\"GP\";\"M\";18;\"U\";\"GT3\";\"T\";4;3;\"teacher\";\"other\";\"course\";\"mother\";1;3;0;\"no\";\"yes\";\"yes\";\"no\";\"yes\";\"yes\";\"yes\";\"yes\";5;4;5;2;3;5;0;\"10\";\"10\";9\n",
        "\"GP\";\"F\";17;\"U\";\"GT3\";\"T\";4;3;\"health\";\"other\";\"reputation\";\"mother\";1;3;0;\"no\";\"yes\";\"yes\";\"yes\";\"yes\";\"yes\";\"yes\";\"yes\";4;4;3;1;3;4;0;\"13\";\"15\";15\n",
        "\"MS\";\"M\";18;\"R\";\"GT3\";\"T\";3;2;\"other\";\"other\";\"course\";\"mother\";2;1;1;\"no\";\"yes\";\"no\";\"no\";\"no\";\"yes\";\"yes\";\"no\";2;5;5;5;5;5;10;\"11\";\"13\";13\n",
        "\"MS\";\"M\";19;\"R\";\"GT3\";\"T\";1;1;\"other\";\"services\";\"home\";\"other\";3;2;3;\"no\";\"no\";\"no\";\"no\";\"yes\";\"yes\";\"yes\";\"no\";5;4;4;3;3;2;8;\"8\";\"7\";8\n",
        "\"MS\";\"M\";17;\"U\";\"GT3\";\"T\";3;3;\"health\";\"other\";\"course\";\"mother\";2;2;0;\"no\";\"yes\";\"yes\";\"no\";\"yes\";\"yes\";\"yes\";\"no\";4;5;4;2;3;3;2;\"13\";\"13\";13\n",
        "\"MS\";\"M\";18;\"U\";\"LE3\";\"T\";1;3;\"at_home\";\"services\";\"course\";\"mother\";1;1;1;\"no\";\"no\";\"no\";\"no\";\"yes\";\"no\";\"yes\";\"yes\";4;3;3;2;3;3;7;\"8\";\"7\";8\n",
        "\"MS\";\"M\";19;\"R\";\"GT3\";\"T\";1;1;\"other\";\"other\";\"home\";\"other\";3;1;1;\"no\";\"yes\";\"no\";\"no\";\"yes\";\"yes\";\"yes\";\"no\";4;4;4;3;3;5;4;\"8\";\"8\";8\n",
        "\"MS\";\"M\";17;\"R\";\"GT3\";\"T\";4;3;\"services\";\"other\";\"home\";\"mother\";2;2;0;\"no\";\"yes\";\"yes\";\"yes\";\"no\";\"yes\";\"yes\";\"yes\";4;5;5;1;3;2;4;\"13\";\"11\";11\n",
        "\"MS\";\"F\";18;\"U\";\"GT3\";\"T\";3;3;\"services\";\"services\";\"course\";\"father\";1;2;0;\"no\";\"yes\";\"no\";\"no\";\"yes\";\"yes\";\"no\";\"yes\";5;3;4;1;1;5;0;\"10\";\"9\";9\n",
        "\"MS\";\"F\";17;\"R\";\"GT3\";\"T\";4;4;\"teacher\";\"services\";\"other\";\"father\";2;2;0;\"no\";\"yes\";\"yes\";\"yes\";\"yes\";\"yes\";\"yes\";\"no\";4;3;3;1;2;5;4;\"12\";\"13\";13\n",
        "\"MS\";\"F\";17;\"U\";\"LE3\";\"A\";3;2;\"services\";\"other\";\"reputation\";\"mother\";2;2;0;\"no\";\"no\";\"no\";\"no\";\"yes\";\"yes\";\"no\";\"yes\";1;2;3;1;2;5;2;\"12\";\"12\";11\n",
        "\"MS\";\"M\";18;\"U\";\"LE3\";\"T\";1;1;\"other\";\"services\";\"home\";\"father\";2;1;0;\"no\";\"no\";\"no\";\"no\";\"no\";\"yes\";\"yes\";\"yes\";3;3;2;1;2;3;4;\"10\";\"10\";10\n",
        "\"MS\";\"F\";18;\"U\";\"LE3\";\"T\";1;1;\"at_home\";\"services\";\"course\";\"father\";2;3;0;\"no\";\"no\";\"no\";\"no\";\"yes\";\"yes\";\"yes\";\"no\";5;3;2;1;1;4;0;\"18\";\"16\";16\n",
        "\"MS\";\"F\";18;\"R\";\"LE3\";\"A\";1;4;\"at_home\";\"other\";\"course\";\"mother\";3;2;0;\"no\";\"no\";\"no\";\"no\";\"yes\";\"yes\";\"no\";\"yes\";4;3;4;1;4;5;0;\"13\";\"13\";13\n",
        "\"MS\";\"M\";18;\"R\";\"LE3\";\"T\";1;1;\"at_home\";\"other\";\"other\";\"mother\";2;2;1;\"no\";\"no\";\"no\";\"yes\";\"no\";\"no\";\"no\";\"no\";4;4;3;2;3;5;2;\"13\";\"12\";12\n",
        "\"MS\";\"F\";18;\"U\";\"GT3\";\"T\";3;3;\"services\";\"services\";\"other\";\"mother\";2;2;0;\"no\";\"yes\";\"no\";\"no\";\"yes\";\"yes\";\"yes\";\"yes\";4;3;2;1;3;3;0;\"11\";\"11\";10\n",
        "\"MS\";\"F\";17;\"U\";\"LE3\";\"T\";4;4;\"at_home\";\"at_home\";\"course\";\"mother\";1;2;0;\"no\";\"yes\";\"yes\";\"yes\";\"yes\";\"yes\";\"yes\";\"yes\";2;3;4;1;1;1;0;\"16\";\"15\";15\n",
        "\"MS\";\"F\";17;\"R\";\"GT3\";\"T\";1;2;\"other\";\"services\";\"course\";\"father\";2;2;0;\"no\";\"no\";\"no\";\"no\";\"no\";\"yes\";\"no\";\"no\";3;2;2;1;2;3;0;\"12\";\"11\";12\n",
        "\"MS\";\"M\";18;\"R\";\"GT3\";\"T\";1;3;\"at_home\";\"other\";\"course\";\"mother\";2;2;0;\"no\";\"yes\";\"yes\";\"no\";\"yes\";\"yes\";\"no\";\"no\";3;3;4;2;4;3;4;\"10\";\"10\";10\n",
        "\"MS\";\"M\";18;\"U\";\"LE3\";\"T\";4;4;\"teacher\";\"services\";\"other\";\"mother\";2;3;0;\"no\";\"no\";\"yes\";\"no\";\"yes\";\"yes\";\"yes\";\"yes\";4;2;2;2;2;5;0;\"13\";\"13\";13\n",
        "\"MS\";\"F\";17;\"R\";\"GT3\";\"T\";1;1;\"other\";\"services\";\"reputation\";\"mother\";3;1;1;\"no\";\"yes\";\"yes\";\"no\";\"yes\";\"yes\";\"yes\";\"yes\";5;2;1;1;2;1;0;\"7\";\"6\";0\n",
        "\"MS\";\"F\";18;\"U\";\"GT3\";\"T\";2;3;\"at_home\";\"services\";\"course\";\"father\";2;1;0;\"no\";\"yes\";\"yes\";\"no\";\"yes\";\"yes\";\"yes\";\"yes\";5;2;3;1;2;4;0;\"11\";\"10\";10\n",
        "\"MS\";\"F\";18;\"R\";\"GT3\";\"T\";4;4;\"other\";\"teacher\";\"other\";\"father\";3;2;0;\"no\";\"yes\";\"yes\";\"no\";\"no\";\"yes\";\"yes\";\"yes\";3;2;2;4;2;5;10;\"14\";\"12\";11\n",
        "\"MS\";\"F\";19;\"U\";\"LE3\";\"T\";3;2;\"services\";\"services\";\"home\";\"other\";2;2;2;\"no\";\"no\";\"no\";\"yes\";\"yes\";\"yes\";\"no\";\"yes\";3;2;2;1;1;3;4;\"7\";\"7\";9\n",
        "\"MS\";\"M\";18;\"R\";\"LE3\";\"T\";1;2;\"at_home\";\"services\";\"other\";\"father\";3;1;0;\"no\";\"yes\";\"yes\";\"yes\";\"yes\";\"no\";\"yes\";\"yes\";4;3;3;2;3;3;3;\"14\";\"12\";12\n",
        "\"MS\";\"F\";17;\"U\";\"GT3\";\"T\";2;2;\"other\";\"at_home\";\"home\";\"mother\";1;3;0;\"no\";\"no\";\"no\";\"yes\";\"yes\";\"yes\";\"no\";\"yes\";3;4;3;1;1;3;8;\"13\";\"11\";11\n",
        "\"MS\";\"F\";17;\"R\";\"GT3\";\"T\";1;2;\"other\";\"other\";\"course\";\"mother\";1;1;0;\"no\";\"no\";\"no\";\"yes\";\"yes\";\"yes\";\"yes\";\"no\";3;5;5;1;3;1;14;\"6\";\"5\";5\n",
        "\"MS\";\"F\";18;\"R\";\"LE3\";\"T\";4;4;\"other\";\"other\";\"reputation\";\"mother\";2;3;0;\"no\";\"no\";\"no\";\"no\";\"yes\";\"yes\";\"yes\";\"no\";5;4;4;1;1;1;0;\"19\";\"18\";19\n",
        "\"MS\";\"F\";18;\"R\";\"GT3\";\"T\";1;1;\"other\";\"other\";\"home\";\"mother\";4;3;0;\"no\";\"no\";\"no\";\"no\";\"yes\";\"yes\";\"yes\";\"no\";4;3;2;1;2;4;2;\"8\";\"8\";10\n",
        "\"MS\";\"F\";20;\"U\";\"GT3\";\"T\";4;2;\"health\";\"other\";\"course\";\"other\";2;3;2;\"no\";\"yes\";\"yes\";\"no\";\"no\";\"yes\";\"yes\";\"yes\";5;4;3;1;1;3;4;\"15\";\"14\";15\n",
        "\"MS\";\"F\";18;\"R\";\"LE3\";\"T\";4;4;\"teacher\";\"services\";\"course\";\"mother\";1;2;0;\"no\";\"no\";\"yes\";\"yes\";\"yes\";\"yes\";\"yes\";\"no\";5;4;3;3;4;2;4;\"8\";\"9\";10\n",
        "\"MS\";\"F\";18;\"U\";\"GT3\";\"T\";3;3;\"other\";\"other\";\"home\";\"mother\";1;2;0;\"no\";\"no\";\"yes\";\"no\";\"yes\";\"yes\";\"yes\";\"yes\";4;1;3;1;2;1;0;\"15\";\"15\";15\n",
        "\"MS\";\"F\";17;\"R\";\"GT3\";\"T\";3;1;\"at_home\";\"other\";\"reputation\";\"mother\";1;2;0;\"no\";\"yes\";\"yes\";\"yes\";\"no\";\"yes\";\"yes\";\"no\";4;5;4;2;3;1;17;\"10\";\"10\";10\n",
        "\"MS\";\"M\";18;\"U\";\"GT3\";\"T\";4;4;\"teacher\";\"teacher\";\"home\";\"father\";1;2;0;\"no\";\"no\";\"yes\";\"yes\";\"no\";\"yes\";\"yes\";\"no\";3;2;4;1;4;2;4;\"15\";\"14\";14\n",
        "\"MS\";\"M\";18;\"R\";\"GT3\";\"T\";2;1;\"other\";\"other\";\"other\";\"mother\";2;1;0;\"no\";\"no\";\"no\";\"yes\";\"no\";\"yes\";\"yes\";\"yes\";4;4;3;1;3;5;5;\"7\";\"6\";7\n",
        "\"MS\";\"M\";17;\"U\";\"GT3\";\"T\";2;3;\"other\";\"services\";\"home\";\"father\";2;2;0;\"no\";\"no\";\"no\";\"yes\";\"yes\";\"yes\";\"yes\";\"no\";4;4;3;1;1;3;2;\"11\";\"11\";10\n",
        "\"MS\";\"M\";19;\"R\";\"GT3\";\"T\";1;1;\"other\";\"services\";\"other\";\"mother\";2;1;1;\"no\";\"no\";\"no\";\"no\";\"yes\";\"yes\";\"no\";\"no\";4;3;2;1;3;5;0;\"6\";\"5\";0\n",
        "\"MS\";\"M\";18;\"R\";\"GT3\";\"T\";4;2;\"other\";\"other\";\"home\";\"father\";2;1;1;\"no\";\"no\";\"yes\";\"no\";\"yes\";\"yes\";\"no\";\"no\";5;4;3;4;3;3;14;\"6\";\"5\";5\n",
        "\"MS\";\"F\";18;\"R\";\"GT3\";\"T\";2;2;\"at_home\";\"other\";\"other\";\"mother\";2;3;0;\"no\";\"no\";\"yes\";\"no\";\"yes\";\"yes\";\"no\";\"no\";5;3;3;1;3;4;2;\"10\";\"9\";10\n",
        "\"MS\";\"F\";18;\"R\";\"GT3\";\"T\";4;4;\"teacher\";\"at_home\";\"reputation\";\"mother\";3;1;0;\"no\";\"yes\";\"yes\";\"yes\";\"yes\";\"yes\";\"yes\";\"yes\";4;4;3;2;2;5;7;\"6\";\"5\";6\n",
        "\"MS\";\"F\";19;\"R\";\"GT3\";\"T\";2;3;\"services\";\"other\";\"course\";\"mother\";1;3;1;\"no\";\"no\";\"no\";\"yes\";\"no\";\"yes\";\"yes\";\"no\";5;4;2;1;2;5;0;\"7\";\"5\";0\n",
        "\"MS\";\"F\";18;\"U\";\"LE3\";\"T\";3;1;\"teacher\";\"services\";\"course\";\"mother\";1;2;0;\"no\";\"yes\";\"yes\";\"no\";\"yes\";\"yes\";\"yes\";\"no\";4;3;4;1;1;1;0;\"7\";\"9\";8\n",
        "\"MS\";\"F\";18;\"U\";\"GT3\";\"T\";1;1;\"other\";\"other\";\"course\";\"mother\";2;2;1;\"no\";\"no\";\"no\";\"yes\";\"yes\";\"yes\";\"no\";\"no\";1;1;1;1;1;5;0;\"6\";\"5\";0\n",
        "\"MS\";\"M\";20;\"U\";\"LE3\";\"A\";2;2;\"services\";\"services\";\"course\";\"other\";1;2;2;\"no\";\"yes\";\"yes\";\"no\";\"yes\";\"yes\";\"no\";\"no\";5;5;4;4;5;4;11;\"9\";\"9\";9\n",
        "\"MS\";\"M\";17;\"U\";\"LE3\";\"T\";3;1;\"services\";\"services\";\"course\";\"mother\";2;1;0;\"no\";\"no\";\"no\";\"no\";\"no\";\"yes\";\"yes\";\"no\";2;4;5;3;4;2;3;\"14\";\"16\";16\n",
        "\"MS\";\"M\";21;\"R\";\"GT3\";\"T\";1;1;\"other\";\"other\";\"course\";\"other\";1;1;3;\"no\";\"no\";\"no\";\"no\";\"no\";\"yes\";\"no\";\"no\";5;5;3;3;3;3;3;\"10\";\"8\";7\n",
        "\"MS\";\"M\";18;\"R\";\"LE3\";\"T\";3;2;\"services\";\"other\";\"course\";\"mother\";3;1;0;\"no\";\"no\";\"no\";\"no\";\"no\";\"yes\";\"yes\";\"no\";4;4;1;3;4;5;0;\"11\";\"12\";10\n",
        "\"MS\";\"M\";19;\"U\";\"LE3\";\"T\";1;1;\"other\";\"at_home\";\"course\";\"father\";1;1;0;\"no\";\"no\";\"no\";\"no\";\"yes\";\"yes\";\"yes\";\"no\";3;2;3;3;3;5;5;\"8\";\"9\";9''')\n"
      ]
    },
    {
      "cell_type": "code",
      "execution_count": null,
      "metadata": {},
      "outputs": [],
      "source": []
    }
  ]
}